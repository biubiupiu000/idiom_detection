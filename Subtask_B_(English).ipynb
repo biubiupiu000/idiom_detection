{
  "cells": [
    {
      "cell_type": "markdown",
      "metadata": {
        "id": "WHcSu4YsHhfq"
      },
      "source": [
        "# Introduction: Subtask B **ENGLISH — BERTRAM**\n",
        "\n",
        "Based on Baseline Model of [Subtask B of SemEval 2022 Task 2](https://sites.google.com/view/semeval2022task2-idiomaticity#h.qq7eefmehqf9). \n",
        "\n",
        "Original paper: “[AStitchInLanguageModels: Dataset and Methods for the Exploration of Idiomaticity in Pre-Trained Language Models](https://arxiv.org/abs/2109.04413)”.\n",
        "\n",
        "Phelps: https://arxiv.org/abs/2204.02821\n",
        "\n",
        "## Pre-train only setting: Methodology \n",
        "\n",
        "### Requirements\n",
        "\n",
        "- NOT allowed to train models using the idiom based training data provided. \n",
        "- Train models using STS data. \n",
        "- Note that models such as BERT typically do not output embeddings that can be compared using STS and so this is actually required.\n",
        "\n",
        "### Phelps' Paper\n",
        "\n",
        "- Use pre-trained BERTRAM models to create representations for idiomatic expressions. Pre-trained BERTRAM here: https://github.com/timoschick/bertram.\n",
        "- 3 epochs of context-only training, 10 epochs of form-only training and 3 epochs of combined training.\n",
        "\n",
        "### Architecture\n",
        "\n",
        "0. BERTRAM embeddings for idioms -> Embedding matrix of pre-trained [BERT-Base](https://doi.org/10.18653/v1/N19-1423) model.\n",
        "\n",
        "1. WRAPPED IN [Sentence BERT](https://doi.org/10.18653/v1/D19-1410).\n",
        "\n",
        "2. Find cosine similarity between a given pair of sentences.\n",
        "\n",
        "### Data\n",
        "\n",
        "0. Pre-train: \n",
        "The methodology used for the pre-train only setting involves the introduction of new tokens associated with each MWE. Note, that we do not actually continue pre-training our models so these embeddings remain random. Despite its simplicity, this method has been shown (by the above paper) to be a good way of ensuring that compositionality is “broken”. Note that it is possible to pre-train these models on sentences containing these MWEs as long as such data is not annotated for idiomaticity. Please also see the paper for more details.\n",
        "\n",
        "Note that we must replace MWEs occurring in the evaluation data with the tokens we’ve chosen. \n",
        "\n",
        "For this setting, we use multilingual BERT with new tokens added as described above.\n",
        "\n",
        "## Fine-tune setting: Methodology\n",
        "\n",
        "For the fine-tune setting, we fine-tune the model (with the MWE tokens added) using the training data provided. \n",
        "\n",
        "Note that we must replace MWEs occurring in both the training and evaluation data with the tokens we’ve chosen. \n",
        "\n",
        "For this setting, we use the same model as in the pre-train setting (multilingual BERT with new tokens added), but additionally fine-tune on the training data provided.\n"
      ]
    },
    {
      "cell_type": "markdown",
      "metadata": {
        "id": "J47BV1E4o_O3"
      },
      "source": [
        "# Setup"
      ]
    },
    {
      "cell_type": "markdown",
      "metadata": {
        "id": "aUgHQWtTLD6d"
      },
      "source": [
        "Download the “AStitchInLanguageModels” code which we make use of. \n"
      ]
    },
    {
      "cell_type": "code",
      "execution_count": null,
      "metadata": {
        "colab": {
          "base_uri": "https://localhost:8080/"
        },
        "id": "oxXK6P2bScIB",
        "outputId": "2ab39a9c-96b4-466a-aeba-c87c52cfdbdb"
      },
      "outputs": [
        {
          "name": "stdout",
          "output_type": "stream",
          "text": [
            "drive  sample_data\n"
          ]
        }
      ],
      "source": [
        "!ls"
      ]
    },
    {
      "cell_type": "markdown",
      "metadata": {
        "id": "BERCnooqSHus"
      },
      "source": [
        "## Download Pre-Trained BERTRAM"
      ]
    },
    {
      "cell_type": "code",
      "execution_count": null,
      "metadata": {
        "id": "Vmxzq8Zk_7O5",
        "colab": {
          "base_uri": "https://localhost:8080/"
        },
        "outputId": "dbb81f00-3637-466d-dd38-fde1327a569e"
      },
      "outputs": [
        {
          "metadata": {
            "tags": null
          },
          "name": "stdout",
          "output_type": "stream",
          "text": [
            "fatal: destination path 'bertram' already exists and is not an empty directory.\n",
            "fatal: destination path 'form-context-model' already exists and is not an empty directory.\n",
            "Requirement already satisfied: jsonpickle in /usr/local/lib/python3.7/dist-packages (2.1.0)\n",
            "Requirement already satisfied: importlib-metadata in /usr/local/lib/python3.7/dist-packages (from jsonpickle) (4.11.3)\n",
            "Requirement already satisfied: typing-extensions>=3.6.4 in /usr/local/lib/python3.7/dist-packages (from importlib-metadata->jsonpickle) (4.2.0)\n",
            "Requirement already satisfied: zipp>=0.5 in /usr/local/lib/python3.7/dist-packages (from importlib-metadata->jsonpickle) (3.8.0)\n"
          ]
        }
      ],
      "source": [
        "import sys\n",
        "!git clone https://github.com/timoschick/bertram.git\n",
        "!git clone https://github.com/timoschick/form-context-model.git\n",
        "!pip install jsonpickle\n",
        "sys.path.append('bertram/')\n",
        "sys.path.append('form-context-model/')"
      ]
    },
    {
      "cell_type": "code",
      "execution_count": null,
      "metadata": {
        "id": "BnP5aATzcuBt"
      },
      "outputs": [],
      "source": [
        "!mkdir bertram_models"
      ]
    },
    {
      "cell_type": "markdown",
      "source": [
        "### Step 2: Get Pretrained BERTRAM Models\n",
        "\n",
        "Chose **ONE** from the following two options."
      ],
      "metadata": {
        "id": "2zoyaUYXqGq7"
      }
    },
    {
      "cell_type": "markdown",
      "metadata": {
        "id": "tefdQfL1_f-s"
      },
      "source": [
        "#### Option 1: Copy Pretrained BERTRAM from Drive (Recommended)"
      ]
    },
    {
      "cell_type": "code",
      "execution_count": null,
      "metadata": {
        "colab": {
          "base_uri": "https://localhost:8080/"
        },
        "id": "huzgKm8irPga",
        "outputId": "1e202fc6-86fc-44fa-bda1-ba849b9664e9"
      },
      "outputs": [
        {
          "output_type": "stream",
          "name": "stdout",
          "text": [
            "Drive already mounted at /content/drive; to attempt to forcibly remount, call drive.mount(\"/content/drive\", force_remount=True).\n"
          ]
        }
      ],
      "source": [
        "from google.colab import drive\n",
        "drive.mount('/content/drive')\n",
        "\n",
        "# ROBERTA\n",
        "!cp \"drive/Shareddrives/Multilingual Idiods/bertram_models/bertram-add-for-roberta-large.zip\" \"bertram_models\"\n",
        "\n",
        "# BERT BASE UNCASED\n",
        "# !cp \"drive/Shareddrives/Multilingual Idiods/bertram_models/bertram-add-for-bert-base-uncased.zip\" \"bertram_models\""
      ]
    },
    {
      "cell_type": "markdown",
      "metadata": {
        "id": "DNnfpfwK_P6p"
      },
      "source": [
        "#### Option 2: Download Directly Via Colab\n",
        "If this approach does not work, please download the pretrained BERTRAM models from [here](https://github.com/timoschick/bertram#-usage) and copy the zip files to your Colab instance."
      ]
    },
    {
      "cell_type": "code",
      "execution_count": null,
      "metadata": {
        "colab": {
          "base_uri": "https://localhost:8080/"
        },
        "id": "Af3TNCBASHWI",
        "outputId": "602899ff-34ab-47c6-8a0e-43a009b1e8b7"
      },
      "outputs": [
        {
          "name": "stdout",
          "output_type": "stream",
          "text": [
            "/bertram_models/bertram-add-for-bert-base-uncased.zip: Not a directory\n"
          ]
        }
      ],
      "source": [
        "!wget  -O '/bertram_models' 'https://www.cis.uni-muenchen.de/~schickt/bertram-add-for-bert-base-uncased.zip'"
      ]
    },
    {
      "cell_type": "code",
      "execution_count": null,
      "metadata": {
        "colab": {
          "base_uri": "https://localhost:8080/"
        },
        "id": "oZMP5VdpSTdT",
        "outputId": "f368a53d-204d-4c9e-f1bb-5514d27ba198"
      },
      "outputs": [
        {
          "name": "stdout",
          "output_type": "stream",
          "text": [
            "--2022-05-10 20:38:17--  https://www.cis.uni-muenchen.de/~schickt/bertram-add-for-roberta-large.zip\n",
            "Resolving www.cis.uni-muenchen.de (www.cis.uni-muenchen.de)... 129.187.148.72, 2001:4ca0:4f01::5\n",
            "Connecting to www.cis.uni-muenchen.de (www.cis.uni-muenchen.de)|129.187.148.72|:443... connected.\n",
            "HTTP request sent, awaiting response... 200 OK\n",
            "Length: 1175306974 (1.1G) [application/zip]\n",
            "Saving to: ‘/bertram_models’\n",
            "\n",
            "/bertram_models     100%[===================>]   1.09G  25.4MB/s    in 45s     \n",
            "\n",
            "2022-05-10 20:39:02 (25.2 MB/s) - ‘/bertram_models’ saved [1175306974/1175306974]\n",
            "\n"
          ]
        }
      ],
      "source": [
        "!wget  -O '/bertram_models' 'https://www.cis.uni-muenchen.de/~schickt/bertram-add-for-roberta-large.zip'"
      ]
    },
    {
      "cell_type": "markdown",
      "source": [
        "### Step 3: Unzip Pretrained Models"
      ],
      "metadata": {
        "id": "RVr6GOWip79D"
      }
    },
    {
      "cell_type": "code",
      "execution_count": null,
      "metadata": {
        "id": "i8Hs99jmAC5Y",
        "colab": {
          "base_uri": "https://localhost:8080/"
        },
        "outputId": "6434b214-1b1b-4ecb-b22d-4ed1098e1d24"
      },
      "outputs": [
        {
          "output_type": "stream",
          "name": "stdout",
          "text": [
            "Archive:  bertram_models/bertram-add-for-roberta-large.zip\n",
            "   creating: bertram-add-for-roberta-large/\n",
            "  inflating: bertram-add-for-roberta-large/bertram_config.json  \n",
            "  inflating: bertram-add-for-roberta-large/config.json  \n",
            "  inflating: bertram-add-for-roberta-large/input_processor.json  \n",
            "  inflating: bertram-add-for-roberta-large/input_processor.json.vocab  \n",
            "  inflating: bertram-add-for-roberta-large/pytorch_model.bin  \n"
          ]
        }
      ],
      "source": [
        "# Bert base uncased\n",
        "# !unzip \"bertram_models/bertram-add-for-bert-base-uncased.zip\"\n",
        "\n",
        "# Roberta\n",
        "!unzip \"bertram_models/bertram-add-for-roberta-large.zip\""
      ]
    },
    {
      "cell_type": "markdown",
      "metadata": {
        "id": "X2Y31tK9rQrR"
      },
      "source": [
        "## Download Helper Code"
      ]
    },
    {
      "cell_type": "code",
      "execution_count": null,
      "metadata": {
        "id": "geujwNfqoasd",
        "colab": {
          "base_uri": "https://localhost:8080/"
        },
        "outputId": "4a46f5f1-428e-40e5-95da-a4a64db4248f"
      },
      "outputs": [
        {
          "output_type": "stream",
          "name": "stdout",
          "text": [
            "Cloning into 'AStitchInLanguageModels'...\n",
            "remote: Enumerating objects: 1030, done.\u001b[K\n",
            "remote: Counting objects: 100% (17/17), done.\u001b[K\n",
            "remote: Compressing objects: 100% (13/13), done.\u001b[K\n",
            "remote: Total 1030 (delta 11), reused 4 (delta 4), pack-reused 1013\u001b[K\n",
            "Receiving objects: 100% (1030/1030), 79.59 MiB | 12.03 MiB/s, done.\n",
            "Resolving deltas: 100% (394/394), done.\n"
          ]
        }
      ],
      "source": [
        "!git clone https://github.com/H-TayyarMadabushi/AStitchInLanguageModels.git"
      ]
    },
    {
      "cell_type": "markdown",
      "metadata": {
        "id": "UtJRoEepLlUZ"
      },
      "source": [
        "Install the modified version of Sentence Transformers which can handle the additional MWE tokens. \n",
        "\n",
        "Sentence Transformers provide a way of generating sentence embeddings the semantic similarity of which can be compared using cosine similarity. \n"
      ]
    },
    {
      "cell_type": "code",
      "execution_count": null,
      "metadata": {
        "id": "-8YXlaVDpDEG",
        "colab": {
          "base_uri": "https://localhost:8080/"
        },
        "outputId": "24fc4718-7cfb-4f20-b8fb-519634b98826"
      },
      "outputs": [
        {
          "output_type": "stream",
          "name": "stdout",
          "text": [
            "/content/AStitchInLanguageModels/dependencies/sentence-transformers\n",
            "Obtaining file:///content/AStitchInLanguageModels/dependencies/sentence-transformers\n",
            "Collecting transformers<5.0.0,>=3.1.0\n",
            "  Downloading transformers-4.18.0-py3-none-any.whl (4.0 MB)\n",
            "\u001b[K     |████████████████████████████████| 4.0 MB 3.9 MB/s \n",
            "\u001b[?25hRequirement already satisfied: tqdm in /usr/local/lib/python3.7/dist-packages (from sentence-transformers==1.1.0) (4.64.0)\n",
            "Requirement already satisfied: torch>=1.6.0 in /usr/local/lib/python3.7/dist-packages (from sentence-transformers==1.1.0) (1.11.0+cu113)\n",
            "Requirement already satisfied: numpy in /usr/local/lib/python3.7/dist-packages (from sentence-transformers==1.1.0) (1.21.6)\n",
            "Requirement already satisfied: scikit-learn in /usr/local/lib/python3.7/dist-packages (from sentence-transformers==1.1.0) (1.0.2)\n",
            "Requirement already satisfied: scipy in /usr/local/lib/python3.7/dist-packages (from sentence-transformers==1.1.0) (1.4.1)\n",
            "Requirement already satisfied: nltk in /usr/local/lib/python3.7/dist-packages (from sentence-transformers==1.1.0) (3.2.5)\n",
            "Collecting sentencepiece\n",
            "  Downloading sentencepiece-0.1.96-cp37-cp37m-manylinux_2_17_x86_64.manylinux2014_x86_64.whl (1.2 MB)\n",
            "\u001b[K     |████████████████████████████████| 1.2 MB 41.5 MB/s \n",
            "\u001b[?25hRequirement already satisfied: typing-extensions in /usr/local/lib/python3.7/dist-packages (from torch>=1.6.0->sentence-transformers==1.1.0) (4.2.0)\n",
            "Collecting huggingface-hub<1.0,>=0.1.0\n",
            "  Downloading huggingface_hub-0.5.1-py3-none-any.whl (77 kB)\n",
            "\u001b[K     |████████████████████████████████| 77 kB 6.6 MB/s \n",
            "\u001b[?25hRequirement already satisfied: importlib-metadata in /usr/local/lib/python3.7/dist-packages (from transformers<5.0.0,>=3.1.0->sentence-transformers==1.1.0) (4.11.3)\n",
            "Collecting tokenizers!=0.11.3,<0.13,>=0.11.1\n",
            "  Downloading tokenizers-0.12.1-cp37-cp37m-manylinux_2_12_x86_64.manylinux2010_x86_64.whl (6.6 MB)\n",
            "\u001b[K     |████████████████████████████████| 6.6 MB 33.1 MB/s \n",
            "\u001b[?25hRequirement already satisfied: requests in /usr/local/lib/python3.7/dist-packages (from transformers<5.0.0,>=3.1.0->sentence-transformers==1.1.0) (2.23.0)\n",
            "Requirement already satisfied: filelock in /usr/local/lib/python3.7/dist-packages (from transformers<5.0.0,>=3.1.0->sentence-transformers==1.1.0) (3.6.0)\n",
            "Collecting sacremoses\n",
            "  Downloading sacremoses-0.0.53.tar.gz (880 kB)\n",
            "\u001b[K     |████████████████████████████████| 880 kB 42.5 MB/s \n",
            "\u001b[?25hRequirement already satisfied: regex!=2019.12.17 in /usr/local/lib/python3.7/dist-packages (from transformers<5.0.0,>=3.1.0->sentence-transformers==1.1.0) (2019.12.20)\n",
            "Requirement already satisfied: packaging>=20.0 in /usr/local/lib/python3.7/dist-packages (from transformers<5.0.0,>=3.1.0->sentence-transformers==1.1.0) (21.3)\n",
            "Collecting pyyaml>=5.1\n",
            "  Downloading PyYAML-6.0-cp37-cp37m-manylinux_2_5_x86_64.manylinux1_x86_64.manylinux_2_12_x86_64.manylinux2010_x86_64.whl (596 kB)\n",
            "\u001b[K     |████████████████████████████████| 596 kB 47.8 MB/s \n",
            "\u001b[?25hRequirement already satisfied: pyparsing!=3.0.5,>=2.0.2 in /usr/local/lib/python3.7/dist-packages (from packaging>=20.0->transformers<5.0.0,>=3.1.0->sentence-transformers==1.1.0) (3.0.8)\n",
            "Requirement already satisfied: zipp>=0.5 in /usr/local/lib/python3.7/dist-packages (from importlib-metadata->transformers<5.0.0,>=3.1.0->sentence-transformers==1.1.0) (3.8.0)\n",
            "Requirement already satisfied: six in /usr/local/lib/python3.7/dist-packages (from nltk->sentence-transformers==1.1.0) (1.15.0)\n",
            "Requirement already satisfied: chardet<4,>=3.0.2 in /usr/local/lib/python3.7/dist-packages (from requests->transformers<5.0.0,>=3.1.0->sentence-transformers==1.1.0) (3.0.4)\n",
            "Requirement already satisfied: certifi>=2017.4.17 in /usr/local/lib/python3.7/dist-packages (from requests->transformers<5.0.0,>=3.1.0->sentence-transformers==1.1.0) (2021.10.8)\n",
            "Requirement already satisfied: urllib3!=1.25.0,!=1.25.1,<1.26,>=1.21.1 in /usr/local/lib/python3.7/dist-packages (from requests->transformers<5.0.0,>=3.1.0->sentence-transformers==1.1.0) (1.24.3)\n",
            "Requirement already satisfied: idna<3,>=2.5 in /usr/local/lib/python3.7/dist-packages (from requests->transformers<5.0.0,>=3.1.0->sentence-transformers==1.1.0) (2.10)\n",
            "Requirement already satisfied: click in /usr/local/lib/python3.7/dist-packages (from sacremoses->transformers<5.0.0,>=3.1.0->sentence-transformers==1.1.0) (7.1.2)\n",
            "Requirement already satisfied: joblib in /usr/local/lib/python3.7/dist-packages (from sacremoses->transformers<5.0.0,>=3.1.0->sentence-transformers==1.1.0) (1.1.0)\n",
            "Requirement already satisfied: threadpoolctl>=2.0.0 in /usr/local/lib/python3.7/dist-packages (from scikit-learn->sentence-transformers==1.1.0) (3.1.0)\n",
            "Building wheels for collected packages: sacremoses\n",
            "  Building wheel for sacremoses (setup.py) ... \u001b[?25l\u001b[?25hdone\n",
            "  Created wheel for sacremoses: filename=sacremoses-0.0.53-py3-none-any.whl size=895260 sha256=06e8e9983f56c3c613b019c2f3105fd6f544f640bf51b353498246632fed76e8\n",
            "  Stored in directory: /root/.cache/pip/wheels/87/39/dd/a83eeef36d0bf98e7a4d1933a4ad2d660295a40613079bafc9\n",
            "Successfully built sacremoses\n",
            "Installing collected packages: pyyaml, tokenizers, sacremoses, huggingface-hub, transformers, sentencepiece, sentence-transformers\n",
            "  Attempting uninstall: pyyaml\n",
            "    Found existing installation: PyYAML 3.13\n",
            "    Uninstalling PyYAML-3.13:\n",
            "      Successfully uninstalled PyYAML-3.13\n",
            "  Running setup.py develop for sentence-transformers\n",
            "Successfully installed huggingface-hub-0.5.1 pyyaml-6.0 sacremoses-0.0.53 sentence-transformers-1.1.0 sentencepiece-0.1.96 tokenizers-0.12.1 transformers-4.18.0\n",
            "/content\n"
          ]
        }
      ],
      "source": [
        "%cd AStitchInLanguageModels/dependencies/sentence-transformers\n",
        "!pip install -e . \n",
        "%cd /content/"
      ]
    },
    {
      "cell_type": "markdown",
      "metadata": {
        "id": "grEnfIGUL7zt"
      },
      "source": [
        "Download and install an editable version of huggingfaces transformers. "
      ]
    },
    {
      "cell_type": "code",
      "execution_count": null,
      "metadata": {
        "id": "a_KlnQ5Ue6KR",
        "colab": {
          "base_uri": "https://localhost:8080/"
        },
        "outputId": "e488d9d1-dc49-4ea2-c9f5-91647e0bf051"
      },
      "outputs": [
        {
          "output_type": "stream",
          "name": "stdout",
          "text": [
            "Cloning into 'transformers'...\n",
            "remote: Enumerating objects: 94094, done.\u001b[K\n",
            "remote: Counting objects: 100% (382/382), done.\u001b[K\n",
            "remote: Compressing objects: 100% (182/182), done.\u001b[K\n",
            "remote: Total 94094 (delta 242), reused 303 (delta 188), pack-reused 93712\u001b[K\n",
            "Receiving objects: 100% (94094/94094), 86.12 MiB | 11.45 MiB/s, done.\n",
            "Resolving deltas: 100% (69010/69010), done.\n",
            "/content/transformers\n",
            "Obtaining file:///content/transformers\n",
            "  Installing build dependencies ... \u001b[?25l\u001b[?25hdone\n",
            "  Getting requirements to build wheel ... \u001b[?25l\u001b[?25hdone\n",
            "    Preparing wheel metadata ... \u001b[?25l\u001b[?25hdone\n",
            "Requirement already satisfied: tqdm>=4.27 in /usr/local/lib/python3.7/dist-packages (from transformers==4.19.0.dev0) (4.64.0)\n",
            "Requirement already satisfied: pyyaml>=5.1 in /usr/local/lib/python3.7/dist-packages (from transformers==4.19.0.dev0) (6.0)\n",
            "Requirement already satisfied: filelock in /usr/local/lib/python3.7/dist-packages (from transformers==4.19.0.dev0) (3.6.0)\n",
            "Requirement already satisfied: packaging>=20.0 in /usr/local/lib/python3.7/dist-packages (from transformers==4.19.0.dev0) (21.3)\n",
            "Requirement already satisfied: regex!=2019.12.17 in /usr/local/lib/python3.7/dist-packages (from transformers==4.19.0.dev0) (2019.12.20)\n",
            "Requirement already satisfied: requests in /usr/local/lib/python3.7/dist-packages (from transformers==4.19.0.dev0) (2.23.0)\n",
            "Requirement already satisfied: tokenizers!=0.11.3,<0.13,>=0.11.1 in /usr/local/lib/python3.7/dist-packages (from transformers==4.19.0.dev0) (0.12.1)\n",
            "Requirement already satisfied: numpy>=1.17 in /usr/local/lib/python3.7/dist-packages (from transformers==4.19.0.dev0) (1.21.6)\n",
            "Requirement already satisfied: huggingface-hub<1.0,>=0.1.0 in /usr/local/lib/python3.7/dist-packages (from transformers==4.19.0.dev0) (0.5.1)\n",
            "Requirement already satisfied: importlib-metadata in /usr/local/lib/python3.7/dist-packages (from transformers==4.19.0.dev0) (4.11.3)\n",
            "Requirement already satisfied: typing-extensions>=3.7.4.3 in /usr/local/lib/python3.7/dist-packages (from huggingface-hub<1.0,>=0.1.0->transformers==4.19.0.dev0) (4.2.0)\n",
            "Requirement already satisfied: pyparsing!=3.0.5,>=2.0.2 in /usr/local/lib/python3.7/dist-packages (from packaging>=20.0->transformers==4.19.0.dev0) (3.0.8)\n",
            "Requirement already satisfied: zipp>=0.5 in /usr/local/lib/python3.7/dist-packages (from importlib-metadata->transformers==4.19.0.dev0) (3.8.0)\n",
            "Requirement already satisfied: certifi>=2017.4.17 in /usr/local/lib/python3.7/dist-packages (from requests->transformers==4.19.0.dev0) (2021.10.8)\n",
            "Requirement already satisfied: idna<3,>=2.5 in /usr/local/lib/python3.7/dist-packages (from requests->transformers==4.19.0.dev0) (2.10)\n",
            "Requirement already satisfied: chardet<4,>=3.0.2 in /usr/local/lib/python3.7/dist-packages (from requests->transformers==4.19.0.dev0) (3.0.4)\n",
            "Requirement already satisfied: urllib3!=1.25.0,!=1.25.1,<1.26,>=1.21.1 in /usr/local/lib/python3.7/dist-packages (from requests->transformers==4.19.0.dev0) (1.24.3)\n",
            "Installing collected packages: transformers\n",
            "  Attempting uninstall: transformers\n",
            "    Found existing installation: transformers 4.18.0\n",
            "    Uninstalling transformers-4.18.0:\n",
            "      Successfully uninstalled transformers-4.18.0\n",
            "  Running setup.py develop for transformers\n",
            "Successfully installed transformers\n",
            "/content\n"
          ]
        }
      ],
      "source": [
        "!git clone https://github.com/huggingface/transformers.git\n",
        "%cd transformers/\n",
        "!pip install --editable .\n",
        "%cd /content/"
      ]
    },
    {
      "cell_type": "code",
      "execution_count": null,
      "metadata": {
        "id": "xWPWLrzxwCE-",
        "colab": {
          "base_uri": "https://localhost:8080/"
        },
        "outputId": "d10ce7f8-bc52-46f5-a699-2379dfd386a8"
      },
      "outputs": [
        {
          "output_type": "stream",
          "name": "stdout",
          "text": [
            "Collecting datasets\n",
            "  Downloading datasets-2.2.0-py3-none-any.whl (342 kB)\n",
            "\u001b[?25l\r\u001b[K     |█                               | 10 kB 29.1 MB/s eta 0:00:01\r\u001b[K     |██                              | 20 kB 14.9 MB/s eta 0:00:01\r\u001b[K     |██▉                             | 30 kB 7.9 MB/s eta 0:00:01\r\u001b[K     |███▉                            | 40 kB 3.6 MB/s eta 0:00:01\r\u001b[K     |████▉                           | 51 kB 3.6 MB/s eta 0:00:01\r\u001b[K     |█████▊                          | 61 kB 4.3 MB/s eta 0:00:01\r\u001b[K     |██████▊                         | 71 kB 4.4 MB/s eta 0:00:01\r\u001b[K     |███████▋                        | 81 kB 5.0 MB/s eta 0:00:01\r\u001b[K     |████████▋                       | 92 kB 5.1 MB/s eta 0:00:01\r\u001b[K     |█████████▋                      | 102 kB 4.3 MB/s eta 0:00:01\r\u001b[K     |██████████▌                     | 112 kB 4.3 MB/s eta 0:00:01\r\u001b[K     |███████████▌                    | 122 kB 4.3 MB/s eta 0:00:01\r\u001b[K     |████████████▌                   | 133 kB 4.3 MB/s eta 0:00:01\r\u001b[K     |█████████████▍                  | 143 kB 4.3 MB/s eta 0:00:01\r\u001b[K     |██████████████▍                 | 153 kB 4.3 MB/s eta 0:00:01\r\u001b[K     |███████████████▎                | 163 kB 4.3 MB/s eta 0:00:01\r\u001b[K     |████████████████▎               | 174 kB 4.3 MB/s eta 0:00:01\r\u001b[K     |█████████████████▎              | 184 kB 4.3 MB/s eta 0:00:01\r\u001b[K     |██████████████████▏             | 194 kB 4.3 MB/s eta 0:00:01\r\u001b[K     |███████████████████▏            | 204 kB 4.3 MB/s eta 0:00:01\r\u001b[K     |████████████████████            | 215 kB 4.3 MB/s eta 0:00:01\r\u001b[K     |█████████████████████           | 225 kB 4.3 MB/s eta 0:00:01\r\u001b[K     |██████████████████████          | 235 kB 4.3 MB/s eta 0:00:01\r\u001b[K     |███████████████████████         | 245 kB 4.3 MB/s eta 0:00:01\r\u001b[K     |████████████████████████        | 256 kB 4.3 MB/s eta 0:00:01\r\u001b[K     |█████████████████████████       | 266 kB 4.3 MB/s eta 0:00:01\r\u001b[K     |█████████████████████████▉      | 276 kB 4.3 MB/s eta 0:00:01\r\u001b[K     |██████████████████████████▉     | 286 kB 4.3 MB/s eta 0:00:01\r\u001b[K     |███████████████████████████▊    | 296 kB 4.3 MB/s eta 0:00:01\r\u001b[K     |████████████████████████████▊   | 307 kB 4.3 MB/s eta 0:00:01\r\u001b[K     |█████████████████████████████▊  | 317 kB 4.3 MB/s eta 0:00:01\r\u001b[K     |██████████████████████████████▋ | 327 kB 4.3 MB/s eta 0:00:01\r\u001b[K     |███████████████████████████████▋| 337 kB 4.3 MB/s eta 0:00:01\r\u001b[K     |████████████████████████████████| 342 kB 4.3 MB/s \n",
            "\u001b[?25hRequirement already satisfied: pyarrow>=6.0.0 in /usr/local/lib/python3.7/dist-packages (from datasets) (6.0.1)\n",
            "Requirement already satisfied: tqdm>=4.62.1 in /usr/local/lib/python3.7/dist-packages (from datasets) (4.64.0)\n",
            "Requirement already satisfied: multiprocess in /usr/local/lib/python3.7/dist-packages (from datasets) (0.70.12.2)\n",
            "Requirement already satisfied: pandas in /usr/local/lib/python3.7/dist-packages (from datasets) (1.3.5)\n",
            "Requirement already satisfied: numpy>=1.17 in /usr/local/lib/python3.7/dist-packages (from datasets) (1.21.6)\n",
            "Requirement already satisfied: requests>=2.19.0 in /usr/local/lib/python3.7/dist-packages (from datasets) (2.23.0)\n",
            "Requirement already satisfied: dill in /usr/local/lib/python3.7/dist-packages (from datasets) (0.3.4)\n",
            "Collecting responses<0.19\n",
            "  Downloading responses-0.18.0-py3-none-any.whl (38 kB)\n",
            "Requirement already satisfied: huggingface-hub<1.0.0,>=0.1.0 in /usr/local/lib/python3.7/dist-packages (from datasets) (0.5.1)\n",
            "Collecting xxhash\n",
            "  Downloading xxhash-3.0.0-cp37-cp37m-manylinux_2_17_x86_64.manylinux2014_x86_64.whl (212 kB)\n",
            "\u001b[K     |████████████████████████████████| 212 kB 47.0 MB/s \n",
            "\u001b[?25hCollecting aiohttp\n",
            "  Downloading aiohttp-3.8.1-cp37-cp37m-manylinux_2_5_x86_64.manylinux1_x86_64.manylinux_2_12_x86_64.manylinux2010_x86_64.whl (1.1 MB)\n",
            "\u001b[K     |████████████████████████████████| 1.1 MB 40.1 MB/s \n",
            "\u001b[?25hRequirement already satisfied: packaging in /usr/local/lib/python3.7/dist-packages (from datasets) (21.3)\n",
            "Collecting fsspec[http]>=2021.05.0\n",
            "  Downloading fsspec-2022.3.0-py3-none-any.whl (136 kB)\n",
            "\u001b[K     |████████████████████████████████| 136 kB 47.4 MB/s \n",
            "\u001b[?25hRequirement already satisfied: importlib-metadata in /usr/local/lib/python3.7/dist-packages (from datasets) (4.11.3)\n",
            "Requirement already satisfied: pyyaml in /usr/local/lib/python3.7/dist-packages (from huggingface-hub<1.0.0,>=0.1.0->datasets) (6.0)\n",
            "Requirement already satisfied: filelock in /usr/local/lib/python3.7/dist-packages (from huggingface-hub<1.0.0,>=0.1.0->datasets) (3.6.0)\n",
            "Requirement already satisfied: typing-extensions>=3.7.4.3 in /usr/local/lib/python3.7/dist-packages (from huggingface-hub<1.0.0,>=0.1.0->datasets) (4.2.0)\n",
            "Requirement already satisfied: pyparsing!=3.0.5,>=2.0.2 in /usr/local/lib/python3.7/dist-packages (from packaging->datasets) (3.0.8)\n",
            "Requirement already satisfied: idna<3,>=2.5 in /usr/local/lib/python3.7/dist-packages (from requests>=2.19.0->datasets) (2.10)\n",
            "Requirement already satisfied: certifi>=2017.4.17 in /usr/local/lib/python3.7/dist-packages (from requests>=2.19.0->datasets) (2021.10.8)\n",
            "Requirement already satisfied: chardet<4,>=3.0.2 in /usr/local/lib/python3.7/dist-packages (from requests>=2.19.0->datasets) (3.0.4)\n",
            "Requirement already satisfied: urllib3!=1.25.0,!=1.25.1,<1.26,>=1.21.1 in /usr/local/lib/python3.7/dist-packages (from requests>=2.19.0->datasets) (1.24.3)\n",
            "Collecting urllib3!=1.25.0,!=1.25.1,<1.26,>=1.21.1\n",
            "  Downloading urllib3-1.25.11-py2.py3-none-any.whl (127 kB)\n",
            "\u001b[K     |████████████████████████████████| 127 kB 56.2 MB/s \n",
            "\u001b[?25hCollecting async-timeout<5.0,>=4.0.0a3\n",
            "  Downloading async_timeout-4.0.2-py3-none-any.whl (5.8 kB)\n",
            "Requirement already satisfied: attrs>=17.3.0 in /usr/local/lib/python3.7/dist-packages (from aiohttp->datasets) (21.4.0)\n",
            "Collecting aiosignal>=1.1.2\n",
            "  Downloading aiosignal-1.2.0-py3-none-any.whl (8.2 kB)\n",
            "Collecting yarl<2.0,>=1.0\n",
            "  Downloading yarl-1.7.2-cp37-cp37m-manylinux_2_5_x86_64.manylinux1_x86_64.manylinux_2_12_x86_64.manylinux2010_x86_64.whl (271 kB)\n",
            "\u001b[K     |████████████████████████████████| 271 kB 49.9 MB/s \n",
            "\u001b[?25hRequirement already satisfied: charset-normalizer<3.0,>=2.0 in /usr/local/lib/python3.7/dist-packages (from aiohttp->datasets) (2.0.12)\n",
            "Collecting frozenlist>=1.1.1\n",
            "  Downloading frozenlist-1.3.0-cp37-cp37m-manylinux_2_5_x86_64.manylinux1_x86_64.manylinux_2_17_x86_64.manylinux2014_x86_64.whl (144 kB)\n",
            "\u001b[K     |████████████████████████████████| 144 kB 54.3 MB/s \n",
            "\u001b[?25hCollecting asynctest==0.13.0\n",
            "  Downloading asynctest-0.13.0-py3-none-any.whl (26 kB)\n",
            "Collecting multidict<7.0,>=4.5\n",
            "  Downloading multidict-6.0.2-cp37-cp37m-manylinux_2_17_x86_64.manylinux2014_x86_64.whl (94 kB)\n",
            "\u001b[K     |████████████████████████████████| 94 kB 3.5 MB/s \n",
            "\u001b[?25hRequirement already satisfied: zipp>=0.5 in /usr/local/lib/python3.7/dist-packages (from importlib-metadata->datasets) (3.8.0)\n",
            "Requirement already satisfied: pytz>=2017.3 in /usr/local/lib/python3.7/dist-packages (from pandas->datasets) (2022.1)\n",
            "Requirement already satisfied: python-dateutil>=2.7.3 in /usr/local/lib/python3.7/dist-packages (from pandas->datasets) (2.8.2)\n",
            "Requirement already satisfied: six>=1.5 in /usr/local/lib/python3.7/dist-packages (from python-dateutil>=2.7.3->pandas->datasets) (1.15.0)\n",
            "Installing collected packages: multidict, frozenlist, yarl, urllib3, asynctest, async-timeout, aiosignal, fsspec, aiohttp, xxhash, responses, datasets\n",
            "  Attempting uninstall: urllib3\n",
            "    Found existing installation: urllib3 1.24.3\n",
            "    Uninstalling urllib3-1.24.3:\n",
            "      Successfully uninstalled urllib3-1.24.3\n",
            "\u001b[31mERROR: pip's dependency resolver does not currently take into account all the packages that are installed. This behaviour is the source of the following dependency conflicts.\n",
            "datascience 0.10.6 requires folium==0.2.1, but you have folium 0.8.3 which is incompatible.\u001b[0m\n",
            "Successfully installed aiohttp-3.8.1 aiosignal-1.2.0 async-timeout-4.0.2 asynctest-0.13.0 datasets-2.2.0 frozenlist-1.3.0 fsspec-2022.3.0 multidict-6.0.2 responses-0.18.0 urllib3-1.25.11 xxhash-3.0.0 yarl-1.7.2\n",
            "Collecting transformers\n",
            "  Using cached transformers-4.18.0-py3-none-any.whl (4.0 MB)\n",
            "Requirement already satisfied: filelock in /usr/local/lib/python3.7/dist-packages (from transformers) (3.6.0)\n",
            "Requirement already satisfied: tqdm>=4.27 in /usr/local/lib/python3.7/dist-packages (from transformers) (4.64.0)\n",
            "Requirement already satisfied: packaging>=20.0 in /usr/local/lib/python3.7/dist-packages (from transformers) (21.3)\n",
            "Requirement already satisfied: tokenizers!=0.11.3,<0.13,>=0.11.1 in /usr/local/lib/python3.7/dist-packages (from transformers) (0.12.1)\n",
            "Requirement already satisfied: pyyaml>=5.1 in /usr/local/lib/python3.7/dist-packages (from transformers) (6.0)\n",
            "Requirement already satisfied: regex!=2019.12.17 in /usr/local/lib/python3.7/dist-packages (from transformers) (2019.12.20)\n",
            "Requirement already satisfied: numpy>=1.17 in /usr/local/lib/python3.7/dist-packages (from transformers) (1.21.6)\n",
            "Requirement already satisfied: sacremoses in /usr/local/lib/python3.7/dist-packages (from transformers) (0.0.53)\n",
            "Requirement already satisfied: huggingface-hub<1.0,>=0.1.0 in /usr/local/lib/python3.7/dist-packages (from transformers) (0.5.1)\n",
            "Requirement already satisfied: requests in /usr/local/lib/python3.7/dist-packages (from transformers) (2.23.0)\n",
            "Requirement already satisfied: importlib-metadata in /usr/local/lib/python3.7/dist-packages (from transformers) (4.11.3)\n",
            "Requirement already satisfied: typing-extensions>=3.7.4.3 in /usr/local/lib/python3.7/dist-packages (from huggingface-hub<1.0,>=0.1.0->transformers) (4.2.0)\n",
            "Requirement already satisfied: pyparsing!=3.0.5,>=2.0.2 in /usr/local/lib/python3.7/dist-packages (from packaging>=20.0->transformers) (3.0.8)\n",
            "Requirement already satisfied: zipp>=0.5 in /usr/local/lib/python3.7/dist-packages (from importlib-metadata->transformers) (3.8.0)\n",
            "Requirement already satisfied: certifi>=2017.4.17 in /usr/local/lib/python3.7/dist-packages (from requests->transformers) (2021.10.8)\n",
            "Requirement already satisfied: chardet<4,>=3.0.2 in /usr/local/lib/python3.7/dist-packages (from requests->transformers) (3.0.4)\n",
            "Requirement already satisfied: urllib3!=1.25.0,!=1.25.1,<1.26,>=1.21.1 in /usr/local/lib/python3.7/dist-packages (from requests->transformers) (1.25.11)\n",
            "Requirement already satisfied: idna<3,>=2.5 in /usr/local/lib/python3.7/dist-packages (from requests->transformers) (2.10)\n",
            "Requirement already satisfied: joblib in /usr/local/lib/python3.7/dist-packages (from sacremoses->transformers) (1.1.0)\n",
            "Requirement already satisfied: click in /usr/local/lib/python3.7/dist-packages (from sacremoses->transformers) (7.1.2)\n",
            "Requirement already satisfied: six in /usr/local/lib/python3.7/dist-packages (from sacremoses->transformers) (1.15.0)\n",
            "Installing collected packages: transformers\n",
            "Successfully installed transformers-4.18.0\n",
            "Requirement already satisfied: sentence_transformers in ./AStitchInLanguageModels/dependencies/sentence-transformers (1.1.0)\n",
            "Requirement already satisfied: transformers<5.0.0,>=3.1.0 in /usr/local/lib/python3.7/dist-packages (from sentence_transformers) (4.18.0)\n",
            "Requirement already satisfied: tqdm in /usr/local/lib/python3.7/dist-packages (from sentence_transformers) (4.64.0)\n",
            "Requirement already satisfied: torch>=1.6.0 in /usr/local/lib/python3.7/dist-packages (from sentence_transformers) (1.11.0+cu113)\n",
            "Requirement already satisfied: numpy in /usr/local/lib/python3.7/dist-packages (from sentence_transformers) (1.21.6)\n",
            "Requirement already satisfied: scikit-learn in /usr/local/lib/python3.7/dist-packages (from sentence_transformers) (1.0.2)\n",
            "Requirement already satisfied: scipy in /usr/local/lib/python3.7/dist-packages (from sentence_transformers) (1.4.1)\n",
            "Requirement already satisfied: nltk in /usr/local/lib/python3.7/dist-packages (from sentence_transformers) (3.2.5)\n",
            "Requirement already satisfied: sentencepiece in /usr/local/lib/python3.7/dist-packages (from sentence_transformers) (0.1.96)\n",
            "Requirement already satisfied: typing-extensions in /usr/local/lib/python3.7/dist-packages (from torch>=1.6.0->sentence_transformers) (4.2.0)\n",
            "Requirement already satisfied: tokenizers!=0.11.3,<0.13,>=0.11.1 in /usr/local/lib/python3.7/dist-packages (from transformers<5.0.0,>=3.1.0->sentence_transformers) (0.12.1)\n",
            "Requirement already satisfied: filelock in /usr/local/lib/python3.7/dist-packages (from transformers<5.0.0,>=3.1.0->sentence_transformers) (3.6.0)\n",
            "Requirement already satisfied: importlib-metadata in /usr/local/lib/python3.7/dist-packages (from transformers<5.0.0,>=3.1.0->sentence_transformers) (4.11.3)\n",
            "Requirement already satisfied: packaging>=20.0 in /usr/local/lib/python3.7/dist-packages (from transformers<5.0.0,>=3.1.0->sentence_transformers) (21.3)\n",
            "Requirement already satisfied: sacremoses in /usr/local/lib/python3.7/dist-packages (from transformers<5.0.0,>=3.1.0->sentence_transformers) (0.0.53)\n",
            "Requirement already satisfied: huggingface-hub<1.0,>=0.1.0 in /usr/local/lib/python3.7/dist-packages (from transformers<5.0.0,>=3.1.0->sentence_transformers) (0.5.1)\n",
            "Requirement already satisfied: regex!=2019.12.17 in /usr/local/lib/python3.7/dist-packages (from transformers<5.0.0,>=3.1.0->sentence_transformers) (2019.12.20)\n",
            "Requirement already satisfied: requests in /usr/local/lib/python3.7/dist-packages (from transformers<5.0.0,>=3.1.0->sentence_transformers) (2.23.0)\n",
            "Requirement already satisfied: pyyaml>=5.1 in /usr/local/lib/python3.7/dist-packages (from transformers<5.0.0,>=3.1.0->sentence_transformers) (6.0)\n",
            "Requirement already satisfied: pyparsing!=3.0.5,>=2.0.2 in /usr/local/lib/python3.7/dist-packages (from packaging>=20.0->transformers<5.0.0,>=3.1.0->sentence_transformers) (3.0.8)\n",
            "Requirement already satisfied: zipp>=0.5 in /usr/local/lib/python3.7/dist-packages (from importlib-metadata->transformers<5.0.0,>=3.1.0->sentence_transformers) (3.8.0)\n",
            "Requirement already satisfied: six in /usr/local/lib/python3.7/dist-packages (from nltk->sentence_transformers) (1.15.0)\n",
            "Requirement already satisfied: chardet<4,>=3.0.2 in /usr/local/lib/python3.7/dist-packages (from requests->transformers<5.0.0,>=3.1.0->sentence_transformers) (3.0.4)\n",
            "Requirement already satisfied: certifi>=2017.4.17 in /usr/local/lib/python3.7/dist-packages (from requests->transformers<5.0.0,>=3.1.0->sentence_transformers) (2021.10.8)\n",
            "Requirement already satisfied: idna<3,>=2.5 in /usr/local/lib/python3.7/dist-packages (from requests->transformers<5.0.0,>=3.1.0->sentence_transformers) (2.10)\n",
            "Requirement already satisfied: urllib3!=1.25.0,!=1.25.1,<1.26,>=1.21.1 in /usr/local/lib/python3.7/dist-packages (from requests->transformers<5.0.0,>=3.1.0->sentence_transformers) (1.25.11)\n",
            "Requirement already satisfied: click in /usr/local/lib/python3.7/dist-packages (from sacremoses->transformers<5.0.0,>=3.1.0->sentence_transformers) (7.1.2)\n",
            "Requirement already satisfied: joblib in /usr/local/lib/python3.7/dist-packages (from sacremoses->transformers<5.0.0,>=3.1.0->sentence_transformers) (1.1.0)\n",
            "Requirement already satisfied: threadpoolctl>=2.0.0 in /usr/local/lib/python3.7/dist-packages (from scikit-learn->sentence_transformers) (3.1.0)\n"
          ]
        }
      ],
      "source": [
        "!pip install datasets\n",
        "!pip install transformers\n",
        "!pip install sentence_transformers"
      ]
    },
    {
      "cell_type": "code",
      "execution_count": null,
      "metadata": {
        "id": "tkDcgynlpmSS"
      },
      "outputs": [],
      "source": [
        "# # Reproducibility/\n",
        "# !wget 'https://github.com/huggingface/transformers/archive/refs/tags/v4.7.0.zip'\n",
        "# !unzip v4.7.0.zip\n",
        "# %cd transformers-4.7.0/\n",
        "# !pip install --editable .\n",
        "# %cd /content/ "
      ]
    },
    {
      "cell_type": "markdown",
      "metadata": {
        "id": "3IDaz7ViMFPB"
      },
      "source": [
        "Required for dataserts we use. "
      ]
    },
    {
      "cell_type": "markdown",
      "metadata": {
        "id": "8mo2EZUSMQkH"
      },
      "source": [
        "Download the Task data and evaluation scripts"
      ]
    },
    {
      "cell_type": "code",
      "execution_count": null,
      "metadata": {
        "colab": {
          "base_uri": "https://localhost:8080/"
        },
        "id": "ZzwXLrhyp6HV",
        "outputId": "fd37b856-67a4-43d5-c00a-ce9496fa3456"
      },
      "outputs": [
        {
          "output_type": "stream",
          "name": "stdout",
          "text": [
            "Cloning into 'SemEval_2022_Task2-idiomaticity'...\n",
            "remote: Enumerating objects: 123, done.\u001b[K\n",
            "remote: Counting objects: 100% (123/123), done.\u001b[K\n",
            "remote: Compressing objects: 100% (106/106), done.\u001b[K\n",
            "remote: Total 123 (delta 48), reused 61 (delta 15), pack-reused 0\u001b[K\n",
            "Receiving objects: 100% (123/123), 2.50 MiB | 7.16 MiB/s, done.\n",
            "Resolving deltas: 100% (48/48), done.\n"
          ]
        }
      ],
      "source": [
        "!git clone https://github.com/H-TayyarMadabushi/SemEval_2022_Task2-idiomaticity.git"
      ]
    },
    {
      "cell_type": "markdown",
      "metadata": {
        "id": "PeCIR-XeMVmp"
      },
      "source": [
        "Editable install requires runtime restart unless we do this. "
      ]
    },
    {
      "cell_type": "code",
      "execution_count": null,
      "metadata": {
        "id": "gZNvhAgFtq7a"
      },
      "outputs": [],
      "source": [
        "import site\n",
        "site.main()"
      ]
    },
    {
      "cell_type": "markdown",
      "metadata": {
        "id": "Eb1YO0Fdredc"
      },
      "source": [
        "# Imports and Helper functions"
      ]
    },
    {
      "cell_type": "code",
      "execution_count": null,
      "metadata": {
        "id": "hNHNcmAveH6W"
      },
      "outputs": [],
      "source": [
        "import re\n",
        "import os\n",
        "import sys\n",
        "import csv\n",
        "import gzip\n",
        "import math\n",
        "import torch\n",
        "import random\n",
        "import numpy as np\n",
        "\n",
        "from datetime                         import datetime\n",
        "from torch.utils.data                 import DataLoader\n",
        "from sklearn.metrics.pairwise         import paired_cosine_distances\n",
        "\n",
        "from datasets                         import load_dataset\n",
        "from transformers                     import AutoModelForMaskedLM\n",
        "from transformers                     import AutoTokenizer\n",
        "\n",
        "from sentence_transformers            import SentenceTransformer,  LoggingHandler, losses, models, util\n",
        "from sentence_transformers.readers    import InputExample\n",
        "from sentence_transformers.evaluation import EmbeddingSimilarityEvaluator\n",
        "\n",
        "sys.path.append( '/content/SemEval_2022_Task2-idiomaticity/SubTaskB/' )\n",
        "from SubTask2Evaluator                import evaluate_submission\n"
      ]
    },
    {
      "cell_type": "code",
      "execution_count": null,
      "metadata": {
        "id": "5OY_7voNrhhI"
      },
      "outputs": [],
      "source": [
        "def load_csv( path ) : \n",
        "  header = None\n",
        "  data   = list()\n",
        "  with open( path, encoding='utf-8') as csvfile:\n",
        "    reader = csv.reader( csvfile ) \n",
        "    for row in reader : \n",
        "      if header is None : \n",
        "        header = row\n",
        "        continue\n",
        "      data.append( row ) \n",
        "  return header, data\n"
      ]
    },
    {
      "cell_type": "markdown",
      "metadata": {
        "id": "uMaMyA8EMi1E"
      },
      "source": [
        "We choose to create a single token for MWEs using this function. This must be used when adding tokens to models, tokenising evaluation and training data. "
      ]
    },
    {
      "cell_type": "code",
      "execution_count": null,
      "metadata": {
        "id": "ageJ0leRLypu"
      },
      "outputs": [],
      "source": [
        "def tokenise_idiom( phrase ) :\n",
        "  return 'ID' + re.sub( r'[\\s|-]', '', phrase ).lower() + 'ID'"
      ]
    },
    {
      "cell_type": "markdown",
      "metadata": {
        "id": "fpGQ3yt1Mu2t"
      },
      "source": [
        "Set seed to ensure reproducibility. "
      ]
    },
    {
      "cell_type": "code",
      "execution_count": null,
      "metadata": {
        "id": "vsa_jvlLL2mU"
      },
      "outputs": [],
      "source": [
        "def is_torch_available() :\n",
        "    try:\n",
        "        import torch\n",
        "        return True\n",
        "    except ImportError:\n",
        "        return False\n",
        "\n",
        "def is_tf_available() :\n",
        "    try:\n",
        "        import tensorflow as tf\n",
        "        return True\n",
        "    except ImportError:\n",
        "        return False\n",
        "\n",
        "def set_seed(seed: int):\n",
        "    \"\"\"\n",
        "    Modified from : https://github.com/huggingface/transformers/blob/master/src/transformers/trainer_utils.py\n",
        "    Helper function for reproducible behavior to set the seed in ``random``, ``numpy``, ``torch`` and/or ``tf`` (if\n",
        "    installed).\n",
        "    Args:\n",
        "        seed (:obj:`int`): The seed to set.\n",
        "    \"\"\"\n",
        "    random.seed(seed)\n",
        "    np.random.seed(seed)\n",
        "    if is_torch_available():\n",
        "        torch.manual_seed(seed)\n",
        "        torch.cuda.manual_seed_all(seed)\n",
        "        # ^^ safe to call this function even if cuda is not available\n",
        "\n",
        "        ## From https://pytorch.org/docs/stable/notes/randomness.html\n",
        "        torch.backends.cudnn.benchmark = False\n",
        "\n",
        "        ## Might want to use the following, but set CUBLAS_WORKSPACE_CONFIG=:16:8\n",
        "        # try : \n",
        "        #   torch.use_deterministic_algorithms(True)\n",
        "        # except AttributeError: \n",
        "        #   torch.set_deterministic( True )\n",
        "        \n",
        "    if is_tf_available():\n",
        "        import tensorflow as tf\n",
        "        tf.random.set_seed(seed)\n",
        "\n"
      ]
    },
    {
      "cell_type": "code",
      "execution_count": null,
      "metadata": {
        "id": "W9GbC59YL4mG"
      },
      "outputs": [],
      "source": [
        "def write_csv( data, location ) : \n",
        "  with open( location, 'w', encoding='utf-8') as csvfile:\n",
        "    writer = csv.writer( csvfile ) \n",
        "    writer.writerows( data ) \n",
        "  print( \"Wrote {}\".format( location ) ) \n",
        "  return\n"
      ]
    },
    {
      "cell_type": "markdown",
      "metadata": {
        "id": "-NMDgfjsNIsU"
      },
      "source": [
        "# Setup models and parameters"
      ]
    },
    {
      "cell_type": "code",
      "execution_count": null,
      "metadata": {
        "id": "hfjqV9U2NQFM"
      },
      "outputs": [],
      "source": [
        "seed = 4 ## Found using 5 different seeds - specific to this experiment. \n",
        "set_seed( seed ) "
      ]
    },
    {
      "cell_type": "code",
      "execution_count": null,
      "metadata": {
        "id": "uRLlQkQINoXe"
      },
      "outputs": [],
      "source": [
        "data_location = '/content/SemEval_2022_Task2-idiomaticity/SubTaskB/EvaluationData/'"
      ]
    },
    {
      "cell_type": "code",
      "execution_count": null,
      "metadata": {
        "id": "uc702C3GOnh1"
      },
      "outputs": [],
      "source": [
        "outpath = '/content/models/'"
      ]
    },
    {
      "cell_type": "code",
      "execution_count": null,
      "metadata": {
        "id": "GYuaAn6iNk6W"
      },
      "outputs": [],
      "source": [
        "dev_location                = os.path.join( data_location, 'dev.csv'                     ) \n",
        "eval_location               = os.path.join( data_location, 'eval.csv'                    ) \n",
        "dev_formated_file_location  = os.path.join( data_location, 'dev.submission_format.csv'   ) \n",
        "eval_formated_file_location = os.path.join( data_location, 'eval.submission_format.csv'   ) "
      ]
    },
    {
      "cell_type": "code",
      "execution_count": null,
      "metadata": {
        "id": "rd6bknrfOK3M"
      },
      "outputs": [],
      "source": [
        "## WARNING: We filter everything based on this (SemEval Task 2 requires that ALL languages are included) \n",
        "languages = ['EN'] "
      ]
    },
    {
      "cell_type": "code",
      "execution_count": null,
      "metadata": {
        "id": "lP15co3DFOjB"
      },
      "outputs": [],
      "source": [
        "## Save tmp model here.  \n",
        "outdir = os.path.join( outpath, 'mBERT' + '-' + str( seed ) ) \n",
        "## Save initial Sent Trans model here. \n",
        "sent_trans_path  = os.path.join( outpath, 'tokenizedSentTrans_' + str( seed ) )  \n",
        "## Save final trained model here. \n",
        "model_save_path  = os.path.join( outpath, 'tokenizedSentTransNoPreTrain_' + str( seed ) ) "
      ]
    },
    {
      "cell_type": "markdown",
      "metadata": {
        "id": "p2hv8QTCBldC"
      },
      "source": [
        "# Setting: pre-train (No Fine-Tuning)"
      ]
    },
    {
      "cell_type": "markdown",
      "metadata": {
        "id": "fJ-DCK9IqTcs"
      },
      "source": [
        "## Adding Idiom Tokens"
      ]
    },
    {
      "cell_type": "markdown",
      "metadata": {
        "id": "VkhahF2aqqxa"
      },
      "source": [
        "### Extract idioms from Dev and Eval splits"
      ]
    },
    {
      "cell_type": "markdown",
      "metadata": {
        "id": "xbf5SSGyPKeE"
      },
      "source": [
        "We need this so we know which MWEs to tokenize "
      ]
    },
    {
      "cell_type": "code",
      "execution_count": null,
      "metadata": {
        "colab": {
          "base_uri": "https://localhost:8080/"
        },
        "id": "FlaxrJRtqIjR",
        "outputId": "588aee9f-bf77-4c0c-e42f-e51166892d56"
      },
      "outputs": [
        {
          "output_type": "stream",
          "name": "stdout",
          "text": [
            "Found a total of 60 idioms\n"
          ]
        }
      ],
      "source": [
        "idioms = list()\n",
        "for data_split in [ 'dev', 'eval' ] : \n",
        "    file_path = os.path.join( data_location, data_split + '.csv' )\n",
        "    header, data = load_csv( file_path )\n",
        "    for elem in data : \n",
        "        if not elem[ header.index( 'Language' ) ] in languages :\n",
        "            continue\n",
        "        idioms.append( elem[ header.index( 'MWE1' ) ] )\n",
        "        idioms.append( elem[ header.index( 'MWE2' ) ] )\n",
        "  \n",
        "idioms = list( set( idioms ) ) \n",
        "idioms.remove( 'None' ) \n",
        "\n",
        "print( \"Found a total of {} idioms\".format( len( idioms ) ) )\n",
        "\n",
        "idioms = [ tokenise_idiom( i ) for i in idioms ]"
      ]
    },
    {
      "cell_type": "markdown",
      "metadata": {
        "id": "7I_BPdlKtKpb"
      },
      "source": [
        "### Download and tokenize model\n",
        "\n",
        "We use BERT-Base-Uncased as this is a requirement to use the provided pre-trained BERTRAM model. (This applies to English only.)"
      ]
    },
    {
      "cell_type": "code",
      "execution_count": null,
      "metadata": {
        "colab": {
          "base_uri": "https://localhost:8080/",
          "height": 162,
          "referenced_widgets": [
            "d52224ddcab243818454f13694c6955a",
            "c0c86e2ae9f3417884df7f462811a3f2",
            "0e601adefccf4567ac2d2ffb08184d1f",
            "17377fc5842c409da9d848e229c3dacf",
            "d09e5b76804d4ff58f66652ff9ca7b71",
            "e62fa027baf04c7e9df772cfa4772c46",
            "d547b7194cb24f03bfbd3d2f43df8368",
            "aaee0068b7344792beca8a23a7e8da92",
            "e016c451633a40df842f55624d6f7175",
            "6d0ac0a1a1ba445da9144ae84036db87",
            "f67c92893e204e9eb900bea58038a44c",
            "bc7bda55c9b9410bbd52af86e7c7cf81",
            "1b032b055231425b819a4dc56f2d26ca",
            "56e8c3116c12487881cf596c92853443",
            "193d31d3c69a46f9a850305a2bb515cf",
            "52e0fc03bb3f475a91c6bba7231e9ed4",
            "27e1a2d7d6404785ae4b8dc2b2c48aa3",
            "aa44a1b4fdea40c8a82fc978a162bdfc",
            "1e09b3ca64f04ebaaf0fb87ddc733e8e",
            "d78e57587cdf4bef86d8bb30e3651605",
            "1926540cea054caa9c4994e20a47ce5b",
            "f700fb3a453046d5b5a0984b23c81590",
            "2a0147ba8f2040b3ba4a097e37a04d4b",
            "a62bd77cecf1437ab6e554ccb6c111d4",
            "b6a560a9e1204f18998c2bf39046b2c5",
            "b9e973c8ad864ff384f943e80fe46888",
            "091ab0f382f54bf8973aeb9785aed8ca",
            "7a8fcc19a4f34d5092d4fefaa8ec851a",
            "da08939dcc3c4096aef435b54184ce6a",
            "9c1ee4ce61024e14b1ced7ac9ecc60ec",
            "48d3b089c9454ff1a40b52f89bc01e11",
            "618502c8ce6843d29d1ee01849bfef28",
            "6267bc6ad63a40adbb90cfa360d370e8",
            "bb41cf80bde541e7a2e4fa1ec89f903d",
            "bcefe8076c5b40a2b8de4424a9f237f1",
            "b575d8c874a040a68e78e192b68935cc",
            "3e6d3d8eb1e34ee09985687c2b278f15",
            "a2d685d906014820853935df0016f05b",
            "5e7b7175a64a46e88c79a55a9a29edb0",
            "3d1c7da8654c424e85517e741e726ef8",
            "f455c16fd681483093e5f069ac79f013",
            "83c16486c9cb453a9fbd23ea30acdd09",
            "9bd43b7545cb44d782a2a69288a61c93",
            "41a95ef3c1a34eeb9a1fe9b7f168bb34"
          ]
        },
        "id": "C21JwzzjsUGE",
        "outputId": "6cc3e855-c0f5-4b0f-9e46-ebfb5a4101f2"
      },
      "outputs": [
        {
          "output_type": "display_data",
          "data": {
            "text/plain": [
              "Downloading:   0%|          | 0.00/482 [00:00<?, ?B/s]"
            ],
            "application/vnd.jupyter.widget-view+json": {
              "version_major": 2,
              "version_minor": 0,
              "model_id": "d52224ddcab243818454f13694c6955a"
            }
          },
          "metadata": {}
        },
        {
          "output_type": "display_data",
          "data": {
            "text/plain": [
              "Downloading:   0%|          | 0.00/1.33G [00:00<?, ?B/s]"
            ],
            "application/vnd.jupyter.widget-view+json": {
              "version_major": 2,
              "version_minor": 0,
              "model_id": "bc7bda55c9b9410bbd52af86e7c7cf81"
            }
          },
          "metadata": {}
        },
        {
          "output_type": "display_data",
          "data": {
            "text/plain": [
              "Downloading:   0%|          | 0.00/878k [00:00<?, ?B/s]"
            ],
            "application/vnd.jupyter.widget-view+json": {
              "version_major": 2,
              "version_minor": 0,
              "model_id": "2a0147ba8f2040b3ba4a097e37a04d4b"
            }
          },
          "metadata": {}
        },
        {
          "output_type": "display_data",
          "data": {
            "text/plain": [
              "Downloading:   0%|          | 0.00/446k [00:00<?, ?B/s]"
            ],
            "application/vnd.jupyter.widget-view+json": {
              "version_major": 2,
              "version_minor": 0,
              "model_id": "bb41cf80bde541e7a2e4fa1ec89f903d"
            }
          },
          "metadata": {}
        },
        {
          "output_type": "stream",
          "name": "stdout",
          "text": [
            "Wrote to:  /content/models/mBERT-4\n"
          ]
        }
      ],
      "source": [
        "# If using bert-base-uncased\n",
        "# model_checkpoint = 'bert-base-uncased'\n",
        "\n",
        "# If using roberta-large\n",
        "model_checkpoint = 'roberta-large'\n",
        "  \n",
        "model = AutoModelForMaskedLM.from_pretrained(model_checkpoint)\n",
        "model.save_pretrained( outdir )\n",
        "\n",
        "tokenizer = AutoTokenizer.from_pretrained(model_checkpoint, use_fast=False, truncation=True)\n",
        "tokenizer.save_pretrained( outdir )\n",
        "\n",
        "print( \"Wrote to: \", outdir, flush=True )"
      ]
    },
    {
      "cell_type": "code",
      "execution_count": null,
      "metadata": {
        "colab": {
          "base_uri": "https://localhost:8080/"
        },
        "id": "5GqktWAt0aaw",
        "outputId": "ed27984b-648d-419d-c23e-dd61e6d97f58"
      },
      "outputs": [
        {
          "output_type": "stream",
          "name": "stdout",
          "text": [
            "Old tokenizer length was 50265. Added 60 new tokens. New length is 50325.\n"
          ]
        },
        {
          "output_type": "execute_result",
          "data": {
            "text/plain": [
              "('/content/models/mBERT-4/tokenizer_config.json',\n",
              " '/content/models/mBERT-4/special_tokens_map.json',\n",
              " '/content/models/mBERT-4/vocab.json',\n",
              " '/content/models/mBERT-4/merges.txt',\n",
              " '/content/models/mBERT-4/added_tokens.json')"
            ]
          },
          "metadata": {},
          "execution_count": 27
        }
      ],
      "source": [
        "model          = AutoModelForMaskedLM.from_pretrained(model_checkpoint)\n",
        "tokenizer      = AutoTokenizer.from_pretrained(model_checkpoint, use_fast=False, truncation=True)\n",
        "old_len        = len( tokenizer )\n",
        "num_added_toks = tokenizer.add_tokens( idioms ) \n",
        "print( \"Old tokenizer length was {}. Added {} new tokens. New length is {}.\".format( old_len, num_added_toks, len( tokenizer ) )  ) \n",
        "model.resize_token_embeddings(len(tokenizer))\n",
        "\n",
        "model.save_pretrained    ( outdir )\n",
        "tokenizer.save_pretrained( outdir )\n"
      ]
    },
    {
      "cell_type": "code",
      "execution_count": null,
      "metadata": {
        "colab": {
          "base_uri": "https://localhost:8080/"
        },
        "id": "QBgx3YzT3x98",
        "outputId": "4680a84a-5a84-4532-bdef-9f55fbf4a490"
      },
      "outputs": [
        {
          "output_type": "stream",
          "name": "stdout",
          "text": [
            "['This', 'Ġis', 'Ġa', 'IDancienthistoryID']\n",
            "['This', 'Ġis', 'Ġa', 'ĠID', 'col', 'Ã©', 'gi', 'om', 'ilit', 'ar', 'ID']\n"
          ]
        }
      ],
      "source": [
        "## Make sure this worked. \n",
        "print( tokenizer.tokenize('This is a IDancienthistoryID'), flush=True )\n",
        "print( tokenizer.tokenize( 'This is a IDcolégiomilitarID' ) )"
      ]
    },
    {
      "cell_type": "markdown",
      "metadata": {
        "id": "A_mK5hgymeQw"
      },
      "source": [
        "## BERTRAM Embeddings"
      ]
    },
    {
      "cell_type": "code",
      "execution_count": null,
      "metadata": {
        "id": "RwK5ruual4o-"
      },
      "outputs": [],
      "source": [
        "data_location = '/content/SemEval_2022_Task2-idiomaticity/SubTaskB/EvaluationData/'\n",
        "outpath = '/content/models/'\n",
        "dev_location                = os.path.join( data_location, 'dev.csv'                     ) \n",
        "eval_location               = os.path.join( data_location, 'eval.csv'                    ) \n",
        "dev_formated_file_location  = os.path.join( data_location, 'dev.submission_format.csv'   ) \n",
        "eval_formated_file_location = os.path.join( data_location, 'eval.submission_format.csv'   ) \n",
        "## Save tmp model here.  \n",
        "outdir = os.path.join( outpath, 'mBERT' + '-' + str( 4 ) )"
      ]
    },
    {
      "cell_type": "code",
      "execution_count": null,
      "metadata": {
        "id": "2weXFZ_8mGfj"
      },
      "outputs": [],
      "source": [
        "idioms = list()\n",
        "for data_split in [ 'dev', 'eval' ] : \n",
        "  file_path = os.path.join( data_location, data_split + '.csv' )\n",
        "  header, data = load_csv( file_path )\n",
        "  for elem in data : \n",
        "    if elem[ header.index( 'Language' ) ] =='EN' :\n",
        "      idioms.append( elem[ header.index( 'MWE1' ) ] )\n",
        "      idioms.append( elem[ header.index( 'MWE2' ) ] )\n",
        "\n",
        "idioms = list( set( idioms ) ) \n",
        "idioms.remove( 'None' )"
      ]
    },
    {
      "cell_type": "code",
      "execution_count": null,
      "metadata": {
        "colab": {
          "base_uri": "https://localhost:8080/"
        },
        "id": "WZ3io4zKmIcL",
        "outputId": "f0e917c7-f683-4c1c-b436-3c0d86170e01"
      },
      "outputs": [
        {
          "output_type": "stream",
          "name": "stderr",
          "text": [
            "2022-05-11 01:18:02,629 - INFO - ngram_models - Found 94601 ngrams with min count 4 and (nmin,nmax)=(3,5), first 10: ['UNK', 'PAD', 'ing', 'ed<S>', 'ng<S>', 'es<S>', 'er<S>', 'ing<S>', 'on<S>', '<S>co'], last 10: [':40', ':40<S>', 'beur', '<S>ette', 'ion-r', '<S>yot', 'eora', 'eora<S>', 'kowo', 'kowo<S>']\n",
            "Some weights of the model checkpoint at bertram-add-for-roberta-large were not used when initializing BertramForRoberta: ['shallow_combination.linear.weight', 'sep_linear.weight', 'mask_linear.bias', 'roberta.embeddings.word_embeddings.embedding.weight', 'sep_linear.bias', 'shallow_combination.linear.bias', 'mask_linear.weight']\n",
            "- This IS expected if you are initializing BertramForRoberta from the checkpoint of a model trained on another task or with another architecture (e.g. initializing a BertForSequenceClassification model from a BertForPreTraining model).\n",
            "- This IS NOT expected if you are initializing BertramForRoberta from the checkpoint of a model that you expect to be exactly identical (initializing a BertForSequenceClassification model from a BertForSequenceClassification model).\n",
            "Some weights of BertramForRoberta were not initialized from the model checkpoint at bertram-add-for-roberta-large and are newly initialized: ['roberta.embeddings.word_embeddings.weight']\n",
            "You should probably TRAIN this model on a down-stream task to be able to use it for predictions and inference.\n",
            "2022-05-11 01:18:16,585 - INFO - bertram - Reloading with do_setup=True because of missing keys: {'missing_keys': ['roberta.embeddings.word_embeddings.weight'], 'unexpected_keys': ['shallow_combination.linear.weight', 'sep_linear.weight', 'mask_linear.bias', 'roberta.embeddings.word_embeddings.embedding.weight', 'sep_linear.bias', 'shallow_combination.linear.bias', 'mask_linear.weight'], 'mismatched_keys': [], 'error_msgs': []}\n",
            "Some weights of the model checkpoint at bertram-add-for-roberta-large were not used when initializing BertramForRoberta: ['shallow_combination.linear.weight', 'sep_linear.weight', 'mask_linear.bias', 'sep_linear.bias', 'shallow_combination.linear.bias', 'mask_linear.weight']\n",
            "- This IS expected if you are initializing BertramForRoberta from the checkpoint of a model trained on another task or with another architecture (e.g. initializing a BertForSequenceClassification model from a BertForPreTraining model).\n",
            "- This IS NOT expected if you are initializing BertramForRoberta from the checkpoint of a model that you expect to be exactly identical (initializing a BertForSequenceClassification model from a BertForSequenceClassification model).\n"
          ]
        }
      ],
      "source": [
        "from bertram import BertramWrapper\n",
        "\n",
        "# If using bert-based-uncased\n",
        "# bertram = BertramWrapper('bertram-add-for-bert-base-uncased', device='cpu')\n",
        "\n",
        "# If using roberta-large\n",
        "bertram = BertramWrapper('bertram-add-for-roberta-large', device='cuda')\n",
        "\n",
        "# -----\n",
        "\n",
        "idioms = [ tokenise_idiom(i) for i in idioms ]\n",
        "words_with_contexts = {}\n",
        "for i in idioms:\n",
        "  words_with_contexts[i] = []\n",
        "\n",
        "embeddings={word:bertram.infer_vector(word, contexts) for word, contexts in words_with_contexts.items()}"
      ]
    },
    {
      "cell_type": "code",
      "execution_count": null,
      "metadata": {
        "colab": {
          "base_uri": "https://localhost:8080/"
        },
        "id": "Cc0Vy2Z8nFR8",
        "outputId": "6d3fd86f-e68c-4035-f5cc-9da96770eace"
      },
      "outputs": [
        {
          "output_type": "execute_result",
          "data": {
            "text/plain": [
              "60"
            ]
          },
          "metadata": {},
          "execution_count": 34
        }
      ],
      "source": [
        "special_tokens=[f\"<BERTRAM:{word}>\" for word in embeddings.keys()]\n",
        "tokenizer.add_special_tokens({\"additional_special_tokens\": special_tokens})"
      ]
    },
    {
      "cell_type": "markdown",
      "metadata": {
        "id": "6txJOWEd4EwJ"
      },
      "source": [
        "## Creating Sentence Transformers model\n",
        "\n",
        "This will ensure that the output sentence embeddings can be compared using cosine similarity."
      ]
    },
    {
      "cell_type": "markdown",
      "metadata": {
        "id": "q4MUGDfr4fKR"
      },
      "source": [
        "### Start by preparing data. \n",
        "\n",
        "Here we combine English and Portuguese training, dev and evaluation data. We use the dev and test splits to test the resultant sentence transformers models.\n",
        "\n",
        "**WARNING**: You must NOT train using the development or test sections of either of these datasets.\n"
      ]
    },
    {
      "cell_type": "code",
      "execution_count": null,
      "metadata": {
        "id": "fbAMogNQ4dzg",
        "colab": {
          "base_uri": "https://localhost:8080/",
          "height": 49,
          "referenced_widgets": [
            "35ff37bce1754431a9f4f5382ec42916",
            "ce1ea70261944a1ebe6fee8c829c363e",
            "6e92954f3ba74691a9690d0c00fac2b9",
            "d94a374ac2664ab4aaefa1272777cccf",
            "f3bcfde0a03646bcb403d0880a96765f",
            "ba0a8830a00d43dba0ca4dacd01d0128",
            "93046e7e329a44398a69b40da819bd01",
            "338be3568af64d9db19782280f468b74",
            "df74d5e9a16149e59fb3b8ac5c64f326",
            "daf6ec0894f44997aaa9fd2cff43392f",
            "cb2fc28da7494ea88f0b15858f52b58b"
          ]
        },
        "outputId": "203786b5-d23c-46f0-f799-fc0578152706"
      },
      "outputs": [
        {
          "output_type": "display_data",
          "data": {
            "text/plain": [
              "  0%|          | 0.00/392k [00:00<?, ?B/s]"
            ],
            "application/vnd.jupyter.widget-view+json": {
              "version_major": 2,
              "version_minor": 0,
              "model_id": "35ff37bce1754431a9f4f5382ec42916"
            }
          },
          "metadata": {}
        }
      ],
      "source": [
        "## For details and source see https://github.com/H-TayyarMadabushi/AStitchInLanguageModels/blob/main/Dataset/Task2/sentenceTransformers/training_stsbenchmark.py\n",
        "\n",
        "sts_dataset_path = '/content/datasets/stsbenchmark.tsv.gz'\n",
        "if not os.path.exists(sts_dataset_path):\n",
        "    util.http_get('https://sbert.net/datasets/stsbenchmark.tsv.gz', sts_dataset_path)"
      ]
    },
    {
      "cell_type": "code",
      "execution_count": null,
      "metadata": {
        "id": "rLFwlvB25v4Y",
        "colab": {
          "base_uri": "https://localhost:8080/",
          "height": 49,
          "referenced_widgets": [
            "f70e07a2e8f749618f133c727b44aeaf",
            "cb006230e6b84149b0b4d48dc8c26cac",
            "692af9834c1e45caae671f1352309b56",
            "8a493ab2bc3241599b4298a2cf7d38ea",
            "0647b8f4034241b18c35fc0ab0d0c18a",
            "00aa2764af1d4465a4974ef2232c49ed",
            "2968cc425c064ae28332e0ecc6760cc1",
            "e95adb09008c43e9bcf873d46d98eb3b",
            "a0dad766af204713978e48641b497272",
            "a2eaa063b08c46d49229b46f2fe4aa9e",
            "cff0d90d03594ebaa4e9ab2bdbc423eb"
          ]
        },
        "outputId": "4328991a-ba71-4dc6-a8ee-2de47a3a3b89"
      },
      "outputs": [
        {
          "output_type": "display_data",
          "data": {
            "text/plain": [
              "  0%|          | 0.00/392k [00:00<?, ?B/s]"
            ],
            "application/vnd.jupyter.widget-view+json": {
              "version_major": 2,
              "version_minor": 0,
              "model_id": "f70e07a2e8f749618f133c727b44aeaf"
            }
          },
          "metadata": {}
        }
      ],
      "source": [
        "  ## For details and source see https://github.com/H-TayyarMadabushi/AStitchInLanguageModels/blob/main/Dataset/Task2/sentenceTransformers/training_stsbenchmark.py\n",
        "\n",
        "  sts_dataset_path = os.path.join( outpath, 'datasets', 'stsbenchmark.tsv.gz' )\n",
        "  if not os.path.exists(sts_dataset_path):\n",
        "    util.http_get('https://sbert.net/datasets/stsbenchmark.tsv.gz', sts_dataset_path)\n",
        "\n",
        "  train_samples = []\n",
        "  dev_samples   = []\n",
        "  test_samples  = []\n",
        "  if 'EN' in languages : \n",
        "    with gzip.open(sts_dataset_path, 'rt', encoding='utf8') as fIn:\n",
        "      reader = csv.DictReader(fIn, delimiter='\\t', quoting=csv.QUOTE_NONE)\n",
        "      for row in reader:\n",
        "          score = float(row['score']) / 5.0  # Normalize score to range 0 ... 1\n",
        "          inp_example = InputExample(texts=[row['sentence1'], row['sentence2']], label=score)\n",
        "\n",
        "          if row['split'] == 'dev':\n",
        "              dev_samples.append(inp_example)\n",
        "          elif row['split'] == 'test':\n",
        "              test_samples.append(inp_example)\n",
        "          else:\n",
        "              train_samples.append(inp_example)\n",
        "              \n",
        "  if 'PT' in languages : \n",
        "    for split in [ 'train', 'validation', 'test' ] :\n",
        "      dataset = load_dataset( 'assin2', split=split )\n",
        "      for elem in dataset :\n",
        "        ## {'entailment_judgment': 1, 'hypothesis': 'Uma criança está segurando uma pistola de água', 'premise': 'Uma criança risonha está segurando uma pistola de água e sendo espirrada com água', 'relatedness_score': 4.5, 'sentence_pair_id': 1}\n",
        "          score = float( elem['relatedness_score'] ) / 5.0 # Normalize score to range 0 ... 1\n",
        "          inp_example = InputExample(texts=[elem['hypothesis'], elem['premise']], label=score)\n",
        "          if split == 'validation':\n",
        "            dev_samples.append(inp_example)\n",
        "          elif split == 'test':\n",
        "            test_samples.append(inp_example)\n",
        "          elif split == 'train' :\n",
        "            train_samples.append(inp_example)\n",
        "          else :\n",
        "              raise Exception( \"Unknown split. Should be one of ['train', 'test', 'validation'].\" )\n",
        "\n",
        " "
      ]
    },
    {
      "cell_type": "markdown",
      "metadata": {
        "id": "MxbpUIG660jK"
      },
      "source": [
        "### Train Tokenized Sentence Transformer Model"
      ]
    },
    {
      "cell_type": "code",
      "execution_count": null,
      "metadata": {
        "colab": {
          "base_uri": "https://localhost:8080/"
        },
        "id": "7Ybiqbf-67pj",
        "outputId": "7ab88ecc-b75f-4c14-aab8-6990d99ecf9d"
      },
      "outputs": [
        {
          "output_type": "stream",
          "name": "stderr",
          "text": [
            "Some weights of the model checkpoint at /content/models/mBERT-4 were not used when initializing RobertaModel: ['lm_head.layer_norm.weight', 'lm_head.dense.bias', 'lm_head.layer_norm.bias', 'lm_head.dense.weight', 'lm_head.bias']\n",
            "- This IS expected if you are initializing RobertaModel from the checkpoint of a model trained on another task or with another architecture (e.g. initializing a BertForSequenceClassification model from a BertForPreTraining model).\n",
            "- This IS NOT expected if you are initializing RobertaModel from the checkpoint of a model that you expect to be exactly identical (initializing a BertForSequenceClassification model from a BertForSequenceClassification model).\n",
            "Some weights of RobertaModel were not initialized from the model checkpoint at /content/models/mBERT-4 and are newly initialized: ['roberta.pooler.dense.weight', 'roberta.pooler.dense.bias']\n",
            "You should probably TRAIN this model on a down-stream task to be able to use it for predictions and inference.\n"
          ]
        }
      ],
      "source": [
        "model_path = outdir\n",
        "\n",
        "word_embedding_model = models.Transformer(model_path)\n",
        "\n",
        "# Apply mean pooling to get one fixed sized sentence vector\n",
        "pooling_model = models.Pooling(word_embedding_model.get_word_embedding_dimension(),\n",
        "                                 pooling_mode_mean_tokens=True,\n",
        "                                 pooling_mode_cls_token=False,\n",
        "                                 pooling_mode_max_tokens=False)\n",
        "  \n",
        "tokenizer      = AutoTokenizer.from_pretrained(\n",
        "    model_path             , \n",
        "    use_fast       = False ,\n",
        "    max_length     = 510   ,\n",
        "    force_download = True\n",
        "  )\n",
        "  \n",
        "model = SentenceTransformer(modules=[word_embedding_model, pooling_model])\n",
        "model._first_module().tokenizer = tokenizer\n",
        "\n",
        "model.save( sent_trans_path )\n"
      ]
    },
    {
      "cell_type": "code",
      "execution_count": null,
      "metadata": {
        "colab": {
          "base_uri": "https://localhost:8080/",
          "height": 152,
          "referenced_widgets": [
            "1fc756966cc8431195b4f85164e1faee",
            "b9917b043f5741da8fdcdff20bf22685",
            "9403475659d74180ad2a2a407b8c9d25",
            "e476ff6ce8804d87b1faeec3c365d935",
            "d9f8ef6710414711b004e1f9cb22cf45",
            "69c871d7676c4854bc477058c0b777de",
            "2171316a7403416bb6e8884b22fee3c6",
            "d39deb7b742a47759db3d89b3f6af4fa",
            "c09d8f7da49c43edb5548383c5c4ca7a",
            "bce643a6889e44bd89a3039e4ed045b2",
            "15adef87d6fe4f2a932c88b7bdd113f5",
            "ae96e5abd00e421899e358e6181cfa3e",
            "08e15a1ce2e14fa3bb96d81d84cef95a",
            "f625a72342d84b1597f815a16c4bcee5",
            "3862ba431fd14409939dad39605c4026",
            "f0998a952369489e8bbefeb57004b78c",
            "eb7310fd45c34d0baa56935cf7df6a83",
            "99a8f4e081974498877264ea0972454d",
            "6ce1d09e2f3f4745b271d75264dc0f3d",
            "e2fa1fc4c5974d078a2a224ff117883e",
            "33fe15b49a5c4328b3929f2a44aa2888",
            "9a5407473fc9473aaf878d7e8d507731"
          ]
        },
        "id": "CGNMEhqx788Z",
        "outputId": "2922f650-245b-44fb-d8b5-39d729db1c6f"
      },
      "outputs": [
        {
          "metadata": {
            "tags": null
          },
          "name": "stdout",
          "output_type": "stream",
          "text": [
            "Warmup-steps: 576\n"
          ]
        },
        {
          "metadata": {
            "tags": null
          },
          "name": "stderr",
          "output_type": "stream",
          "text": [
            "/usr/local/lib/python3.7/dist-packages/transformers/optimization.py:309: FutureWarning: This implementation of AdamW is deprecated and will be removed in a future version. Use the PyTorch implementation torch.optim.AdamW instead, or set `no_deprecation_warning=True` to disable this warning\n",
            "  FutureWarning,\n"
          ]
        },
        {
          "data": {
            "application/vnd.jupyter.widget-view+json": {
              "model_id": "1fc756966cc8431195b4f85164e1faee",
              "version_major": 2,
              "version_minor": 0
            },
            "text/plain": [
              "Epoch:   0%|          | 0/4 [00:00<?, ?it/s]"
            ]
          },
          "metadata": {},
          "output_type": "display_data"
        },
        {
          "data": {
            "application/vnd.jupyter.widget-view+json": {
              "model_id": "ae96e5abd00e421899e358e6181cfa3e",
              "version_major": 2,
              "version_minor": 0
            },
            "text/plain": [
              "Iteration:   0%|          | 0/1438 [00:00<?, ?it/s]"
            ]
          },
          "metadata": {},
          "output_type": "display_data"
        }
      ],
      "source": [
        "train_batch_size = 4\n",
        "num_epochs       = 4\n",
        "    \n",
        "train_dataloader = DataLoader(train_samples, shuffle=True, batch_size=train_batch_size)\n",
        "train_loss       = losses.CosineSimilarityLoss(model=model)\n",
        "    \n",
        "evaluator        = EmbeddingSimilarityEvaluator.from_input_examples(dev_samples, name='sts-dev')\n",
        "\n",
        "# Configure the training. \n",
        "warmup_steps     = math.ceil(len(train_dataloader) * num_epochs  * 0.1) #10% of train data for warm-up\n",
        "print(\"Warmup-steps: {}\".format(warmup_steps), flush=True)\n",
        "\n",
        "# Train the model\n",
        "  \n",
        "model.fit(train_objectives=[(train_dataloader, train_loss)],\n",
        "            evaluator=evaluator,\n",
        "            epochs=num_epochs,\n",
        "            evaluation_steps=1000,\n",
        "            warmup_steps=warmup_steps,\n",
        "            output_path=model_save_path\n",
        "  )\n",
        "\n",
        "test_evaluator = EmbeddingSimilarityEvaluator.from_input_examples(test_samples, name='sts-test')\n",
        "test_evaluator(model, output_path=model_save_path)\n",
        "\n",
        "model_path = model_save_path"
      ]
    },
    {
      "cell_type": "markdown",
      "metadata": {
        "id": "eQYQ9ifRXkz7"
      },
      "source": [
        "## Load/Save from/to Google Drive"
      ]
    },
    {
      "cell_type": "code",
      "execution_count": null,
      "metadata": {
        "colab": {
          "base_uri": "https://localhost:8080/"
        },
        "id": "C5a1lomeUn2S",
        "outputId": "b8d94ef0-be92-447c-ad2f-9eec2250eb7f"
      },
      "outputs": [
        {
          "name": "stdout",
          "output_type": "stream",
          "text": [
            "Mounted at /content/gdrive\n"
          ]
        }
      ],
      "source": [
        "from google.colab import drive\n",
        "drive.mount('/content/gdrive')"
      ]
    },
    {
      "cell_type": "code",
      "execution_count": null,
      "metadata": {
        "id": "RGxKB7dtoEa5"
      },
      "outputs": [],
      "source": [
        "## Save\n",
        "!mkdir -p /content/gdrive/MyDrive/ColabData/SemEval2022Task2/SubtaskB/tokenizedSentTransNoPreTrain/\n",
        "!cp -r /content/models/tokenizedSentTransNoPreTrain_4/* /content/gdrive/MyDrive/ColabData/SemEval2022Task2/SubtaskB/tokenizedSentTransNoPreTrain/"
      ]
    },
    {
      "cell_type": "code",
      "execution_count": null,
      "metadata": {
        "colab": {
          "base_uri": "https://localhost:8080/",
          "height": 37
        },
        "id": "pBHMP1uzEty9",
        "outputId": "fb333dab-8c28-4b37-bb57-f65aa5098eb9"
      },
      "outputs": [
        {
          "data": {
            "application/vnd.google.colaboratory.intrinsic+json": {
              "type": "string"
            },
            "text/plain": [
              "'/content/models/tokenizedSentTrans_4'"
            ]
          },
          "execution_count": 85,
          "metadata": {},
          "output_type": "execute_result"
        }
      ],
      "source": [
        "sent_trans_path "
      ]
    },
    {
      "cell_type": "code",
      "execution_count": null,
      "metadata": {
        "id": "v1SV2ih58KEB"
      },
      "outputs": [],
      "source": [
        "## Load\n",
        "#!mkdir -p /content/models/tokenizedSentTransNoPreTrain_4\n",
        "#!cp -r /content/gdrive/MyDrive/ColabData/SemEval2022Task2/SubtaskB/tokenizedSentTransNoPreTrain/* /content/models/tokenizedSentTransNoPreTrain_4 "
      ]
    },
    {
      "cell_type": "code",
      "execution_count": null,
      "metadata": {
        "id": "I-xqfI4YU0N1"
      },
      "outputs": [],
      "source": [
        "model_path = model_save_path"
      ]
    },
    {
      "cell_type": "markdown",
      "metadata": {
        "id": "k0ImhRTsXrzy"
      },
      "source": [
        "## Generate submission File and Evaluate "
      ]
    },
    {
      "cell_type": "markdown",
      "metadata": {
        "id": "25UCCZ8lPiZ5"
      },
      "source": [
        "These functions provide a way of finding the Semantic Text Similarity using (Sentence Transformers) between sentences containing MWEs. \n",
        "\n",
        "To do this we first replace all instances of MWEs in the input sentences with single tokens and then use Sentence Transformers. \n"
      ]
    },
    {
      "cell_type": "code",
      "execution_count": null,
      "metadata": {
        "id": "45MiwA7wVMdv"
      },
      "outputs": [],
      "source": [
        "def prepare_eval_data( location, languages, test_print=False ) :\n",
        "    header, data = load_csv( location )\n",
        "    sentence1s = list()\n",
        "    sentence2s = list()\n",
        "    for elem in data : \n",
        "        if not languages is None and not elem[ header.index( 'Language' ) ] in languages : \n",
        "            continue\n",
        "        sentence1 = elem[ header.index( 'sentence1' ) ] \n",
        "        sentence2 = elem[ header.index( 'sentence2' ) ] \n",
        "        mwe1      = elem[ header.index( 'MWE1'      ) ] \n",
        "        mwe2      = elem[ header.index( 'MWE2'      ) ] \n",
        "\n",
        "        if test_print : \n",
        "            print( sentence1 ) \n",
        "            print( sentence2 ) \n",
        "            print( mwe1 ) \n",
        "            print( mwe2 ) \n",
        "\n",
        "        if mwe1 != 'None' : \n",
        "            replaced = re.sub( mwe1, tokenise_idiom( mwe1 ), sentence1, flags=re.I)\n",
        "            assert replaced != sentence1\n",
        "            sentence1 = replaced\n",
        "        if mwe2 != 'None' : \n",
        "            replaced = re.sub( mwe1, tokenise_idiom( mwe2 ), sentence2, flags=re.I)\n",
        "            assert replaced != sentence2\n",
        "            sentence2 = replaced\n",
        "\n",
        "        if test_print : \n",
        "            print( sentence1 ) \n",
        "            print( sentence2 ) \n",
        "            break\n",
        "\n",
        "        sentence1s.append( sentence1 ) \n",
        "        sentence2s.append( sentence2 ) \n",
        "\n",
        "    return sentence1s, sentence2s\n",
        "\n",
        "\n",
        "def get_similarities( location, model, languages=None ) : \n",
        "    sentences1, sentences2 = prepare_eval_data( location, languages ) \n",
        "\n",
        "    #Compute embedding for both lists\n",
        "    embeddings1 = model.encode(sentences1, show_progress_bar=True, convert_to_numpy=True)\n",
        "    embeddings2 = model.encode(sentences2, show_progress_bar=True, convert_to_numpy=True)\n",
        "\n",
        "    # Compute cosine-similarits\n",
        "    cosine_scores = 1 - (paired_cosine_distances(embeddings1, embeddings2))\n",
        "\n",
        "    return cosine_scores\n"
      ]
    },
    {
      "cell_type": "code",
      "execution_count": null,
      "metadata": {
        "colab": {
          "base_uri": "https://localhost:8080/",
          "height": 37
        },
        "id": "eFZaPwnWTzjB",
        "outputId": "1704cef1-41e1-4a78-c923-d37b39b9d551"
      },
      "outputs": [
        {
          "data": {
            "application/vnd.google.colaboratory.intrinsic+json": {
              "type": "string"
            },
            "text/plain": [
              "'/content/models/tokenizedSentTransNoPreTrain_4'"
            ]
          },
          "execution_count": 87,
          "metadata": {},
          "output_type": "execute_result"
        }
      ],
      "source": [
        "model_path"
      ]
    },
    {
      "cell_type": "code",
      "execution_count": null,
      "metadata": {
        "id": "AzEJjzPlZqCK"
      },
      "outputs": [],
      "source": [
        "model      = SentenceTransformer( model_path )"
      ]
    },
    {
      "cell_type": "markdown",
      "metadata": {
        "id": "l4IfCDcpQPpJ"
      },
      "source": [
        "This following generates the similarities that we require for the development and evaluation splits. "
      ]
    },
    {
      "cell_type": "code",
      "execution_count": null,
      "metadata": {
        "colab": {
          "base_uri": "https://localhost:8080/",
          "height": 145,
          "referenced_widgets": [
            "83bf6f30549d41bd9547679f81f7f453",
            "dd2ba5ec94de41f589da939b254ebab8",
            "2a34e076ba6b4940869081ac134e28b0",
            "bf0d2b49e4f74ef4b409a29e9650c197",
            "af6c3adcf37f46e39a99ed9039d98f32",
            "684839c013d34e25ba3719a6b0254860",
            "8c86ad45c9a741389021226156b9adc8",
            "0afe47ca0bfb456cae652cf7d3c9cbbf",
            "9e3c3f1b00094735a83ab796749addf2",
            "f81fa38cdd1a4feda79701c56f0166a7",
            "f10e60eb37ed408f80c7e1dd83ea6822",
            "70d5248c72fd47fc94268f56276ec596",
            "d8fd31feceda4a01958846df1a8faf8c",
            "3f3c56584adf457bbde08a7f0b9272da",
            "6e0e39807c4e453ba826d36ef3e5ec5a",
            "476ca280e65e4b5d8ef4e9e7b7e625c1",
            "2eac324772344dcd861503fbf702b232",
            "25e6d54ffcda477e8fc534fbf0e22933",
            "6d97dcef0f784a0fa2d3552f45c0d4c4",
            "07986405983b4839a321037c02f36168",
            "0470c716114a4126a65454292bd7c2c8",
            "66d7f98863b94cd7842688156df05185",
            "1a00a8696f1142c3a57f82aed94ffbf7",
            "f9d825ab00544e568babb1fd8792ba46",
            "109b6381b1e249c9a644de35237a9e42",
            "cbb54a0ba8c94133bbc31a5732ae73dc",
            "994cba73fc19490aa1eccae7bce356fd",
            "1e822ea1141a443aa114fb17155de1df",
            "a49e69868046447bab7fcce3183d7d9a",
            "49335bdd0b7b4493887bc021fac87fd3",
            "a0f80906762d4aaa8a61f65e8aa78524",
            "7f63d634c062449fbf827fffd4399546",
            "7aaa7baa65aa4cc2a6766dfdecc321e2",
            "1db9b5f4e0404d2d9ed24e15c99b1282",
            "e0555db798454554a5e3258e8e356021",
            "ecd94b9ebfd54533b4f5db801405e09c",
            "cf11e430366346b6b42380e219991423",
            "a686319ac7ab4ef6905ecc5984997d74",
            "73335c7acbdb472aa4370731bed6233f",
            "22d254a3cade4035b06d3b119c41678b",
            "c5ed580b57c2459fa2fc537a969cb3c6",
            "e6586022f13e4e68a2553fbdd93184bd",
            "24b8d005abcc4c67bac573f3c5745024",
            "f2bade3411e54f1b88653c7f1049a5d5"
          ]
        },
        "id": "ktdLcnLoE42C",
        "outputId": "63e4c5e5-191e-4b63-8251-20edbea0e620"
      },
      "outputs": [
        {
          "data": {
            "application/vnd.jupyter.widget-view+json": {
              "model_id": "83bf6f30549d41bd9547679f81f7f453",
              "version_major": 2,
              "version_minor": 0
            },
            "text/plain": [
              "Batches:   0%|          | 0/35 [00:00<?, ?it/s]"
            ]
          },
          "metadata": {},
          "output_type": "display_data"
        },
        {
          "data": {
            "application/vnd.jupyter.widget-view+json": {
              "model_id": "70d5248c72fd47fc94268f56276ec596",
              "version_major": 2,
              "version_minor": 0
            },
            "text/plain": [
              "Batches:   0%|          | 0/35 [00:00<?, ?it/s]"
            ]
          },
          "metadata": {},
          "output_type": "display_data"
        },
        {
          "data": {
            "application/vnd.jupyter.widget-view+json": {
              "model_id": "1a00a8696f1142c3a57f82aed94ffbf7",
              "version_major": 2,
              "version_minor": 0
            },
            "text/plain": [
              "Batches:   0%|          | 0/37 [00:00<?, ?it/s]"
            ]
          },
          "metadata": {},
          "output_type": "display_data"
        },
        {
          "data": {
            "application/vnd.jupyter.widget-view+json": {
              "model_id": "1db9b5f4e0404d2d9ed24e15c99b1282",
              "version_major": 2,
              "version_minor": 0
            },
            "text/plain": [
              "Batches:   0%|          | 0/37 [00:00<?, ?it/s]"
            ]
          },
          "metadata": {},
          "output_type": "display_data"
        }
      ],
      "source": [
        "dev_sims  = get_similarities( dev_location , model, languages ) \n",
        "eval_sims = get_similarities( eval_location, model, languages )"
      ]
    },
    {
      "cell_type": "markdown",
      "metadata": {
        "id": "TkW797n6Qi3i"
      },
      "source": [
        "The following function creates a submission file with the predictions generated. \n",
        "\n",
        "Note that we set it up so we can load up results for only one setting. \n",
        "\n",
        "It requires as input the submission format file, which is available with the data. \n"
      ]
    },
    {
      "cell_type": "code",
      "execution_count": null,
      "metadata": {
        "id": "EC0_a21oVkue"
      },
      "outputs": [],
      "source": [
        "def insert_to_submission( languages, settings, sims, location ) : \n",
        "    header, data = load_csv( location ) \n",
        "    sims = list( reversed( sims ) )\n",
        "    ## Validate with length\n",
        "    updatable = [ i for i in data if i[ header.index( 'Language' ) ] in languages and i[ header.index( 'Setting' ) ] in settings ]\n",
        "    assert len( updatable ) == len( sims ) \n",
        "\n",
        "  ## Will update in sequence - if data is not in sequence must update one language / setting at a time. \n",
        "    started_update = False\n",
        "    for elem in data : \n",
        "        if elem[ header.index( 'Language' ) ] in languages and elem[ header.index( 'Setting' ) ] in settings : \n",
        "            sim_to_insert = sims.pop()\n",
        "            elem[-1] = sim_to_insert\n",
        "            started_update = True\n",
        "        else :  \n",
        "            assert not started_update ## Once we start, we must complete. \n",
        "        if len( sims ) == 0 : \n",
        "            break \n",
        "    assert len( sims ) == 0 ## Should be done here. \n",
        "\n",
        "    return [ header ] + data ## Submission file must retain header. "
      ]
    },
    {
      "cell_type": "markdown",
      "metadata": {
        "id": "UvrAhCf4Q8wX"
      },
      "source": [
        "For the dev set, we can use the evaluation script and gold labels to see what the results are. \n"
      ]
    },
    {
      "cell_type": "code",
      "execution_count": null,
      "metadata": {
        "colab": {
          "base_uri": "https://localhost:8080/",
          "height": 236
        },
        "id": "NzUoEbtrVooH",
        "outputId": "89c824fc-be2c-494b-b9df-78956c1ab6de"
      },
      "outputs": [
        {
          "name": "stdout",
          "output_type": "stream",
          "text": [
            "Wrote /content/models/dev.pre_train_results-4.csv\n"
          ]
        },
        {
          "data": {
            "application/vnd.google.colaboratory.module+javascript": "\n      import \"https://ssl.gstatic.com/colaboratory/data_table/f872b2c2305463fd/data_table.js\";\n\n      window.createDataTable({\n        data: [[{\n            'v': 0,\n            'f': \"0\",\n        },\n\"pre_train\",\n\"EN\",\n0.7940308937093372,\n0.32761809297891625,\n0.8616268199358654],\n [{\n            'v': 1,\n            'f': \"1\",\n        },\n\"pre_train\",\n\"PT\",\n\"Did Not Attempt\",\n\"Did Not Attempt\",\n\"Did Not Attempt\"],\n [{\n            'v': 2,\n            'f': \"2\",\n        },\n\"pre_train\",\n\"EN,PT\",\n\"Did Not Attempt\",\n\"Did Not Attempt\",\n\"Did Not Attempt\"],\n [{\n            'v': 3,\n            'f': \"3\",\n        },\n\"fine_tune\",\n\"EN\",\n\"Did Not Attempt\",\n\"Did Not Attempt\",\n\"Did Not Attempt\"],\n [{\n            'v': 4,\n            'f': \"4\",\n        },\n\"fine_tune\",\n\"PT\",\n\"Did Not Attempt\",\n\"Did Not Attempt\",\n\"Did Not Attempt\"],\n [{\n            'v': 5,\n            'f': \"5\",\n        },\n\"fine_tune\",\n\"EN,PT\",\n\"Did Not Attempt\",\n\"Did Not Attempt\",\n\"Did Not Attempt\"]],\n        columns: [[\"number\", \"index\"], [\"string\", \"Settings\"], [\"string\", \"Languages\"], [\"string\", \"Spearman Rank ALL\"], [\"string\", \"Spearman Rank Idiom Data\"], [\"string\", \"Spearman Rank STS Data\"]],\n        columnOptions: [{\"width\": \"1px\", \"className\": \"index_column\"}],\n        rowsPerPage: 25,\n        helpUrl: \"https://colab.research.google.com/notebooks/data_table.ipynb\",\n        suppressOutputScrolling: true,\n        minimumWidth: undefined,\n      });\n    ",
            "text/html": [
              "\n",
              "  <div id=\"df-68e8ea25-babc-46cb-8eb2-f93ad46e4d6b\">\n",
              "    <div class=\"colab-df-container\">\n",
              "      <div>\n",
              "<style scoped>\n",
              "    .dataframe tbody tr th:only-of-type {\n",
              "        vertical-align: middle;\n",
              "    }\n",
              "\n",
              "    .dataframe tbody tr th {\n",
              "        vertical-align: top;\n",
              "    }\n",
              "\n",
              "    .dataframe thead th {\n",
              "        text-align: right;\n",
              "    }\n",
              "</style>\n",
              "<table border=\"1\" class=\"dataframe\">\n",
              "  <thead>\n",
              "    <tr style=\"text-align: right;\">\n",
              "      <th></th>\n",
              "      <th>Settings</th>\n",
              "      <th>Languages</th>\n",
              "      <th>Spearman Rank ALL</th>\n",
              "      <th>Spearman Rank Idiom Data</th>\n",
              "      <th>Spearman Rank STS Data</th>\n",
              "    </tr>\n",
              "  </thead>\n",
              "  <tbody>\n",
              "    <tr>\n",
              "      <th>0</th>\n",
              "      <td>pre_train</td>\n",
              "      <td>EN</td>\n",
              "      <td>0.794031</td>\n",
              "      <td>0.327618</td>\n",
              "      <td>0.861627</td>\n",
              "    </tr>\n",
              "    <tr>\n",
              "      <th>1</th>\n",
              "      <td>pre_train</td>\n",
              "      <td>PT</td>\n",
              "      <td>Did Not Attempt</td>\n",
              "      <td>Did Not Attempt</td>\n",
              "      <td>Did Not Attempt</td>\n",
              "    </tr>\n",
              "    <tr>\n",
              "      <th>2</th>\n",
              "      <td>pre_train</td>\n",
              "      <td>EN,PT</td>\n",
              "      <td>Did Not Attempt</td>\n",
              "      <td>Did Not Attempt</td>\n",
              "      <td>Did Not Attempt</td>\n",
              "    </tr>\n",
              "    <tr>\n",
              "      <th>3</th>\n",
              "      <td>fine_tune</td>\n",
              "      <td>EN</td>\n",
              "      <td>Did Not Attempt</td>\n",
              "      <td>Did Not Attempt</td>\n",
              "      <td>Did Not Attempt</td>\n",
              "    </tr>\n",
              "    <tr>\n",
              "      <th>4</th>\n",
              "      <td>fine_tune</td>\n",
              "      <td>PT</td>\n",
              "      <td>Did Not Attempt</td>\n",
              "      <td>Did Not Attempt</td>\n",
              "      <td>Did Not Attempt</td>\n",
              "    </tr>\n",
              "    <tr>\n",
              "      <th>5</th>\n",
              "      <td>fine_tune</td>\n",
              "      <td>EN,PT</td>\n",
              "      <td>Did Not Attempt</td>\n",
              "      <td>Did Not Attempt</td>\n",
              "      <td>Did Not Attempt</td>\n",
              "    </tr>\n",
              "  </tbody>\n",
              "</table>\n",
              "</div>\n",
              "      <button class=\"colab-df-convert\" onclick=\"convertToInteractive('df-68e8ea25-babc-46cb-8eb2-f93ad46e4d6b')\"\n",
              "              title=\"Convert this dataframe to an interactive table.\"\n",
              "              style=\"display:none;\">\n",
              "        \n",
              "  <svg xmlns=\"http://www.w3.org/2000/svg\" height=\"24px\"viewBox=\"0 0 24 24\"\n",
              "       width=\"24px\">\n",
              "    <path d=\"M0 0h24v24H0V0z\" fill=\"none\"/>\n",
              "    <path d=\"M18.56 5.44l.94 2.06.94-2.06 2.06-.94-2.06-.94-.94-2.06-.94 2.06-2.06.94zm-11 1L8.5 8.5l.94-2.06 2.06-.94-2.06-.94L8.5 2.5l-.94 2.06-2.06.94zm10 10l.94 2.06.94-2.06 2.06-.94-2.06-.94-.94-2.06-.94 2.06-2.06.94z\"/><path d=\"M17.41 7.96l-1.37-1.37c-.4-.4-.92-.59-1.43-.59-.52 0-1.04.2-1.43.59L10.3 9.45l-7.72 7.72c-.78.78-.78 2.05 0 2.83L4 21.41c.39.39.9.59 1.41.59.51 0 1.02-.2 1.41-.59l7.78-7.78 2.81-2.81c.8-.78.8-2.07 0-2.86zM5.41 20L4 18.59l7.72-7.72 1.47 1.35L5.41 20z\"/>\n",
              "  </svg>\n",
              "      </button>\n",
              "      \n",
              "  <style>\n",
              "    .colab-df-container {\n",
              "      display:flex;\n",
              "      flex-wrap:wrap;\n",
              "      gap: 12px;\n",
              "    }\n",
              "\n",
              "    .colab-df-convert {\n",
              "      background-color: #E8F0FE;\n",
              "      border: none;\n",
              "      border-radius: 50%;\n",
              "      cursor: pointer;\n",
              "      display: none;\n",
              "      fill: #1967D2;\n",
              "      height: 32px;\n",
              "      padding: 0 0 0 0;\n",
              "      width: 32px;\n",
              "    }\n",
              "\n",
              "    .colab-df-convert:hover {\n",
              "      background-color: #E2EBFA;\n",
              "      box-shadow: 0px 1px 2px rgba(60, 64, 67, 0.3), 0px 1px 3px 1px rgba(60, 64, 67, 0.15);\n",
              "      fill: #174EA6;\n",
              "    }\n",
              "\n",
              "    [theme=dark] .colab-df-convert {\n",
              "      background-color: #3B4455;\n",
              "      fill: #D2E3FC;\n",
              "    }\n",
              "\n",
              "    [theme=dark] .colab-df-convert:hover {\n",
              "      background-color: #434B5C;\n",
              "      box-shadow: 0px 1px 3px 1px rgba(0, 0, 0, 0.15);\n",
              "      filter: drop-shadow(0px 1px 2px rgba(0, 0, 0, 0.3));\n",
              "      fill: #FFFFFF;\n",
              "    }\n",
              "  </style>\n",
              "\n",
              "      <script>\n",
              "        const buttonEl =\n",
              "          document.querySelector('#df-68e8ea25-babc-46cb-8eb2-f93ad46e4d6b button.colab-df-convert');\n",
              "        buttonEl.style.display =\n",
              "          google.colab.kernel.accessAllowed ? 'block' : 'none';\n",
              "\n",
              "        async function convertToInteractive(key) {\n",
              "          const element = document.querySelector('#df-68e8ea25-babc-46cb-8eb2-f93ad46e4d6b');\n",
              "          const dataTable =\n",
              "            await google.colab.kernel.invokeFunction('convertToInteractive',\n",
              "                                                     [key], {});\n",
              "          if (!dataTable) return;\n",
              "\n",
              "          const docLinkHtml = 'Like what you see? Visit the ' +\n",
              "            '<a target=\"_blank\" href=https://colab.research.google.com/notebooks/data_table.ipynb>data table notebook</a>'\n",
              "            + ' to learn more about interactive tables.';\n",
              "          element.innerHTML = '';\n",
              "          dataTable['output_type'] = 'display_data';\n",
              "          await google.colab.output.renderOutput(dataTable, element);\n",
              "          const docLink = document.createElement('div');\n",
              "          docLink.innerHTML = docLinkHtml;\n",
              "          element.appendChild(docLink);\n",
              "        }\n",
              "      </script>\n",
              "    </div>\n",
              "  </div>\n",
              "  "
            ],
            "text/plain": [
              "    Settings Languages Spearman Rank ALL Spearman Rank Idiom Data  \\\n",
              "0  pre_train        EN          0.794031                 0.327618   \n",
              "1  pre_train        PT   Did Not Attempt          Did Not Attempt   \n",
              "2  pre_train     EN,PT   Did Not Attempt          Did Not Attempt   \n",
              "3  fine_tune        EN   Did Not Attempt          Did Not Attempt   \n",
              "4  fine_tune        PT   Did Not Attempt          Did Not Attempt   \n",
              "5  fine_tune     EN,PT   Did Not Attempt          Did Not Attempt   \n",
              "\n",
              "  Spearman Rank STS Data  \n",
              "0               0.861627  \n",
              "1        Did Not Attempt  \n",
              "2        Did Not Attempt  \n",
              "3        Did Not Attempt  \n",
              "4        Did Not Attempt  \n",
              "5        Did Not Attempt  "
            ]
          },
          "execution_count": 91,
          "metadata": {},
          "output_type": "execute_result"
        }
      ],
      "source": [
        "## Create submission file on the development set. \n",
        "submission_data = insert_to_submission( languages, [ 'pre_train' ], dev_sims, dev_formated_file_location )  \n",
        "results_file    = os.path.join( outpath, 'dev.pre_train_results-' + str( seed ) + '.csv' )\n",
        "write_csv( submission_data, results_file )\n",
        "\n",
        "## Evaluate development set. \n",
        "results = evaluate_submission( results_file, os.path.join( data_location, 'dev.gold.csv' ) )\n",
        "\n",
        "## Make results printable. \n",
        "for result in results : \n",
        "    for result_index in range( 2, 5 ) : \n",
        "        result[result_index] = 'Did Not Attempt' if result[result_index] is None else result[ result_index ]\n",
        "%reload_ext google.colab.data_table\n",
        "import pandas as pd\n",
        "df = pd.DataFrame(data=results[1:], columns=results[0])\n",
        "\n",
        "df"
      ]
    },
    {
      "cell_type": "code",
      "execution_count": null,
      "metadata": {
        "colab": {
          "base_uri": "https://localhost:8080/"
        },
        "id": "IiFiPaNEWEBT",
        "outputId": "96236674-104e-424e-8a91-608156e66376"
      },
      "outputs": [
        {
          "name": "stdout",
          "output_type": "stream",
          "text": [
            "Wrote /content/models/RESULTS_TABLE-dev.pre_train_4.csv\n"
          ]
        }
      ],
      "source": [
        "results_file = os.path.join( outpath, 'RESULTS_TABLE-dev.pre_train_' + str( seed ) + '.csv' )    \n",
        "write_csv( results, results_file )"
      ]
    },
    {
      "cell_type": "markdown",
      "metadata": {
        "id": "UdwcYJxYRGkX"
      },
      "source": [
        "### Generate output for the evaluation set\n",
        "Note that we do not have access to the gold labels for the eval set. These results must be submitted to CodaLab.\n"
      ]
    },
    {
      "cell_type": "code",
      "execution_count": null,
      "metadata": {
        "id": "fPYJHeWSVlkW"
      },
      "outputs": [],
      "source": [
        "# Save\n",
        "!cp /content/models/RESULTS_TABLE-dev.pre_train_4.csv /content/gdrive/MyDrive/ColabData/SemEval2022Task2/tokenizedSentTransNoPreTrain/"
      ]
    },
    {
      "cell_type": "code",
      "execution_count": null,
      "metadata": {
        "colab": {
          "base_uri": "https://localhost:8080/"
        },
        "id": "LPHXmbT9oy2B",
        "outputId": "08562242-234b-43b1-fd84-4b9f76a3ba8e"
      },
      "outputs": [
        {
          "name": "stdout",
          "output_type": "stream",
          "text": [
            "Wrote /content/models/eval.pre_train_results-4.csv\n"
          ]
        }
      ],
      "source": [
        "submission_data = insert_to_submission( languages, [ 'pre_train' ], eval_sims, eval_formated_file_location )  \n",
        "results_file    = os.path.join( outpath, 'eval.pre_train_results-' + str( seed ) + '.csv' )\n",
        "write_csv( submission_data, results_file )"
      ]
    },
    {
      "cell_type": "markdown",
      "metadata": {
        "id": "Gju_GQDg9Zjf"
      },
      "source": [
        "# Setting: Fine-Tune\n",
        "\n",
        "We must start with a model that can already output Semantic Text Similarity here. \n",
        "\n",
        "We choose to use the model we created in the previous sections and as such continue to use the MWE tokenization. \n",
        "\n"
      ]
    },
    {
      "cell_type": "markdown",
      "metadata": {
        "id": "yarSbc7LBfkw"
      },
      "source": [
        "## Generate Training Data"
      ]
    },
    {
      "cell_type": "markdown",
      "metadata": {
        "id": "l5y9-BduDBMx"
      },
      "source": [
        "### Helper Functions\n",
        "We need to perform some preprocessing to generate the required training data. \n",
        "\n",
        "Notice that the training data either has an associated similarity or requires us to generate a similarity measure based on the alternative sentences provided. \n",
        "\n"
      ]
    },
    {
      "cell_type": "markdown",
      "metadata": {
        "id": "wBKB72WnXEtD"
      },
      "source": [
        "#### _parse_train_data\n",
        "\n",
        "The *_parse_train_data* function splits the training data provided into three lists: \n",
        "  * The first (​​train_data_with_labels) is the list of sentence pairs that have an associated similarity measure and so do not require further processing. \n",
        "\n",
        "  * The second (train_data_requiring_labels) is the list of sentence pairs that do not have associated similarities.\n",
        "\n",
        "  * The third (need_predictions_for_train_data_labels) is the list of “associated sentence pairs” which must be used to generate similarities for the above list of sentences pairs. Since the training data is based on self-consistency, we need to generate similarities between sentences that do not contain MWEs to compare against. \n",
        "\n",
        "For more details on the training data, please see the [associated section](https://sites.google.com/view/semeval2022task2-idiomaticity#h.qq7eefmehqf9) on the [task description website](https://sites.google.com/view/semeval2022task2-idiomaticity).\n"
      ]
    },
    {
      "cell_type": "code",
      "execution_count": null,
      "metadata": {
        "id": "2Ph0_2LSCygc"
      },
      "outputs": [],
      "source": [
        "def _parse_train_data( train_data_location, languages, tokenize=True ) :\n",
        "\n",
        "    header, train_data = load_csv( train_data_location )\n",
        "    \n",
        "    train_data_with_labels                 = list()\n",
        "    train_data_requiring_labels            = list()\n",
        "    need_predictions_for_train_data_labels = list()\n",
        "\n",
        "    # ['ID', 'MWE1', 'MWE2', 'Language', 'sentence_1', 'sentence_2', 'sim', 'alternative_1', 'alternative_2']\n",
        "\n",
        "    skipped = 0 \n",
        "\n",
        "    for elem in train_data :\n",
        "\n",
        "        if not elem[ header.index( 'Language' ) ] in languages :\n",
        "            skipped += 1\n",
        "            continue\n",
        "\n",
        "        mwe1          = elem[ header.index( 'MWE1'          ) ] \n",
        "        mwe2          = elem[ header.index( 'MWE2'          ) ] \n",
        "        \n",
        "        this_sim      = elem[ header.index( 'sim'           ) ]\n",
        "        sentence_1    = elem[ header.index( 'sentence_1'    ) ]\n",
        "        sentence_2    = elem[ header.index( 'sentence_2'    ) ]\n",
        "        alternative_1 = elem[ header.index( 'alternative_1' ) ]\n",
        "        alternative_2 = elem[ header.index( 'alternative_2' ) ]\n",
        "\n",
        "        ## Remove below if you do not want to tokenize with idiom tokens!\n",
        "        if tokenize : \n",
        "            if mwe1 != 'None' : \n",
        "                replaced = re.sub( mwe1, tokenise_idiom( mwe1 ), sentence_1, flags=re.I)\n",
        "                assert replaced != sentence_1\n",
        "                sentence_1 = replaced\n",
        "            if mwe2 != 'None' : \n",
        "                replaced = re.sub( mwe1, tokenise_idiom( mwe2 ), sentence_2, flags=re.I)\n",
        "                assert replaced != sentence_2\n",
        "                sentence_2 = replaced\n",
        "  \n",
        "   \n",
        "        if this_sim != 'None' :\n",
        "            tmp = float( this_sim ) \n",
        "            train_data_with_labels.append( [ sentence_1, sentence_2, this_sim ] ) \n",
        "            continue\n",
        "            \n",
        "        train_data_requiring_labels.append( [ sentence_1, sentence_2 ] ) \n",
        "        need_predictions_for_train_data_labels.append( [ alternative_1, alternative_2 ] )\n",
        "\n",
        "    assert len( need_predictions_for_train_data_labels ) == len( train_data_requiring_labels )\n",
        "    assert len( train_data ) == len( need_predictions_for_train_data_labels ) + len( train_data_with_labels ) + skipped\n",
        "\n",
        "    return train_data_with_labels, train_data_requiring_labels, need_predictions_for_train_data_labels \n"
      ]
    },
    {
      "cell_type": "markdown",
      "metadata": {
        "id": "AMfpb1PADSAP"
      },
      "source": [
        "#### _get_predictions_for_train_data_labels\n",
        "\n",
        "This function is used to generate similarities between the “associated sentences” (i.e. need_predictions_for_train_data_labels) generated above. "
      ]
    },
    {
      "cell_type": "code",
      "execution_count": null,
      "metadata": {
        "id": "6UTJWJ-IDi8N"
      },
      "outputs": [],
      "source": [
        "def _get_predictions_for_train_data_labels( model_path, data ) :\n",
        "\n",
        "    model      = SentenceTransformer( model_path )\n",
        "\n",
        "    sentences1 = [ i[0] for i in data ]\n",
        "    sentences2 = [ i[1] for i in data ]\n",
        "\n",
        "    embeddings1 = model.encode(sentences1, show_progress_bar=True, convert_to_numpy=True)\n",
        "    embeddings2 = model.encode(sentences2, show_progress_bar=True, convert_to_numpy=True)\n",
        "\n",
        "    cosine_scores = 1 - (paired_cosine_distances(embeddings1, embeddings2))\n",
        "\n",
        "    return cosine_scores\n",
        "  "
      ]
    },
    {
      "cell_type": "markdown",
      "metadata": {
        "id": "7X7CvlmmDqkG"
      },
      "source": [
        "#### generate_train_data\n",
        "\n",
        "Finally, this function uses the predictions and the three lists generated above to put together the final training data that we can use to train our model.\n"
      ]
    },
    {
      "cell_type": "code",
      "execution_count": null,
      "metadata": {
        "id": "Are-kd8aDsfc"
      },
      "outputs": [],
      "source": [
        "def generate_train_data( train_data_location, model_path, languages ) :\n",
        "  \n",
        "    train_data_with_labels, train_data_requiring_labels, need_predictions_for_train_data_labels = _parse_train_data( train_data_location, languages )\n",
        "    sims = _get_predictions_for_train_data_labels( model_path, need_predictions_for_train_data_labels )\n",
        "\n",
        "    train_data_requiring_labels_with_labels = list()\n",
        "    for index in range( len( train_data_requiring_labels ) ) : \n",
        "        train_data_requiring_labels_with_labels.append( [ train_data_requiring_labels[index][0], train_data_requiring_labels[index][1], sims[index] ] )\n",
        "\n",
        "    train_data = [ [ 'sentence_1', 'sentence_2', 'sim' ] ] + train_data_with_labels + train_data_requiring_labels_with_labels\n",
        "    assert all( [ (len(i) == 3) for i in train_data ] )\n",
        "    \n",
        "    return train_data\n"
      ]
    },
    {
      "cell_type": "markdown",
      "metadata": {
        "id": "Edk1RO1jQ96W"
      },
      "source": [
        "### Generic Helper functions (Same as in Pre-Train Setting)\n",
        "\n",
        "These helper functions are the same as above - they are included in the fine-tune setting for completeness. \n"
      ]
    },
    {
      "cell_type": "code",
      "execution_count": null,
      "metadata": {
        "id": "r_Xysn2qRAiT"
      },
      "outputs": [],
      "source": [
        "def get_similarities( location, model, languages=None ) : \n",
        "    sentences1, sentences2 = prepare_eval_data( location, languages ) \n",
        "    #Compute embedding for both lists\n",
        "    \n",
        "    embeddings1 = model.encode(sentences1, show_progress_bar=True, convert_to_numpy=True)\n",
        "    embeddings2 = model.encode(sentences2, show_progress_bar=True, convert_to_numpy=True)\n",
        "\n",
        "    # Compute cosine-similarits\n",
        "    cosine_scores = 1 - (paired_cosine_distances(embeddings1, embeddings2))\n",
        "\n",
        "    return cosine_scores\n",
        "\n",
        "def insert_to_submission( languages, settings, sims, location ) : \n",
        "    header, data = load_csv( location ) \n",
        "    sims = list( reversed( sims ) )\n",
        "    ## Validate with length\n",
        "    updatable = [ i for i in data if i[ header.index( 'Language' ) ] in languages and i[ header.index( 'Setting' ) ] in settings ]\n",
        "    assert len( updatable ) == len( sims ) \n",
        "\n",
        "    ## Will update in sequence - if data is not in sequence must update one language / setting at a time. \n",
        "    started_update = False\n",
        "    for elem in data : \n",
        "        if elem[ header.index( 'Language' ) ] in languages and elem[ header.index( 'Setting' ) ] in settings : \n",
        "            sim_to_insert = sims.pop()\n",
        "            elem[-1] = sim_to_insert\n",
        "            started_update = True\n",
        "        else :  \n",
        "            assert not started_update ## Once we start, we must complete. \n",
        "        if len( sims ) == 0 : \n",
        "            break \n",
        "    assert len( sims ) == 0 ## Should be done here. \n",
        "\n",
        "    return [ header ] + data ## Submission file must retain header. \n",
        "\n"
      ]
    },
    {
      "cell_type": "markdown",
      "metadata": {
        "id": "nt_Fal9sD_wZ"
      },
      "source": [
        "### Parameters and Data Generation"
      ]
    },
    {
      "cell_type": "code",
      "execution_count": null,
      "metadata": {
        "colab": {
          "base_uri": "https://localhost:8080/"
        },
        "id": "ORRkXvlRETIz",
        "outputId": "9d0ea2ec-a774-4633-d3fe-c4bd1a794726"
      },
      "outputs": [
        {
          "name": "stdout",
          "output_type": "stream",
          "text": [
            "datasets\t\t      RESULTS_TABLE-dev.pre_train_4.csv\n",
            "dev.pre_train_results-4.csv   tokenizedSentTrans_4\n",
            "eval.pre_train_results-4.csv  tokenizedSentTransNoPreTrain_4\n",
            "mBERT-4\n"
          ]
        }
      ],
      "source": [
        "!ls /content/models"
      ]
    },
    {
      "cell_type": "code",
      "execution_count": null,
      "metadata": {
        "colab": {
          "base_uri": "https://localhost:8080/",
          "height": 37
        },
        "id": "s1zuInhLIGyx",
        "outputId": "7ddeccb2-635f-4da0-ba1d-21d8363e147e"
      },
      "outputs": [
        {
          "data": {
            "application/vnd.google.colaboratory.intrinsic+json": {
              "type": "string"
            },
            "text/plain": [
              "'/content/models/tokenizedSentTrans_4'"
            ]
          },
          "execution_count": 99,
          "metadata": {},
          "output_type": "execute_result"
        }
      ],
      "source": [
        "sent_trans_path "
      ]
    },
    {
      "cell_type": "code",
      "execution_count": null,
      "metadata": {
        "id": "zYcjSccdKG5b"
      },
      "outputs": [],
      "source": [
        "seed   = 1 ## Found using multiple runs\n",
        "epochs = 1 ## Found using multiple runs"
      ]
    },
    {
      "cell_type": "code",
      "execution_count": null,
      "metadata": {
        "colab": {
          "base_uri": "https://localhost:8080/",
          "height": 81,
          "referenced_widgets": [
            "791cfde505904cdb951abda2138c5266",
            "9e168263f09e4213b6f312e72b2ec812",
            "d7dc543dd5774814926b0af5d7b38945",
            "e2a7905a799145268085709caac47048",
            "72ab772fd6af4f4aa691f9264fd6e0fe",
            "7ff76fac105e46ab83cc38d8eb7ec1f8",
            "2bcef5e5ef9c4af09e9c23ac7025c2c0",
            "a6f712a091244d62af5001af87e9552d",
            "b99079eec39242c6989f5f5d365fe66c",
            "ec13a59f8d8648529049133a9e5ad52c",
            "b1f16e80fed0455eadad2aaddecb6c44",
            "eed4dc46ddce441db75dda583eda13db",
            "a130108c298f475aba5f5e6b3195d506",
            "b4688508c3bb4edb905daaed5ed0f79d",
            "7baac3c58ecb48bcb581de41426f93cb",
            "778f65c9811242a48ff3218af8713c80",
            "b86dc35b48ba4de0bb4094996e68ec3c",
            "f9fc5fb8c60f42e9aaf208703eeb63c6",
            "e6b743b62efc4e2e82683d1c779152b6",
            "50f6b12bec4c4b91a6def24cf2201945",
            "07c6c6f59f5548c8b3587b61023913f7",
            "b3c7c28eaab348ecab8841a3bf49609a"
          ]
        },
        "id": "kw5pPyQCEEBo",
        "outputId": "ef7d5f6d-52a0-4188-f56c-83b2073205f3"
      },
      "outputs": [
        {
          "data": {
            "application/vnd.jupyter.widget-view+json": {
              "model_id": "791cfde505904cdb951abda2138c5266",
              "version_major": 2,
              "version_minor": 0
            },
            "text/plain": [
              "Batches:   0%|          | 0/64 [00:00<?, ?it/s]"
            ]
          },
          "metadata": {},
          "output_type": "display_data"
        },
        {
          "data": {
            "application/vnd.jupyter.widget-view+json": {
              "model_id": "eed4dc46ddce441db75dda583eda13db",
              "version_major": 2,
              "version_minor": 0
            },
            "text/plain": [
              "Batches:   0%|          | 0/64 [00:00<?, ?it/s]"
            ]
          },
          "metadata": {},
          "output_type": "display_data"
        }
      ],
      "source": [
        "best_pre_train_seed = 4 ## Found this by running above (as in pre-train setting) multiple times. \n",
        "\n",
        "train_data_location = 'SemEval_2022_Task2-idiomaticity/SubTaskB/TrainData/train_data.csv'\n",
        "out_location        = 'models/FineTune/'\n",
        "\n",
        "model_path = sent_trans_path\n",
        "train_data = generate_train_data( train_data_location, model_path, languages )"
      ]
    },
    {
      "cell_type": "markdown",
      "metadata": {
        "id": "apctmNmKJWzJ"
      },
      "source": [
        "## Train Model"
      ]
    },
    {
      "cell_type": "markdown",
      "metadata": {
        "id": "voq36gvDJZOC"
      },
      "source": [
        "### Train Function\n",
        "\n",
        "This function will fine tune for a particular seed. \n",
        "\n",
        "If no epoch is passed, it can also train for multiple epochs and print (and write out) all results. Note that it will return the final epoch results (not the best one). \n",
        "\n",
        "If the best epoch is known, it can be passed to the function and the model will be trained for that many epochs. \n",
        "\n",
        "Notice that we cannot use the default evaluator - we write out the results, create a submission file of the required format and then use the evaluation script for the subtask. \n",
        "\n",
        "We also write out the evaluation results - which can be submitted to Codalab. \n",
        "\n"
      ]
    },
    {
      "cell_type": "code",
      "execution_count": null,
      "metadata": {
        "id": "0fInnhY-Jb0f"
      },
      "outputs": [],
      "source": [
        "def create_and_eval_subtask_b_fine_tune( \n",
        "    model_path, \n",
        "    seed, \n",
        "    data_location, \n",
        "    dev_formated_file_location,\n",
        "    eval_formated_file_location,\n",
        "    train_data, \n",
        "    out_location, \n",
        "    languages, \n",
        "    epoch=None \n",
        "    ):\n",
        "\n",
        "    set_seed( seed )\n",
        "    \n",
        "    dev_location                = os.path.join( data_location, 'dev.csv'                     ) \n",
        "    eval_location               = os.path.join( data_location, 'eval.csv'                    ) \n",
        "\n",
        "\n",
        "    ## Training Dataloader\n",
        "    train_samples = list()\n",
        "\n",
        "    header     = train_data[0] ## ['sentence_1', 'sentence_2', 'sim']\n",
        "    train_data = train_data[1:]\n",
        "    for elem in train_data :\n",
        "        score = float( elem[2] ) \n",
        "        inp_example = InputExample(texts=[elem[0], elem[1]], label=score)\n",
        "        train_samples.append(inp_example)\n",
        "\n",
        "\n",
        "  ## Params\n",
        "    train_batch_size = 4\n",
        "        \n",
        "    model            = SentenceTransformer( model_path )\n",
        "    train_dataloader = DataLoader(train_samples, shuffle=True, batch_size=train_batch_size)\n",
        "    train_loss       = losses.CosineSimilarityLoss(model=model)\n",
        "  \n",
        " # Train the model\n",
        "    dev_sims = eval_sims = results = None\n",
        "    if epoch is None :\n",
        "        ## Going to test all epochs - notice we can't use the default evaluator. \n",
        "        for epoch in range( 1, 10 ) :\n",
        "            warmup_steps     = math.ceil(len(train_dataloader) * epoch  * 0.1) #10% of train data for warm-up\n",
        "            print(\"Warmup-steps: {}\".format(warmup_steps), flush=True)\n",
        "            \n",
        "            model_save_path = os.path.join( out_location, str( seed ), str( epoch ) ) \n",
        "            model.fit(train_objectives=[(train_dataloader, train_loss)],\n",
        "                        evaluator=None,\n",
        "                        epochs=1,\n",
        "                        evaluation_steps=0,\n",
        "                        warmup_steps=warmup_steps,\n",
        "                        output_path=model_save_path\n",
        "            )\n",
        "\n",
        "            dev_sims  = get_similarities( dev_location , model, languages ) \n",
        "            eval_sims = get_similarities( eval_location, model, languages )\n",
        "\n",
        "            ## Create submission file on the development set. \n",
        "            submission_data = insert_to_submission( languages, [ 'fine_tune' ], dev_sims, dev_formated_file_location )  \n",
        "            results_file    = os.path.join( outpath, 'dev.combined_results-' + str( seed ) + '.csv' )\n",
        "            write_csv( submission_data, results_file )\n",
        "\n",
        "            ## Evaluate development set. \n",
        "            results = evaluate_submission( results_file, os.path.join( data_location, 'dev.gold.csv' ) )\n",
        "\n",
        "        ## Make results printable. \n",
        "            for result in results : \n",
        "                for result_index in range( 2, 5 ) : \n",
        "                    result[result_index] = 'Did Not Attempt' if result[result_index] is None else result[ result_index ]\n",
        "\n",
        "            for row in results : \n",
        "                print( '\\t'.join( [str(i) for i in row ] ) )\n",
        "            \n",
        "            results_file = os.path.join( model_save_path, 'RESULTS_TABLE-dev.pre_train_' + str(epoch) + str( seed ) + '.csv' )    \n",
        "            write_csv( results, results_file )      \n",
        "\n",
        "            ## Generate combined output for this epoch.\n",
        "            submission_data = insert_to_submission( languages, [ 'fine_tune' ], eval_sims, eval_formated_file_location )  \n",
        "            results_file    = os.path.join( outpath, 'eval.combined_results-' + str( seed ) + '_' + str( epoch ) + '.csv' )\n",
        "            write_csv( submission_data, results_file )\n",
        "\n",
        " \n",
        "    else :\n",
        "    ## We already know the best epoch and so will use it.\n",
        "        warmup_steps     = math.ceil(len(train_dataloader) * epoch  * 0.1) #10% of train data for warm-up\n",
        "        print(\"Warmup-steps: {}\".format(warmup_steps), flush=True)\n",
        "\n",
        "        model_save_path = os.path.join( out_location, str( seed ), str( epoch ) ) \n",
        "        model.fit(train_objectives=[(train_dataloader, train_loss)],\n",
        "                evaluator=None,\n",
        "                epochs=epoch,\n",
        "                evaluation_steps=0,\n",
        "                warmup_steps=warmup_steps,\n",
        "                output_path=model_save_path\n",
        "        )\n",
        "    \n",
        "    dev_sims  = get_similarities( dev_location , model, languages ) \n",
        "    eval_sims = get_similarities( eval_location, model, languages )\n",
        "\n",
        "    ## Create submission file on the development set. \n",
        "    submission_data = insert_to_submission( languages, [ 'fine_tune' ], dev_sims, dev_formated_file_location )  \n",
        "    results_file    = os.path.join( outpath, 'dev.combined_results-' + str( seed ) + '.csv' )\n",
        "    write_csv( submission_data, results_file )\n",
        "    \n",
        "    ## Evaluate development set. \n",
        "    results = evaluate_submission( results_file, os.path.join( data_location, 'dev.gold.csv' ) )\n",
        "    \n",
        "    ## Make results printable. \n",
        "    for result in results : \n",
        "      for result_index in range( 2, 5 ) : \n",
        "        result[result_index] = 'Did Not Attempt' if result[result_index] is None else result[ result_index ]\n",
        "  \n",
        "    results_file = os.path.join( model_save_path, 'RESULTS_TABLE-dev.pre_train_' + str(epoch) + str( seed ) + '.csv' )    \n",
        "    write_csv( results, results_file )\n",
        "    \n",
        "    submission_data = insert_to_submission( languages, [ 'fine_tune' ], eval_sims, os.path.join( data_location, 'eval.submission_format.csv'   )  )  \n",
        "    results_file    = os.path.join( outpath, 'eval.fine_tune_results-' + str( seed ) + '.csv' )\n",
        "    write_csv( submission_data, results_file )\n",
        "\n",
        "    submission_data = insert_to_submission( languages, [ 'fine_tune' ], eval_sims, eval_formated_file_location )  \n",
        "    results_file    = os.path.join( outpath, 'eval.combined_results-' + str( seed ) + '.csv' )\n",
        "    write_csv( submission_data, results_file )\n",
        "\n",
        "\n",
        "    ## Outside if\n",
        "    return results\n"
      ]
    },
    {
      "cell_type": "markdown",
      "metadata": {
        "id": "OspTrlZnLLTB"
      },
      "source": [
        "### Train the model and Evaluate"
      ]
    },
    {
      "cell_type": "code",
      "execution_count": null,
      "metadata": {
        "id": "WyQWAkZeGYvF"
      },
      "outputs": [],
      "source": [
        "epochs = 5"
      ]
    },
    {
      "cell_type": "code",
      "execution_count": null,
      "metadata": {
        "id": "p9SlTpx0LO-e"
      },
      "outputs": [],
      "source": [
        "params = {\n",
        "    'model_path'                  : model_path, \n",
        "    'seed'                        : seed, \n",
        "    'data_location'               : data_location, \n",
        "    'dev_formated_file_location'  : '/content/models/dev.pre_train_results-4.csv',  ## We can append to this.\n",
        "    'eval_formated_file_location' : '/content/models/eval.pre_train_results-4.csv',\n",
        "    'train_data'                  : train_data , \n",
        "    'out_location'                : out_location ,  \n",
        "    'languages'                   : languages ,\n",
        "    'epoch'                       : epochs ,\n",
        "} \n"
      ]
    },
    {
      "cell_type": "code",
      "execution_count": null,
      "metadata": {
        "colab": {
          "background_save": true,
          "base_uri": "https://localhost:8080/",
          "height": 203,
          "referenced_widgets": [
            "439dfd4719d24c2b8c8a33b290e4432a",
            "32bbd6781af94497809d86556f740edf",
            "5fdba0ddabc44f6c9ff1194ab567484a",
            "2caf0e5c67474e4a9e4def1e0f491a44",
            "6a1d34b3b6084b4f89b97893e942e7a0",
            "50d27ce1a1d449a08d31661f3704e570",
            "0edfa24e74ad443aaac3abeb67e48c88",
            "7bea1c6e2c074e9a9ecd5d27aab72919",
            "33192ebf0ee941a188864386add4979c",
            "99d688eeb7be4ea5b354574d6dd81124",
            "6814d83888864484bb5ec86d78f317f5",
            "b29238a421d146d09602abde76b99f5e",
            "b83fa9ef98ab44c691e089e144adca87",
            "5507f0edef1d40468fef57229f912ff7",
            "5411c0b93ee346c19c66f6d5493f3329",
            "c9a88339ab3b44609d06d19a615c0041",
            "e1551b997dfa432f84e421e6e88d4dee",
            "48cb4dd0b657405a81b163f3090ab772",
            "1645ca85c98b4358941aefad7cae3624",
            "fe02fae5250d4c69b402de65ef229d98",
            "d14e27db660f4df5a7e922566db9e382",
            "bb5938c89e214c26b257ea0d02088483",
            "cac1ea877c4444c2bab6bb86ce03e94c",
            "a50092846fb94d5cb9410ecce2106f1b",
            "a82e04386abc4cd8a78e08f58144d483",
            "bf46e418f0284c39988b2af8c404277c",
            "c6b40ac5ab094d518a1ea3d0c7e7e3e6",
            "a43e915c4bca4333973db3c1b5d77014",
            "53a5232b47cb48d981f9139d6d749024",
            "3fb4decd3f014cf0bd8b2fe9029ed72f"
          ]
        },
        "id": "CTLdx6qIJ7Ub",
        "outputId": "50c86e91-7dc7-40da-c9bf-e22061097c4a"
      },
      "outputs": [
        {
          "name": "stdout",
          "output_type": "stream",
          "text": [
            "Warmup-steps: 591\n"
          ]
        },
        {
          "name": "stderr",
          "output_type": "stream",
          "text": [
            "/usr/local/lib/python3.7/dist-packages/transformers/optimization.py:309: FutureWarning: This implementation of AdamW is deprecated and will be removed in a future version. Use the PyTorch implementation torch.optim.AdamW instead, or set `no_deprecation_warning=True` to disable this warning\n",
            "  FutureWarning,\n"
          ]
        },
        {
          "data": {
            "application/vnd.jupyter.widget-view+json": {
              "model_id": "439dfd4719d24c2b8c8a33b290e4432a",
              "version_major": 2,
              "version_minor": 0
            },
            "text/plain": [
              "Epoch:   0%|          | 0/5 [00:00<?, ?it/s]"
            ]
          },
          "metadata": {},
          "output_type": "display_data"
        },
        {
          "data": {
            "application/vnd.jupyter.widget-view+json": {
              "model_id": "b29238a421d146d09602abde76b99f5e",
              "version_major": 2,
              "version_minor": 0
            },
            "text/plain": [
              "Iteration:   0%|          | 0/1182 [00:00<?, ?it/s]"
            ]
          },
          "metadata": {},
          "output_type": "display_data"
        },
        {
          "data": {
            "application/vnd.jupyter.widget-view+json": {
              "model_id": "cac1ea877c4444c2bab6bb86ce03e94c",
              "version_major": 2,
              "version_minor": 0
            },
            "text/plain": [
              "Iteration:   0%|          | 0/1182 [00:00<?, ?it/s]"
            ]
          },
          "metadata": {},
          "output_type": "display_data"
        },
        {
          "data": {
            "application/vnd.jupyter.widget-view+json": {
              "model_id": "a50092846fb94d5cb9410ecce2106f1b",
              "version_major": 2,
              "version_minor": 0
            },
            "text/plain": [
              "Iteration:   0%|          | 0/1182 [00:00<?, ?it/s]"
            ]
          },
          "metadata": {},
          "output_type": "display_data"
        },
        {
          "data": {
            "application/vnd.jupyter.widget-view+json": {
              "model_id": "a82e04386abc4cd8a78e08f58144d483",
              "version_major": 2,
              "version_minor": 0
            },
            "text/plain": [
              "Iteration:   0%|          | 0/1182 [00:00<?, ?it/s]"
            ]
          },
          "metadata": {},
          "output_type": "display_data"
        },
        {
          "data": {
            "application/vnd.jupyter.widget-view+json": {
              "model_id": "bf46e418f0284c39988b2af8c404277c",
              "version_major": 2,
              "version_minor": 0
            },
            "text/plain": [
              "Iteration:   0%|          | 0/1182 [00:00<?, ?it/s]"
            ]
          },
          "metadata": {},
          "output_type": "display_data"
        },
        {
          "data": {
            "application/vnd.jupyter.widget-view+json": {
              "model_id": "c6b40ac5ab094d518a1ea3d0c7e7e3e6",
              "version_major": 2,
              "version_minor": 0
            },
            "text/plain": [
              "Batches:   0%|          | 0/35 [00:00<?, ?it/s]"
            ]
          },
          "metadata": {},
          "output_type": "display_data"
        },
        {
          "data": {
            "application/vnd.jupyter.widget-view+json": {
              "model_id": "a43e915c4bca4333973db3c1b5d77014",
              "version_major": 2,
              "version_minor": 0
            },
            "text/plain": [
              "Batches:   0%|          | 0/35 [00:00<?, ?it/s]"
            ]
          },
          "metadata": {},
          "output_type": "display_data"
        },
        {
          "data": {
            "application/vnd.jupyter.widget-view+json": {
              "model_id": "53a5232b47cb48d981f9139d6d749024",
              "version_major": 2,
              "version_minor": 0
            },
            "text/plain": [
              "Batches:   0%|          | 0/37 [00:00<?, ?it/s]"
            ]
          },
          "metadata": {},
          "output_type": "display_data"
        },
        {
          "data": {
            "application/vnd.jupyter.widget-view+json": {
              "model_id": "3fb4decd3f014cf0bd8b2fe9029ed72f",
              "version_major": 2,
              "version_minor": 0
            },
            "text/plain": [
              "Batches:   0%|          | 0/37 [00:00<?, ?it/s]"
            ]
          },
          "metadata": {},
          "output_type": "display_data"
        },
        {
          "name": "stdout",
          "output_type": "stream",
          "text": [
            "Wrote /content/models/dev.combined_results-1.csv\n",
            "Wrote models/FineTune/1/5/RESULTS_TABLE-dev.pre_train_51.csv\n",
            "Wrote /content/models/eval.fine_tune_results-1.csv\n",
            "Wrote /content/models/eval.combined_results-1.csv\n"
          ]
        },
        {
          "data": {
            "application/vnd.google.colaboratory.module+javascript": "\n      import \"https://ssl.gstatic.com/colaboratory/data_table/f872b2c2305463fd/data_table.js\";\n\n      window.createDataTable({\n        data: [[{\n            'v': 0,\n            'f': \"0\",\n        },\n\"pre_train\",\n\"EN\",\n0.7940308937093372,\n0.32761809297891625,\n0.8616268199358654],\n [{\n            'v': 1,\n            'f': \"1\",\n        },\n\"pre_train\",\n\"PT\",\n\"Did Not Attempt\",\n\"Did Not Attempt\",\n\"Did Not Attempt\"],\n [{\n            'v': 2,\n            'f': \"2\",\n        },\n\"pre_train\",\n\"EN,PT\",\n\"Did Not Attempt\",\n\"Did Not Attempt\",\n\"Did Not Attempt\"],\n [{\n            'v': 3,\n            'f': \"3\",\n        },\n\"fine_tune\",\n\"EN\",\n0.6819106755234507,\n0.31265777428497366,\n0.6771418330436001],\n [{\n            'v': 4,\n            'f': \"4\",\n        },\n\"fine_tune\",\n\"PT\",\n\"Did Not Attempt\",\n\"Did Not Attempt\",\n\"Did Not Attempt\"],\n [{\n            'v': 5,\n            'f': \"5\",\n        },\n\"fine_tune\",\n\"EN,PT\",\n\"Did Not Attempt\",\n\"Did Not Attempt\",\n\"Did Not Attempt\"]],\n        columns: [[\"number\", \"index\"], [\"string\", \"Settings\"], [\"string\", \"Languages\"], [\"string\", \"Spearman Rank ALL\"], [\"string\", \"Spearman Rank Idiom Data\"], [\"string\", \"Spearman Rank STS Data\"]],\n        columnOptions: [{\"width\": \"1px\", \"className\": \"index_column\"}],\n        rowsPerPage: 25,\n        helpUrl: \"https://colab.research.google.com/notebooks/data_table.ipynb\",\n        suppressOutputScrolling: true,\n        minimumWidth: undefined,\n      });\n    ",
            "text/html": [
              "\n",
              "  <div id=\"df-719f2e15-c998-4d46-80ce-0de03856cc92\">\n",
              "    <div class=\"colab-df-container\">\n",
              "      <div>\n",
              "<style scoped>\n",
              "    .dataframe tbody tr th:only-of-type {\n",
              "        vertical-align: middle;\n",
              "    }\n",
              "\n",
              "    .dataframe tbody tr th {\n",
              "        vertical-align: top;\n",
              "    }\n",
              "\n",
              "    .dataframe thead th {\n",
              "        text-align: right;\n",
              "    }\n",
              "</style>\n",
              "<table border=\"1\" class=\"dataframe\">\n",
              "  <thead>\n",
              "    <tr style=\"text-align: right;\">\n",
              "      <th></th>\n",
              "      <th>Settings</th>\n",
              "      <th>Languages</th>\n",
              "      <th>Spearman Rank ALL</th>\n",
              "      <th>Spearman Rank Idiom Data</th>\n",
              "      <th>Spearman Rank STS Data</th>\n",
              "    </tr>\n",
              "  </thead>\n",
              "  <tbody>\n",
              "    <tr>\n",
              "      <th>0</th>\n",
              "      <td>pre_train</td>\n",
              "      <td>EN</td>\n",
              "      <td>0.794031</td>\n",
              "      <td>0.327618</td>\n",
              "      <td>0.861627</td>\n",
              "    </tr>\n",
              "    <tr>\n",
              "      <th>1</th>\n",
              "      <td>pre_train</td>\n",
              "      <td>PT</td>\n",
              "      <td>Did Not Attempt</td>\n",
              "      <td>Did Not Attempt</td>\n",
              "      <td>Did Not Attempt</td>\n",
              "    </tr>\n",
              "    <tr>\n",
              "      <th>2</th>\n",
              "      <td>pre_train</td>\n",
              "      <td>EN,PT</td>\n",
              "      <td>Did Not Attempt</td>\n",
              "      <td>Did Not Attempt</td>\n",
              "      <td>Did Not Attempt</td>\n",
              "    </tr>\n",
              "    <tr>\n",
              "      <th>3</th>\n",
              "      <td>fine_tune</td>\n",
              "      <td>EN</td>\n",
              "      <td>0.681911</td>\n",
              "      <td>0.312658</td>\n",
              "      <td>0.677142</td>\n",
              "    </tr>\n",
              "    <tr>\n",
              "      <th>4</th>\n",
              "      <td>fine_tune</td>\n",
              "      <td>PT</td>\n",
              "      <td>Did Not Attempt</td>\n",
              "      <td>Did Not Attempt</td>\n",
              "      <td>Did Not Attempt</td>\n",
              "    </tr>\n",
              "    <tr>\n",
              "      <th>5</th>\n",
              "      <td>fine_tune</td>\n",
              "      <td>EN,PT</td>\n",
              "      <td>Did Not Attempt</td>\n",
              "      <td>Did Not Attempt</td>\n",
              "      <td>Did Not Attempt</td>\n",
              "    </tr>\n",
              "  </tbody>\n",
              "</table>\n",
              "</div>\n",
              "      <button class=\"colab-df-convert\" onclick=\"convertToInteractive('df-719f2e15-c998-4d46-80ce-0de03856cc92')\"\n",
              "              title=\"Convert this dataframe to an interactive table.\"\n",
              "              style=\"display:none;\">\n",
              "        \n",
              "  <svg xmlns=\"http://www.w3.org/2000/svg\" height=\"24px\"viewBox=\"0 0 24 24\"\n",
              "       width=\"24px\">\n",
              "    <path d=\"M0 0h24v24H0V0z\" fill=\"none\"/>\n",
              "    <path d=\"M18.56 5.44l.94 2.06.94-2.06 2.06-.94-2.06-.94-.94-2.06-.94 2.06-2.06.94zm-11 1L8.5 8.5l.94-2.06 2.06-.94-2.06-.94L8.5 2.5l-.94 2.06-2.06.94zm10 10l.94 2.06.94-2.06 2.06-.94-2.06-.94-.94-2.06-.94 2.06-2.06.94z\"/><path d=\"M17.41 7.96l-1.37-1.37c-.4-.4-.92-.59-1.43-.59-.52 0-1.04.2-1.43.59L10.3 9.45l-7.72 7.72c-.78.78-.78 2.05 0 2.83L4 21.41c.39.39.9.59 1.41.59.51 0 1.02-.2 1.41-.59l7.78-7.78 2.81-2.81c.8-.78.8-2.07 0-2.86zM5.41 20L4 18.59l7.72-7.72 1.47 1.35L5.41 20z\"/>\n",
              "  </svg>\n",
              "      </button>\n",
              "      \n",
              "  <style>\n",
              "    .colab-df-container {\n",
              "      display:flex;\n",
              "      flex-wrap:wrap;\n",
              "      gap: 12px;\n",
              "    }\n",
              "\n",
              "    .colab-df-convert {\n",
              "      background-color: #E8F0FE;\n",
              "      border: none;\n",
              "      border-radius: 50%;\n",
              "      cursor: pointer;\n",
              "      display: none;\n",
              "      fill: #1967D2;\n",
              "      height: 32px;\n",
              "      padding: 0 0 0 0;\n",
              "      width: 32px;\n",
              "    }\n",
              "\n",
              "    .colab-df-convert:hover {\n",
              "      background-color: #E2EBFA;\n",
              "      box-shadow: 0px 1px 2px rgba(60, 64, 67, 0.3), 0px 1px 3px 1px rgba(60, 64, 67, 0.15);\n",
              "      fill: #174EA6;\n",
              "    }\n",
              "\n",
              "    [theme=dark] .colab-df-convert {\n",
              "      background-color: #3B4455;\n",
              "      fill: #D2E3FC;\n",
              "    }\n",
              "\n",
              "    [theme=dark] .colab-df-convert:hover {\n",
              "      background-color: #434B5C;\n",
              "      box-shadow: 0px 1px 3px 1px rgba(0, 0, 0, 0.15);\n",
              "      filter: drop-shadow(0px 1px 2px rgba(0, 0, 0, 0.3));\n",
              "      fill: #FFFFFF;\n",
              "    }\n",
              "  </style>\n",
              "\n",
              "      <script>\n",
              "        const buttonEl =\n",
              "          document.querySelector('#df-719f2e15-c998-4d46-80ce-0de03856cc92 button.colab-df-convert');\n",
              "        buttonEl.style.display =\n",
              "          google.colab.kernel.accessAllowed ? 'block' : 'none';\n",
              "\n",
              "        async function convertToInteractive(key) {\n",
              "          const element = document.querySelector('#df-719f2e15-c998-4d46-80ce-0de03856cc92');\n",
              "          const dataTable =\n",
              "            await google.colab.kernel.invokeFunction('convertToInteractive',\n",
              "                                                     [key], {});\n",
              "          if (!dataTable) return;\n",
              "\n",
              "          const docLinkHtml = 'Like what you see? Visit the ' +\n",
              "            '<a target=\"_blank\" href=https://colab.research.google.com/notebooks/data_table.ipynb>data table notebook</a>'\n",
              "            + ' to learn more about interactive tables.';\n",
              "          element.innerHTML = '';\n",
              "          dataTable['output_type'] = 'display_data';\n",
              "          await google.colab.output.renderOutput(dataTable, element);\n",
              "          const docLink = document.createElement('div');\n",
              "          docLink.innerHTML = docLinkHtml;\n",
              "          element.appendChild(docLink);\n",
              "        }\n",
              "      </script>\n",
              "    </div>\n",
              "  </div>\n",
              "  "
            ],
            "text/plain": [
              "    Settings Languages Spearman Rank ALL Spearman Rank Idiom Data  \\\n",
              "0  pre_train        EN          0.794031                 0.327618   \n",
              "1  pre_train        PT   Did Not Attempt          Did Not Attempt   \n",
              "2  pre_train     EN,PT   Did Not Attempt          Did Not Attempt   \n",
              "3  fine_tune        EN          0.681911                 0.312658   \n",
              "4  fine_tune        PT   Did Not Attempt          Did Not Attempt   \n",
              "5  fine_tune     EN,PT   Did Not Attempt          Did Not Attempt   \n",
              "\n",
              "  Spearman Rank STS Data  \n",
              "0               0.861627  \n",
              "1        Did Not Attempt  \n",
              "2        Did Not Attempt  \n",
              "3               0.677142  \n",
              "4        Did Not Attempt  \n",
              "5        Did Not Attempt  "
            ]
          },
          "execution_count": null,
          "metadata": {},
          "output_type": "execute_result"
        }
      ],
      "source": [
        "  results = create_and_eval_subtask_b_fine_tune( ** params ) \n",
        "  %reload_ext google.colab.data_table\n",
        "  import pandas as pd\n",
        "  df = pd.DataFrame(data=results[1:], columns=results[0])\n",
        "\n",
        "  df"
      ]
    },
    {
      "cell_type": "markdown",
      "metadata": {
        "id": "FVLvS3wNGTE1"
      },
      "source": [
        "# Results"
      ]
    },
    {
      "cell_type": "code",
      "execution_count": null,
      "metadata": {
        "colab": {
          "base_uri": "https://localhost:8080/",
          "height": 219
        },
        "id": "qCBjEzfIVX_0",
        "outputId": "f2d25164-1828-4937-dff5-c2d31b0ed218"
      },
      "outputs": [
        {
          "data": {
            "application/vnd.google.colaboratory.module+javascript": "\n      import \"https://ssl.gstatic.com/colaboratory/data_table/f872b2c2305463fd/data_table.js\";\n\n      window.createDataTable({\n        data: [[{\n            'v': 0,\n            'f': \"0\",\n        },\n\"pre_train\",\n\"EN\",\n0.7940308937093372,\n0.32761809297891625,\n0.8616268199358654],\n [{\n            'v': 1,\n            'f': \"1\",\n        },\n\"pre_train\",\n\"PT\",\n\"Did Not Attempt\",\n\"Did Not Attempt\",\n\"Did Not Attempt\"],\n [{\n            'v': 2,\n            'f': \"2\",\n        },\n\"pre_train\",\n\"EN,PT\",\n\"Did Not Attempt\",\n\"Did Not Attempt\",\n\"Did Not Attempt\"],\n [{\n            'v': 3,\n            'f': \"3\",\n        },\n\"fine_tune\",\n\"EN\",\n0.7613723673667293,\n0.1504816316617885,\n0.619134433185386],\n [{\n            'v': 4,\n            'f': \"4\",\n        },\n\"fine_tune\",\n\"PT\",\n\"Did Not Attempt\",\n\"Did Not Attempt\",\n\"Did Not Attempt\"],\n [{\n            'v': 5,\n            'f': \"5\",\n        },\n\"fine_tune\",\n\"EN,PT\",\n\"Did Not Attempt\",\n\"Did Not Attempt\",\n\"Did Not Attempt\"]],\n        columns: [[\"number\", \"index\"], [\"string\", \"Settings\"], [\"string\", \"Languages\"], [\"string\", \"Spearman Rank ALL\"], [\"string\", \"Spearman Rank Idiom Data\"], [\"string\", \"Spearman Rank STS Data\"]],\n        columnOptions: [{\"width\": \"1px\", \"className\": \"index_column\"}],\n        rowsPerPage: 25,\n        helpUrl: \"https://colab.research.google.com/notebooks/data_table.ipynb\",\n        suppressOutputScrolling: true,\n        minimumWidth: undefined,\n      });\n    ",
            "text/html": [
              "\n",
              "  <div id=\"df-aa916f64-2a8e-4fd9-abce-47d1c58bf773\">\n",
              "    <div class=\"colab-df-container\">\n",
              "      <div>\n",
              "<style scoped>\n",
              "    .dataframe tbody tr th:only-of-type {\n",
              "        vertical-align: middle;\n",
              "    }\n",
              "\n",
              "    .dataframe tbody tr th {\n",
              "        vertical-align: top;\n",
              "    }\n",
              "\n",
              "    .dataframe thead th {\n",
              "        text-align: right;\n",
              "    }\n",
              "</style>\n",
              "<table border=\"1\" class=\"dataframe\">\n",
              "  <thead>\n",
              "    <tr style=\"text-align: right;\">\n",
              "      <th></th>\n",
              "      <th>Settings</th>\n",
              "      <th>Languages</th>\n",
              "      <th>Spearman Rank ALL</th>\n",
              "      <th>Spearman Rank Idiom Data</th>\n",
              "      <th>Spearman Rank STS Data</th>\n",
              "    </tr>\n",
              "  </thead>\n",
              "  <tbody>\n",
              "    <tr>\n",
              "      <th>0</th>\n",
              "      <td>pre_train</td>\n",
              "      <td>EN</td>\n",
              "      <td>0.794031</td>\n",
              "      <td>0.327618</td>\n",
              "      <td>0.861627</td>\n",
              "    </tr>\n",
              "    <tr>\n",
              "      <th>1</th>\n",
              "      <td>pre_train</td>\n",
              "      <td>PT</td>\n",
              "      <td>Did Not Attempt</td>\n",
              "      <td>Did Not Attempt</td>\n",
              "      <td>Did Not Attempt</td>\n",
              "    </tr>\n",
              "    <tr>\n",
              "      <th>2</th>\n",
              "      <td>pre_train</td>\n",
              "      <td>EN,PT</td>\n",
              "      <td>Did Not Attempt</td>\n",
              "      <td>Did Not Attempt</td>\n",
              "      <td>Did Not Attempt</td>\n",
              "    </tr>\n",
              "    <tr>\n",
              "      <th>3</th>\n",
              "      <td>fine_tune</td>\n",
              "      <td>EN</td>\n",
              "      <td>0.761372</td>\n",
              "      <td>0.150482</td>\n",
              "      <td>0.619134</td>\n",
              "    </tr>\n",
              "    <tr>\n",
              "      <th>4</th>\n",
              "      <td>fine_tune</td>\n",
              "      <td>PT</td>\n",
              "      <td>Did Not Attempt</td>\n",
              "      <td>Did Not Attempt</td>\n",
              "      <td>Did Not Attempt</td>\n",
              "    </tr>\n",
              "    <tr>\n",
              "      <th>5</th>\n",
              "      <td>fine_tune</td>\n",
              "      <td>EN,PT</td>\n",
              "      <td>Did Not Attempt</td>\n",
              "      <td>Did Not Attempt</td>\n",
              "      <td>Did Not Attempt</td>\n",
              "    </tr>\n",
              "  </tbody>\n",
              "</table>\n",
              "</div>\n",
              "      <button class=\"colab-df-convert\" onclick=\"convertToInteractive('df-aa916f64-2a8e-4fd9-abce-47d1c58bf773')\"\n",
              "              title=\"Convert this dataframe to an interactive table.\"\n",
              "              style=\"display:none;\">\n",
              "        \n",
              "  <svg xmlns=\"http://www.w3.org/2000/svg\" height=\"24px\"viewBox=\"0 0 24 24\"\n",
              "       width=\"24px\">\n",
              "    <path d=\"M0 0h24v24H0V0z\" fill=\"none\"/>\n",
              "    <path d=\"M18.56 5.44l.94 2.06.94-2.06 2.06-.94-2.06-.94-.94-2.06-.94 2.06-2.06.94zm-11 1L8.5 8.5l.94-2.06 2.06-.94-2.06-.94L8.5 2.5l-.94 2.06-2.06.94zm10 10l.94 2.06.94-2.06 2.06-.94-2.06-.94-.94-2.06-.94 2.06-2.06.94z\"/><path d=\"M17.41 7.96l-1.37-1.37c-.4-.4-.92-.59-1.43-.59-.52 0-1.04.2-1.43.59L10.3 9.45l-7.72 7.72c-.78.78-.78 2.05 0 2.83L4 21.41c.39.39.9.59 1.41.59.51 0 1.02-.2 1.41-.59l7.78-7.78 2.81-2.81c.8-.78.8-2.07 0-2.86zM5.41 20L4 18.59l7.72-7.72 1.47 1.35L5.41 20z\"/>\n",
              "  </svg>\n",
              "      </button>\n",
              "      \n",
              "  <style>\n",
              "    .colab-df-container {\n",
              "      display:flex;\n",
              "      flex-wrap:wrap;\n",
              "      gap: 12px;\n",
              "    }\n",
              "\n",
              "    .colab-df-convert {\n",
              "      background-color: #E8F0FE;\n",
              "      border: none;\n",
              "      border-radius: 50%;\n",
              "      cursor: pointer;\n",
              "      display: none;\n",
              "      fill: #1967D2;\n",
              "      height: 32px;\n",
              "      padding: 0 0 0 0;\n",
              "      width: 32px;\n",
              "    }\n",
              "\n",
              "    .colab-df-convert:hover {\n",
              "      background-color: #E2EBFA;\n",
              "      box-shadow: 0px 1px 2px rgba(60, 64, 67, 0.3), 0px 1px 3px 1px rgba(60, 64, 67, 0.15);\n",
              "      fill: #174EA6;\n",
              "    }\n",
              "\n",
              "    [theme=dark] .colab-df-convert {\n",
              "      background-color: #3B4455;\n",
              "      fill: #D2E3FC;\n",
              "    }\n",
              "\n",
              "    [theme=dark] .colab-df-convert:hover {\n",
              "      background-color: #434B5C;\n",
              "      box-shadow: 0px 1px 3px 1px rgba(0, 0, 0, 0.15);\n",
              "      filter: drop-shadow(0px 1px 2px rgba(0, 0, 0, 0.3));\n",
              "      fill: #FFFFFF;\n",
              "    }\n",
              "  </style>\n",
              "\n",
              "      <script>\n",
              "        const buttonEl =\n",
              "          document.querySelector('#df-aa916f64-2a8e-4fd9-abce-47d1c58bf773 button.colab-df-convert');\n",
              "        buttonEl.style.display =\n",
              "          google.colab.kernel.accessAllowed ? 'block' : 'none';\n",
              "\n",
              "        async function convertToInteractive(key) {\n",
              "          const element = document.querySelector('#df-aa916f64-2a8e-4fd9-abce-47d1c58bf773');\n",
              "          const dataTable =\n",
              "            await google.colab.kernel.invokeFunction('convertToInteractive',\n",
              "                                                     [key], {});\n",
              "          if (!dataTable) return;\n",
              "\n",
              "          const docLinkHtml = 'Like what you see? Visit the ' +\n",
              "            '<a target=\"_blank\" href=https://colab.research.google.com/notebooks/data_table.ipynb>data table notebook</a>'\n",
              "            + ' to learn more about interactive tables.';\n",
              "          element.innerHTML = '';\n",
              "          dataTable['output_type'] = 'display_data';\n",
              "          await google.colab.output.renderOutput(dataTable, element);\n",
              "          const docLink = document.createElement('div');\n",
              "          docLink.innerHTML = docLinkHtml;\n",
              "          element.appendChild(docLink);\n",
              "        }\n",
              "      </script>\n",
              "    </div>\n",
              "  </div>\n",
              "  "
            ],
            "text/plain": [
              "    Settings Languages Spearman Rank ALL Spearman Rank Idiom Data  \\\n",
              "0  pre_train        EN          0.794031                 0.327618   \n",
              "1  pre_train        PT   Did Not Attempt          Did Not Attempt   \n",
              "2  pre_train     EN,PT   Did Not Attempt          Did Not Attempt   \n",
              "3  fine_tune        EN          0.761372                 0.150482   \n",
              "4  fine_tune        PT   Did Not Attempt          Did Not Attempt   \n",
              "5  fine_tune     EN,PT   Did Not Attempt          Did Not Attempt   \n",
              "\n",
              "  Spearman Rank STS Data  \n",
              "0               0.861627  \n",
              "1        Did Not Attempt  \n",
              "2        Did Not Attempt  \n",
              "3               0.619134  \n",
              "4        Did Not Attempt  \n",
              "5        Did Not Attempt  "
            ]
          },
          "execution_count": 105,
          "metadata": {},
          "output_type": "execute_result"
        }
      ],
      "source": [
        "df"
      ]
    }
  ],
  "metadata": {
    "accelerator": "GPU",
    "colab": {
      "collapsed_sections": [
        "q4MUGDfr4fKR",
        "fh1fWHqYWoTD"
      ],
      "name": "Subtask B (English).ipynb",
      "provenance": [],
      "toc_visible": true
    },
    "kernelspec": {
      "display_name": "Python 3",
      "name": "python3"
    },
    "language_info": {
      "name": "python"
    },
    "widgets": {
      "application/vnd.jupyter.widget-state+json": {
        "0470c716114a4126a65454292bd7c2c8": {
          "model_module": "@jupyter-widgets/base",
          "model_module_version": "1.2.0",
          "model_name": "LayoutModel",
          "state": {
            "_model_module": "@jupyter-widgets/base",
            "_model_module_version": "1.2.0",
            "_model_name": "LayoutModel",
            "_view_count": null,
            "_view_module": "@jupyter-widgets/base",
            "_view_module_version": "1.2.0",
            "_view_name": "LayoutView",
            "align_content": null,
            "align_items": null,
            "align_self": null,
            "border": null,
            "bottom": null,
            "display": null,
            "flex": null,
            "flex_flow": null,
            "grid_area": null,
            "grid_auto_columns": null,
            "grid_auto_flow": null,
            "grid_auto_rows": null,
            "grid_column": null,
            "grid_gap": null,
            "grid_row": null,
            "grid_template_areas": null,
            "grid_template_columns": null,
            "grid_template_rows": null,
            "height": null,
            "justify_content": null,
            "justify_items": null,
            "left": null,
            "margin": null,
            "max_height": null,
            "max_width": null,
            "min_height": null,
            "min_width": null,
            "object_fit": null,
            "object_position": null,
            "order": null,
            "overflow": null,
            "overflow_x": null,
            "overflow_y": null,
            "padding": null,
            "right": null,
            "top": null,
            "visibility": null,
            "width": null
          }
        },
        "07986405983b4839a321037c02f36168": {
          "model_module": "@jupyter-widgets/controls",
          "model_module_version": "1.5.0",
          "model_name": "ProgressStyleModel",
          "state": {
            "_model_module": "@jupyter-widgets/controls",
            "_model_module_version": "1.5.0",
            "_model_name": "ProgressStyleModel",
            "_view_count": null,
            "_view_module": "@jupyter-widgets/base",
            "_view_module_version": "1.2.0",
            "_view_name": "StyleView",
            "bar_color": null,
            "description_width": ""
          }
        },
        "07c6c6f59f5548c8b3587b61023913f7": {
          "model_module": "@jupyter-widgets/base",
          "model_module_version": "1.2.0",
          "model_name": "LayoutModel",
          "state": {
            "_model_module": "@jupyter-widgets/base",
            "_model_module_version": "1.2.0",
            "_model_name": "LayoutModel",
            "_view_count": null,
            "_view_module": "@jupyter-widgets/base",
            "_view_module_version": "1.2.0",
            "_view_name": "LayoutView",
            "align_content": null,
            "align_items": null,
            "align_self": null,
            "border": null,
            "bottom": null,
            "display": null,
            "flex": null,
            "flex_flow": null,
            "grid_area": null,
            "grid_auto_columns": null,
            "grid_auto_flow": null,
            "grid_auto_rows": null,
            "grid_column": null,
            "grid_gap": null,
            "grid_row": null,
            "grid_template_areas": null,
            "grid_template_columns": null,
            "grid_template_rows": null,
            "height": null,
            "justify_content": null,
            "justify_items": null,
            "left": null,
            "margin": null,
            "max_height": null,
            "max_width": null,
            "min_height": null,
            "min_width": null,
            "object_fit": null,
            "object_position": null,
            "order": null,
            "overflow": null,
            "overflow_x": null,
            "overflow_y": null,
            "padding": null,
            "right": null,
            "top": null,
            "visibility": null,
            "width": null
          }
        },
        "0afe47ca0bfb456cae652cf7d3c9cbbf": {
          "model_module": "@jupyter-widgets/base",
          "model_module_version": "1.2.0",
          "model_name": "LayoutModel",
          "state": {
            "_model_module": "@jupyter-widgets/base",
            "_model_module_version": "1.2.0",
            "_model_name": "LayoutModel",
            "_view_count": null,
            "_view_module": "@jupyter-widgets/base",
            "_view_module_version": "1.2.0",
            "_view_name": "LayoutView",
            "align_content": null,
            "align_items": null,
            "align_self": null,
            "border": null,
            "bottom": null,
            "display": null,
            "flex": null,
            "flex_flow": null,
            "grid_area": null,
            "grid_auto_columns": null,
            "grid_auto_flow": null,
            "grid_auto_rows": null,
            "grid_column": null,
            "grid_gap": null,
            "grid_row": null,
            "grid_template_areas": null,
            "grid_template_columns": null,
            "grid_template_rows": null,
            "height": null,
            "justify_content": null,
            "justify_items": null,
            "left": null,
            "margin": null,
            "max_height": null,
            "max_width": null,
            "min_height": null,
            "min_width": null,
            "object_fit": null,
            "object_position": null,
            "order": null,
            "overflow": null,
            "overflow_x": null,
            "overflow_y": null,
            "padding": null,
            "right": null,
            "top": null,
            "visibility": null,
            "width": null
          }
        },
        "0edfa24e74ad443aaac3abeb67e48c88": {
          "model_module": "@jupyter-widgets/controls",
          "model_module_version": "1.5.0",
          "model_name": "DescriptionStyleModel",
          "state": {
            "_model_module": "@jupyter-widgets/controls",
            "_model_module_version": "1.5.0",
            "_model_name": "DescriptionStyleModel",
            "_view_count": null,
            "_view_module": "@jupyter-widgets/base",
            "_view_module_version": "1.2.0",
            "_view_name": "StyleView",
            "description_width": ""
          }
        },
        "109b6381b1e249c9a644de35237a9e42": {
          "model_module": "@jupyter-widgets/controls",
          "model_module_version": "1.5.0",
          "model_name": "FloatProgressModel",
          "state": {
            "_dom_classes": [],
            "_model_module": "@jupyter-widgets/controls",
            "_model_module_version": "1.5.0",
            "_model_name": "FloatProgressModel",
            "_view_count": null,
            "_view_module": "@jupyter-widgets/controls",
            "_view_module_version": "1.5.0",
            "_view_name": "ProgressView",
            "bar_style": "success",
            "description": "",
            "description_tooltip": null,
            "layout": "IPY_MODEL_49335bdd0b7b4493887bc021fac87fd3",
            "max": 37,
            "min": 0,
            "orientation": "horizontal",
            "style": "IPY_MODEL_a0f80906762d4aaa8a61f65e8aa78524",
            "value": 37
          }
        },
        "1645ca85c98b4358941aefad7cae3624": {
          "model_module": "@jupyter-widgets/base",
          "model_module_version": "1.2.0",
          "model_name": "LayoutModel",
          "state": {
            "_model_module": "@jupyter-widgets/base",
            "_model_module_version": "1.2.0",
            "_model_name": "LayoutModel",
            "_view_count": null,
            "_view_module": "@jupyter-widgets/base",
            "_view_module_version": "1.2.0",
            "_view_name": "LayoutView",
            "align_content": null,
            "align_items": null,
            "align_self": null,
            "border": null,
            "bottom": null,
            "display": null,
            "flex": null,
            "flex_flow": null,
            "grid_area": null,
            "grid_auto_columns": null,
            "grid_auto_flow": null,
            "grid_auto_rows": null,
            "grid_column": null,
            "grid_gap": null,
            "grid_row": null,
            "grid_template_areas": null,
            "grid_template_columns": null,
            "grid_template_rows": null,
            "height": null,
            "justify_content": null,
            "justify_items": null,
            "left": null,
            "margin": null,
            "max_height": null,
            "max_width": null,
            "min_height": null,
            "min_width": null,
            "object_fit": null,
            "object_position": null,
            "order": null,
            "overflow": null,
            "overflow_x": null,
            "overflow_y": null,
            "padding": null,
            "right": null,
            "top": null,
            "visibility": null,
            "width": null
          }
        },
        "1a00a8696f1142c3a57f82aed94ffbf7": {
          "model_module": "@jupyter-widgets/controls",
          "model_module_version": "1.5.0",
          "model_name": "HBoxModel",
          "state": {
            "_dom_classes": [],
            "_model_module": "@jupyter-widgets/controls",
            "_model_module_version": "1.5.0",
            "_model_name": "HBoxModel",
            "_view_count": null,
            "_view_module": "@jupyter-widgets/controls",
            "_view_module_version": "1.5.0",
            "_view_name": "HBoxView",
            "box_style": "",
            "children": [
              "IPY_MODEL_f9d825ab00544e568babb1fd8792ba46",
              "IPY_MODEL_109b6381b1e249c9a644de35237a9e42",
              "IPY_MODEL_cbb54a0ba8c94133bbc31a5732ae73dc"
            ],
            "layout": "IPY_MODEL_994cba73fc19490aa1eccae7bce356fd"
          }
        },
        "1db9b5f4e0404d2d9ed24e15c99b1282": {
          "model_module": "@jupyter-widgets/controls",
          "model_module_version": "1.5.0",
          "model_name": "HBoxModel",
          "state": {
            "_dom_classes": [],
            "_model_module": "@jupyter-widgets/controls",
            "_model_module_version": "1.5.0",
            "_model_name": "HBoxModel",
            "_view_count": null,
            "_view_module": "@jupyter-widgets/controls",
            "_view_module_version": "1.5.0",
            "_view_name": "HBoxView",
            "box_style": "",
            "children": [
              "IPY_MODEL_e0555db798454554a5e3258e8e356021",
              "IPY_MODEL_ecd94b9ebfd54533b4f5db801405e09c",
              "IPY_MODEL_cf11e430366346b6b42380e219991423"
            ],
            "layout": "IPY_MODEL_a686319ac7ab4ef6905ecc5984997d74"
          }
        },
        "1e822ea1141a443aa114fb17155de1df": {
          "model_module": "@jupyter-widgets/base",
          "model_module_version": "1.2.0",
          "model_name": "LayoutModel",
          "state": {
            "_model_module": "@jupyter-widgets/base",
            "_model_module_version": "1.2.0",
            "_model_name": "LayoutModel",
            "_view_count": null,
            "_view_module": "@jupyter-widgets/base",
            "_view_module_version": "1.2.0",
            "_view_name": "LayoutView",
            "align_content": null,
            "align_items": null,
            "align_self": null,
            "border": null,
            "bottom": null,
            "display": null,
            "flex": null,
            "flex_flow": null,
            "grid_area": null,
            "grid_auto_columns": null,
            "grid_auto_flow": null,
            "grid_auto_rows": null,
            "grid_column": null,
            "grid_gap": null,
            "grid_row": null,
            "grid_template_areas": null,
            "grid_template_columns": null,
            "grid_template_rows": null,
            "height": null,
            "justify_content": null,
            "justify_items": null,
            "left": null,
            "margin": null,
            "max_height": null,
            "max_width": null,
            "min_height": null,
            "min_width": null,
            "object_fit": null,
            "object_position": null,
            "order": null,
            "overflow": null,
            "overflow_x": null,
            "overflow_y": null,
            "padding": null,
            "right": null,
            "top": null,
            "visibility": null,
            "width": null
          }
        },
        "22d254a3cade4035b06d3b119c41678b": {
          "model_module": "@jupyter-widgets/controls",
          "model_module_version": "1.5.0",
          "model_name": "DescriptionStyleModel",
          "state": {
            "_model_module": "@jupyter-widgets/controls",
            "_model_module_version": "1.5.0",
            "_model_name": "DescriptionStyleModel",
            "_view_count": null,
            "_view_module": "@jupyter-widgets/base",
            "_view_module_version": "1.2.0",
            "_view_name": "StyleView",
            "description_width": ""
          }
        },
        "24b8d005abcc4c67bac573f3c5745024": {
          "model_module": "@jupyter-widgets/base",
          "model_module_version": "1.2.0",
          "model_name": "LayoutModel",
          "state": {
            "_model_module": "@jupyter-widgets/base",
            "_model_module_version": "1.2.0",
            "_model_name": "LayoutModel",
            "_view_count": null,
            "_view_module": "@jupyter-widgets/base",
            "_view_module_version": "1.2.0",
            "_view_name": "LayoutView",
            "align_content": null,
            "align_items": null,
            "align_self": null,
            "border": null,
            "bottom": null,
            "display": null,
            "flex": null,
            "flex_flow": null,
            "grid_area": null,
            "grid_auto_columns": null,
            "grid_auto_flow": null,
            "grid_auto_rows": null,
            "grid_column": null,
            "grid_gap": null,
            "grid_row": null,
            "grid_template_areas": null,
            "grid_template_columns": null,
            "grid_template_rows": null,
            "height": null,
            "justify_content": null,
            "justify_items": null,
            "left": null,
            "margin": null,
            "max_height": null,
            "max_width": null,
            "min_height": null,
            "min_width": null,
            "object_fit": null,
            "object_position": null,
            "order": null,
            "overflow": null,
            "overflow_x": null,
            "overflow_y": null,
            "padding": null,
            "right": null,
            "top": null,
            "visibility": null,
            "width": null
          }
        },
        "25e6d54ffcda477e8fc534fbf0e22933": {
          "model_module": "@jupyter-widgets/controls",
          "model_module_version": "1.5.0",
          "model_name": "DescriptionStyleModel",
          "state": {
            "_model_module": "@jupyter-widgets/controls",
            "_model_module_version": "1.5.0",
            "_model_name": "DescriptionStyleModel",
            "_view_count": null,
            "_view_module": "@jupyter-widgets/base",
            "_view_module_version": "1.2.0",
            "_view_name": "StyleView",
            "description_width": ""
          }
        },
        "2a34e076ba6b4940869081ac134e28b0": {
          "model_module": "@jupyter-widgets/controls",
          "model_module_version": "1.5.0",
          "model_name": "FloatProgressModel",
          "state": {
            "_dom_classes": [],
            "_model_module": "@jupyter-widgets/controls",
            "_model_module_version": "1.5.0",
            "_model_name": "FloatProgressModel",
            "_view_count": null,
            "_view_module": "@jupyter-widgets/controls",
            "_view_module_version": "1.5.0",
            "_view_name": "ProgressView",
            "bar_style": "success",
            "description": "",
            "description_tooltip": null,
            "layout": "IPY_MODEL_0afe47ca0bfb456cae652cf7d3c9cbbf",
            "max": 35,
            "min": 0,
            "orientation": "horizontal",
            "style": "IPY_MODEL_9e3c3f1b00094735a83ab796749addf2",
            "value": 35
          }
        },
        "2bcef5e5ef9c4af09e9c23ac7025c2c0": {
          "model_module": "@jupyter-widgets/controls",
          "model_module_version": "1.5.0",
          "model_name": "DescriptionStyleModel",
          "state": {
            "_model_module": "@jupyter-widgets/controls",
            "_model_module_version": "1.5.0",
            "_model_name": "DescriptionStyleModel",
            "_view_count": null,
            "_view_module": "@jupyter-widgets/base",
            "_view_module_version": "1.2.0",
            "_view_name": "StyleView",
            "description_width": ""
          }
        },
        "2caf0e5c67474e4a9e4def1e0f491a44": {
          "model_module": "@jupyter-widgets/controls",
          "model_module_version": "1.5.0",
          "model_name": "HTMLModel",
          "state": {
            "_dom_classes": [],
            "_model_module": "@jupyter-widgets/controls",
            "_model_module_version": "1.5.0",
            "_model_name": "HTMLModel",
            "_view_count": null,
            "_view_module": "@jupyter-widgets/controls",
            "_view_module_version": "1.5.0",
            "_view_name": "HTMLView",
            "description": "",
            "description_tooltip": null,
            "layout": "IPY_MODEL_99d688eeb7be4ea5b354574d6dd81124",
            "placeholder": "​",
            "style": "IPY_MODEL_6814d83888864484bb5ec86d78f317f5",
            "value": " 0/5 [00:00&lt;?, ?it/s]"
          }
        },
        "2eac324772344dcd861503fbf702b232": {
          "model_module": "@jupyter-widgets/base",
          "model_module_version": "1.2.0",
          "model_name": "LayoutModel",
          "state": {
            "_model_module": "@jupyter-widgets/base",
            "_model_module_version": "1.2.0",
            "_model_name": "LayoutModel",
            "_view_count": null,
            "_view_module": "@jupyter-widgets/base",
            "_view_module_version": "1.2.0",
            "_view_name": "LayoutView",
            "align_content": null,
            "align_items": null,
            "align_self": null,
            "border": null,
            "bottom": null,
            "display": null,
            "flex": null,
            "flex_flow": null,
            "grid_area": null,
            "grid_auto_columns": null,
            "grid_auto_flow": null,
            "grid_auto_rows": null,
            "grid_column": null,
            "grid_gap": null,
            "grid_row": null,
            "grid_template_areas": null,
            "grid_template_columns": null,
            "grid_template_rows": null,
            "height": null,
            "justify_content": null,
            "justify_items": null,
            "left": null,
            "margin": null,
            "max_height": null,
            "max_width": null,
            "min_height": null,
            "min_width": null,
            "object_fit": null,
            "object_position": null,
            "order": null,
            "overflow": null,
            "overflow_x": null,
            "overflow_y": null,
            "padding": null,
            "right": null,
            "top": null,
            "visibility": null,
            "width": null
          }
        },
        "32bbd6781af94497809d86556f740edf": {
          "model_module": "@jupyter-widgets/controls",
          "model_module_version": "1.5.0",
          "model_name": "HTMLModel",
          "state": {
            "_dom_classes": [],
            "_model_module": "@jupyter-widgets/controls",
            "_model_module_version": "1.5.0",
            "_model_name": "HTMLModel",
            "_view_count": null,
            "_view_module": "@jupyter-widgets/controls",
            "_view_module_version": "1.5.0",
            "_view_name": "HTMLView",
            "description": "",
            "description_tooltip": null,
            "layout": "IPY_MODEL_50d27ce1a1d449a08d31661f3704e570",
            "placeholder": "​",
            "style": "IPY_MODEL_0edfa24e74ad443aaac3abeb67e48c88",
            "value": "Epoch:   0%"
          }
        },
        "33192ebf0ee941a188864386add4979c": {
          "model_module": "@jupyter-widgets/controls",
          "model_module_version": "1.5.0",
          "model_name": "ProgressStyleModel",
          "state": {
            "_model_module": "@jupyter-widgets/controls",
            "_model_module_version": "1.5.0",
            "_model_name": "ProgressStyleModel",
            "_view_count": null,
            "_view_module": "@jupyter-widgets/base",
            "_view_module_version": "1.2.0",
            "_view_name": "StyleView",
            "bar_color": null,
            "description_width": ""
          }
        },
        "3f3c56584adf457bbde08a7f0b9272da": {
          "model_module": "@jupyter-widgets/controls",
          "model_module_version": "1.5.0",
          "model_name": "FloatProgressModel",
          "state": {
            "_dom_classes": [],
            "_model_module": "@jupyter-widgets/controls",
            "_model_module_version": "1.5.0",
            "_model_name": "FloatProgressModel",
            "_view_count": null,
            "_view_module": "@jupyter-widgets/controls",
            "_view_module_version": "1.5.0",
            "_view_name": "ProgressView",
            "bar_style": "success",
            "description": "",
            "description_tooltip": null,
            "layout": "IPY_MODEL_6d97dcef0f784a0fa2d3552f45c0d4c4",
            "max": 35,
            "min": 0,
            "orientation": "horizontal",
            "style": "IPY_MODEL_07986405983b4839a321037c02f36168",
            "value": 35
          }
        },
        "439dfd4719d24c2b8c8a33b290e4432a": {
          "model_module": "@jupyter-widgets/controls",
          "model_module_version": "1.5.0",
          "model_name": "HBoxModel",
          "state": {
            "_dom_classes": [],
            "_model_module": "@jupyter-widgets/controls",
            "_model_module_version": "1.5.0",
            "_model_name": "HBoxModel",
            "_view_count": null,
            "_view_module": "@jupyter-widgets/controls",
            "_view_module_version": "1.5.0",
            "_view_name": "HBoxView",
            "box_style": "",
            "children": [
              "IPY_MODEL_32bbd6781af94497809d86556f740edf",
              "IPY_MODEL_5fdba0ddabc44f6c9ff1194ab567484a",
              "IPY_MODEL_2caf0e5c67474e4a9e4def1e0f491a44"
            ],
            "layout": "IPY_MODEL_6a1d34b3b6084b4f89b97893e942e7a0"
          }
        },
        "476ca280e65e4b5d8ef4e9e7b7e625c1": {
          "model_module": "@jupyter-widgets/base",
          "model_module_version": "1.2.0",
          "model_name": "LayoutModel",
          "state": {
            "_model_module": "@jupyter-widgets/base",
            "_model_module_version": "1.2.0",
            "_model_name": "LayoutModel",
            "_view_count": null,
            "_view_module": "@jupyter-widgets/base",
            "_view_module_version": "1.2.0",
            "_view_name": "LayoutView",
            "align_content": null,
            "align_items": null,
            "align_self": null,
            "border": null,
            "bottom": null,
            "display": null,
            "flex": null,
            "flex_flow": null,
            "grid_area": null,
            "grid_auto_columns": null,
            "grid_auto_flow": null,
            "grid_auto_rows": null,
            "grid_column": null,
            "grid_gap": null,
            "grid_row": null,
            "grid_template_areas": null,
            "grid_template_columns": null,
            "grid_template_rows": null,
            "height": null,
            "justify_content": null,
            "justify_items": null,
            "left": null,
            "margin": null,
            "max_height": null,
            "max_width": null,
            "min_height": null,
            "min_width": null,
            "object_fit": null,
            "object_position": null,
            "order": null,
            "overflow": null,
            "overflow_x": null,
            "overflow_y": null,
            "padding": null,
            "right": null,
            "top": null,
            "visibility": null,
            "width": null
          }
        },
        "48cb4dd0b657405a81b163f3090ab772": {
          "model_module": "@jupyter-widgets/controls",
          "model_module_version": "1.5.0",
          "model_name": "DescriptionStyleModel",
          "state": {
            "_model_module": "@jupyter-widgets/controls",
            "_model_module_version": "1.5.0",
            "_model_name": "DescriptionStyleModel",
            "_view_count": null,
            "_view_module": "@jupyter-widgets/base",
            "_view_module_version": "1.2.0",
            "_view_name": "StyleView",
            "description_width": ""
          }
        },
        "49335bdd0b7b4493887bc021fac87fd3": {
          "model_module": "@jupyter-widgets/base",
          "model_module_version": "1.2.0",
          "model_name": "LayoutModel",
          "state": {
            "_model_module": "@jupyter-widgets/base",
            "_model_module_version": "1.2.0",
            "_model_name": "LayoutModel",
            "_view_count": null,
            "_view_module": "@jupyter-widgets/base",
            "_view_module_version": "1.2.0",
            "_view_name": "LayoutView",
            "align_content": null,
            "align_items": null,
            "align_self": null,
            "border": null,
            "bottom": null,
            "display": null,
            "flex": null,
            "flex_flow": null,
            "grid_area": null,
            "grid_auto_columns": null,
            "grid_auto_flow": null,
            "grid_auto_rows": null,
            "grid_column": null,
            "grid_gap": null,
            "grid_row": null,
            "grid_template_areas": null,
            "grid_template_columns": null,
            "grid_template_rows": null,
            "height": null,
            "justify_content": null,
            "justify_items": null,
            "left": null,
            "margin": null,
            "max_height": null,
            "max_width": null,
            "min_height": null,
            "min_width": null,
            "object_fit": null,
            "object_position": null,
            "order": null,
            "overflow": null,
            "overflow_x": null,
            "overflow_y": null,
            "padding": null,
            "right": null,
            "top": null,
            "visibility": null,
            "width": null
          }
        },
        "50d27ce1a1d449a08d31661f3704e570": {
          "model_module": "@jupyter-widgets/base",
          "model_module_version": "1.2.0",
          "model_name": "LayoutModel",
          "state": {
            "_model_module": "@jupyter-widgets/base",
            "_model_module_version": "1.2.0",
            "_model_name": "LayoutModel",
            "_view_count": null,
            "_view_module": "@jupyter-widgets/base",
            "_view_module_version": "1.2.0",
            "_view_name": "LayoutView",
            "align_content": null,
            "align_items": null,
            "align_self": null,
            "border": null,
            "bottom": null,
            "display": null,
            "flex": null,
            "flex_flow": null,
            "grid_area": null,
            "grid_auto_columns": null,
            "grid_auto_flow": null,
            "grid_auto_rows": null,
            "grid_column": null,
            "grid_gap": null,
            "grid_row": null,
            "grid_template_areas": null,
            "grid_template_columns": null,
            "grid_template_rows": null,
            "height": null,
            "justify_content": null,
            "justify_items": null,
            "left": null,
            "margin": null,
            "max_height": null,
            "max_width": null,
            "min_height": null,
            "min_width": null,
            "object_fit": null,
            "object_position": null,
            "order": null,
            "overflow": null,
            "overflow_x": null,
            "overflow_y": null,
            "padding": null,
            "right": null,
            "top": null,
            "visibility": null,
            "width": null
          }
        },
        "50f6b12bec4c4b91a6def24cf2201945": {
          "model_module": "@jupyter-widgets/controls",
          "model_module_version": "1.5.0",
          "model_name": "ProgressStyleModel",
          "state": {
            "_model_module": "@jupyter-widgets/controls",
            "_model_module_version": "1.5.0",
            "_model_name": "ProgressStyleModel",
            "_view_count": null,
            "_view_module": "@jupyter-widgets/base",
            "_view_module_version": "1.2.0",
            "_view_name": "StyleView",
            "bar_color": null,
            "description_width": ""
          }
        },
        "5411c0b93ee346c19c66f6d5493f3329": {
          "model_module": "@jupyter-widgets/controls",
          "model_module_version": "1.5.0",
          "model_name": "HTMLModel",
          "state": {
            "_dom_classes": [],
            "_model_module": "@jupyter-widgets/controls",
            "_model_module_version": "1.5.0",
            "_model_name": "HTMLModel",
            "_view_count": null,
            "_view_module": "@jupyter-widgets/controls",
            "_view_module_version": "1.5.0",
            "_view_name": "HTMLView",
            "description": "",
            "description_tooltip": null,
            "layout": "IPY_MODEL_d14e27db660f4df5a7e922566db9e382",
            "placeholder": "​",
            "style": "IPY_MODEL_bb5938c89e214c26b257ea0d02088483",
            "value": " 538/1182 [02:39&lt;03:04,  3.48it/s]"
          }
        },
        "5507f0edef1d40468fef57229f912ff7": {
          "model_module": "@jupyter-widgets/controls",
          "model_module_version": "1.5.0",
          "model_name": "FloatProgressModel",
          "state": {
            "_dom_classes": [],
            "_model_module": "@jupyter-widgets/controls",
            "_model_module_version": "1.5.0",
            "_model_name": "FloatProgressModel",
            "_view_count": null,
            "_view_module": "@jupyter-widgets/controls",
            "_view_module_version": "1.5.0",
            "_view_name": "ProgressView",
            "bar_style": "",
            "description": "",
            "description_tooltip": null,
            "layout": "IPY_MODEL_1645ca85c98b4358941aefad7cae3624",
            "max": 1182,
            "min": 0,
            "orientation": "horizontal",
            "style": "IPY_MODEL_fe02fae5250d4c69b402de65ef229d98",
            "value": 538
          }
        },
        "5fdba0ddabc44f6c9ff1194ab567484a": {
          "model_module": "@jupyter-widgets/controls",
          "model_module_version": "1.5.0",
          "model_name": "FloatProgressModel",
          "state": {
            "_dom_classes": [],
            "_model_module": "@jupyter-widgets/controls",
            "_model_module_version": "1.5.0",
            "_model_name": "FloatProgressModel",
            "_view_count": null,
            "_view_module": "@jupyter-widgets/controls",
            "_view_module_version": "1.5.0",
            "_view_name": "ProgressView",
            "bar_style": "",
            "description": "",
            "description_tooltip": null,
            "layout": "IPY_MODEL_7bea1c6e2c074e9a9ecd5d27aab72919",
            "max": 5,
            "min": 0,
            "orientation": "horizontal",
            "style": "IPY_MODEL_33192ebf0ee941a188864386add4979c",
            "value": 0
          }
        },
        "66d7f98863b94cd7842688156df05185": {
          "model_module": "@jupyter-widgets/controls",
          "model_module_version": "1.5.0",
          "model_name": "DescriptionStyleModel",
          "state": {
            "_model_module": "@jupyter-widgets/controls",
            "_model_module_version": "1.5.0",
            "_model_name": "DescriptionStyleModel",
            "_view_count": null,
            "_view_module": "@jupyter-widgets/base",
            "_view_module_version": "1.2.0",
            "_view_name": "StyleView",
            "description_width": ""
          }
        },
        "6814d83888864484bb5ec86d78f317f5": {
          "model_module": "@jupyter-widgets/controls",
          "model_module_version": "1.5.0",
          "model_name": "DescriptionStyleModel",
          "state": {
            "_model_module": "@jupyter-widgets/controls",
            "_model_module_version": "1.5.0",
            "_model_name": "DescriptionStyleModel",
            "_view_count": null,
            "_view_module": "@jupyter-widgets/base",
            "_view_module_version": "1.2.0",
            "_view_name": "StyleView",
            "description_width": ""
          }
        },
        "684839c013d34e25ba3719a6b0254860": {
          "model_module": "@jupyter-widgets/base",
          "model_module_version": "1.2.0",
          "model_name": "LayoutModel",
          "state": {
            "_model_module": "@jupyter-widgets/base",
            "_model_module_version": "1.2.0",
            "_model_name": "LayoutModel",
            "_view_count": null,
            "_view_module": "@jupyter-widgets/base",
            "_view_module_version": "1.2.0",
            "_view_name": "LayoutView",
            "align_content": null,
            "align_items": null,
            "align_self": null,
            "border": null,
            "bottom": null,
            "display": null,
            "flex": null,
            "flex_flow": null,
            "grid_area": null,
            "grid_auto_columns": null,
            "grid_auto_flow": null,
            "grid_auto_rows": null,
            "grid_column": null,
            "grid_gap": null,
            "grid_row": null,
            "grid_template_areas": null,
            "grid_template_columns": null,
            "grid_template_rows": null,
            "height": null,
            "justify_content": null,
            "justify_items": null,
            "left": null,
            "margin": null,
            "max_height": null,
            "max_width": null,
            "min_height": null,
            "min_width": null,
            "object_fit": null,
            "object_position": null,
            "order": null,
            "overflow": null,
            "overflow_x": null,
            "overflow_y": null,
            "padding": null,
            "right": null,
            "top": null,
            "visibility": null,
            "width": null
          }
        },
        "6a1d34b3b6084b4f89b97893e942e7a0": {
          "model_module": "@jupyter-widgets/base",
          "model_module_version": "1.2.0",
          "model_name": "LayoutModel",
          "state": {
            "_model_module": "@jupyter-widgets/base",
            "_model_module_version": "1.2.0",
            "_model_name": "LayoutModel",
            "_view_count": null,
            "_view_module": "@jupyter-widgets/base",
            "_view_module_version": "1.2.0",
            "_view_name": "LayoutView",
            "align_content": null,
            "align_items": null,
            "align_self": null,
            "border": null,
            "bottom": null,
            "display": null,
            "flex": null,
            "flex_flow": null,
            "grid_area": null,
            "grid_auto_columns": null,
            "grid_auto_flow": null,
            "grid_auto_rows": null,
            "grid_column": null,
            "grid_gap": null,
            "grid_row": null,
            "grid_template_areas": null,
            "grid_template_columns": null,
            "grid_template_rows": null,
            "height": null,
            "justify_content": null,
            "justify_items": null,
            "left": null,
            "margin": null,
            "max_height": null,
            "max_width": null,
            "min_height": null,
            "min_width": null,
            "object_fit": null,
            "object_position": null,
            "order": null,
            "overflow": null,
            "overflow_x": null,
            "overflow_y": null,
            "padding": null,
            "right": null,
            "top": null,
            "visibility": null,
            "width": null
          }
        },
        "6d97dcef0f784a0fa2d3552f45c0d4c4": {
          "model_module": "@jupyter-widgets/base",
          "model_module_version": "1.2.0",
          "model_name": "LayoutModel",
          "state": {
            "_model_module": "@jupyter-widgets/base",
            "_model_module_version": "1.2.0",
            "_model_name": "LayoutModel",
            "_view_count": null,
            "_view_module": "@jupyter-widgets/base",
            "_view_module_version": "1.2.0",
            "_view_name": "LayoutView",
            "align_content": null,
            "align_items": null,
            "align_self": null,
            "border": null,
            "bottom": null,
            "display": null,
            "flex": null,
            "flex_flow": null,
            "grid_area": null,
            "grid_auto_columns": null,
            "grid_auto_flow": null,
            "grid_auto_rows": null,
            "grid_column": null,
            "grid_gap": null,
            "grid_row": null,
            "grid_template_areas": null,
            "grid_template_columns": null,
            "grid_template_rows": null,
            "height": null,
            "justify_content": null,
            "justify_items": null,
            "left": null,
            "margin": null,
            "max_height": null,
            "max_width": null,
            "min_height": null,
            "min_width": null,
            "object_fit": null,
            "object_position": null,
            "order": null,
            "overflow": null,
            "overflow_x": null,
            "overflow_y": null,
            "padding": null,
            "right": null,
            "top": null,
            "visibility": null,
            "width": null
          }
        },
        "6e0e39807c4e453ba826d36ef3e5ec5a": {
          "model_module": "@jupyter-widgets/controls",
          "model_module_version": "1.5.0",
          "model_name": "HTMLModel",
          "state": {
            "_dom_classes": [],
            "_model_module": "@jupyter-widgets/controls",
            "_model_module_version": "1.5.0",
            "_model_name": "HTMLModel",
            "_view_count": null,
            "_view_module": "@jupyter-widgets/controls",
            "_view_module_version": "1.5.0",
            "_view_name": "HTMLView",
            "description": "",
            "description_tooltip": null,
            "layout": "IPY_MODEL_0470c716114a4126a65454292bd7c2c8",
            "placeholder": "​",
            "style": "IPY_MODEL_66d7f98863b94cd7842688156df05185",
            "value": " 35/35 [00:05&lt;00:00, 11.73it/s]"
          }
        },
        "70d5248c72fd47fc94268f56276ec596": {
          "model_module": "@jupyter-widgets/controls",
          "model_module_version": "1.5.0",
          "model_name": "HBoxModel",
          "state": {
            "_dom_classes": [],
            "_model_module": "@jupyter-widgets/controls",
            "_model_module_version": "1.5.0",
            "_model_name": "HBoxModel",
            "_view_count": null,
            "_view_module": "@jupyter-widgets/controls",
            "_view_module_version": "1.5.0",
            "_view_name": "HBoxView",
            "box_style": "",
            "children": [
              "IPY_MODEL_d8fd31feceda4a01958846df1a8faf8c",
              "IPY_MODEL_3f3c56584adf457bbde08a7f0b9272da",
              "IPY_MODEL_6e0e39807c4e453ba826d36ef3e5ec5a"
            ],
            "layout": "IPY_MODEL_476ca280e65e4b5d8ef4e9e7b7e625c1"
          }
        },
        "72ab772fd6af4f4aa691f9264fd6e0fe": {
          "model_module": "@jupyter-widgets/base",
          "model_module_version": "1.2.0",
          "model_name": "LayoutModel",
          "state": {
            "_model_module": "@jupyter-widgets/base",
            "_model_module_version": "1.2.0",
            "_model_name": "LayoutModel",
            "_view_count": null,
            "_view_module": "@jupyter-widgets/base",
            "_view_module_version": "1.2.0",
            "_view_name": "LayoutView",
            "align_content": null,
            "align_items": null,
            "align_self": null,
            "border": null,
            "bottom": null,
            "display": null,
            "flex": null,
            "flex_flow": null,
            "grid_area": null,
            "grid_auto_columns": null,
            "grid_auto_flow": null,
            "grid_auto_rows": null,
            "grid_column": null,
            "grid_gap": null,
            "grid_row": null,
            "grid_template_areas": null,
            "grid_template_columns": null,
            "grid_template_rows": null,
            "height": null,
            "justify_content": null,
            "justify_items": null,
            "left": null,
            "margin": null,
            "max_height": null,
            "max_width": null,
            "min_height": null,
            "min_width": null,
            "object_fit": null,
            "object_position": null,
            "order": null,
            "overflow": null,
            "overflow_x": null,
            "overflow_y": null,
            "padding": null,
            "right": null,
            "top": null,
            "visibility": null,
            "width": null
          }
        },
        "73335c7acbdb472aa4370731bed6233f": {
          "model_module": "@jupyter-widgets/base",
          "model_module_version": "1.2.0",
          "model_name": "LayoutModel",
          "state": {
            "_model_module": "@jupyter-widgets/base",
            "_model_module_version": "1.2.0",
            "_model_name": "LayoutModel",
            "_view_count": null,
            "_view_module": "@jupyter-widgets/base",
            "_view_module_version": "1.2.0",
            "_view_name": "LayoutView",
            "align_content": null,
            "align_items": null,
            "align_self": null,
            "border": null,
            "bottom": null,
            "display": null,
            "flex": null,
            "flex_flow": null,
            "grid_area": null,
            "grid_auto_columns": null,
            "grid_auto_flow": null,
            "grid_auto_rows": null,
            "grid_column": null,
            "grid_gap": null,
            "grid_row": null,
            "grid_template_areas": null,
            "grid_template_columns": null,
            "grid_template_rows": null,
            "height": null,
            "justify_content": null,
            "justify_items": null,
            "left": null,
            "margin": null,
            "max_height": null,
            "max_width": null,
            "min_height": null,
            "min_width": null,
            "object_fit": null,
            "object_position": null,
            "order": null,
            "overflow": null,
            "overflow_x": null,
            "overflow_y": null,
            "padding": null,
            "right": null,
            "top": null,
            "visibility": null,
            "width": null
          }
        },
        "778f65c9811242a48ff3218af8713c80": {
          "model_module": "@jupyter-widgets/base",
          "model_module_version": "1.2.0",
          "model_name": "LayoutModel",
          "state": {
            "_model_module": "@jupyter-widgets/base",
            "_model_module_version": "1.2.0",
            "_model_name": "LayoutModel",
            "_view_count": null,
            "_view_module": "@jupyter-widgets/base",
            "_view_module_version": "1.2.0",
            "_view_name": "LayoutView",
            "align_content": null,
            "align_items": null,
            "align_self": null,
            "border": null,
            "bottom": null,
            "display": null,
            "flex": null,
            "flex_flow": null,
            "grid_area": null,
            "grid_auto_columns": null,
            "grid_auto_flow": null,
            "grid_auto_rows": null,
            "grid_column": null,
            "grid_gap": null,
            "grid_row": null,
            "grid_template_areas": null,
            "grid_template_columns": null,
            "grid_template_rows": null,
            "height": null,
            "justify_content": null,
            "justify_items": null,
            "left": null,
            "margin": null,
            "max_height": null,
            "max_width": null,
            "min_height": null,
            "min_width": null,
            "object_fit": null,
            "object_position": null,
            "order": null,
            "overflow": null,
            "overflow_x": null,
            "overflow_y": null,
            "padding": null,
            "right": null,
            "top": null,
            "visibility": null,
            "width": null
          }
        },
        "791cfde505904cdb951abda2138c5266": {
          "model_module": "@jupyter-widgets/controls",
          "model_module_version": "1.5.0",
          "model_name": "HBoxModel",
          "state": {
            "_dom_classes": [],
            "_model_module": "@jupyter-widgets/controls",
            "_model_module_version": "1.5.0",
            "_model_name": "HBoxModel",
            "_view_count": null,
            "_view_module": "@jupyter-widgets/controls",
            "_view_module_version": "1.5.0",
            "_view_name": "HBoxView",
            "box_style": "",
            "children": [
              "IPY_MODEL_9e168263f09e4213b6f312e72b2ec812",
              "IPY_MODEL_d7dc543dd5774814926b0af5d7b38945",
              "IPY_MODEL_e2a7905a799145268085709caac47048"
            ],
            "layout": "IPY_MODEL_72ab772fd6af4f4aa691f9264fd6e0fe"
          }
        },
        "7aaa7baa65aa4cc2a6766dfdecc321e2": {
          "model_module": "@jupyter-widgets/controls",
          "model_module_version": "1.5.0",
          "model_name": "DescriptionStyleModel",
          "state": {
            "_model_module": "@jupyter-widgets/controls",
            "_model_module_version": "1.5.0",
            "_model_name": "DescriptionStyleModel",
            "_view_count": null,
            "_view_module": "@jupyter-widgets/base",
            "_view_module_version": "1.2.0",
            "_view_name": "StyleView",
            "description_width": ""
          }
        },
        "7baac3c58ecb48bcb581de41426f93cb": {
          "model_module": "@jupyter-widgets/controls",
          "model_module_version": "1.5.0",
          "model_name": "HTMLModel",
          "state": {
            "_dom_classes": [],
            "_model_module": "@jupyter-widgets/controls",
            "_model_module_version": "1.5.0",
            "_model_name": "HTMLModel",
            "_view_count": null,
            "_view_module": "@jupyter-widgets/controls",
            "_view_module_version": "1.5.0",
            "_view_name": "HTMLView",
            "description": "",
            "description_tooltip": null,
            "layout": "IPY_MODEL_07c6c6f59f5548c8b3587b61023913f7",
            "placeholder": "​",
            "style": "IPY_MODEL_b3c7c28eaab348ecab8841a3bf49609a",
            "value": " 64/64 [00:12&lt;00:00, 10.17it/s]"
          }
        },
        "7bea1c6e2c074e9a9ecd5d27aab72919": {
          "model_module": "@jupyter-widgets/base",
          "model_module_version": "1.2.0",
          "model_name": "LayoutModel",
          "state": {
            "_model_module": "@jupyter-widgets/base",
            "_model_module_version": "1.2.0",
            "_model_name": "LayoutModel",
            "_view_count": null,
            "_view_module": "@jupyter-widgets/base",
            "_view_module_version": "1.2.0",
            "_view_name": "LayoutView",
            "align_content": null,
            "align_items": null,
            "align_self": null,
            "border": null,
            "bottom": null,
            "display": null,
            "flex": null,
            "flex_flow": null,
            "grid_area": null,
            "grid_auto_columns": null,
            "grid_auto_flow": null,
            "grid_auto_rows": null,
            "grid_column": null,
            "grid_gap": null,
            "grid_row": null,
            "grid_template_areas": null,
            "grid_template_columns": null,
            "grid_template_rows": null,
            "height": null,
            "justify_content": null,
            "justify_items": null,
            "left": null,
            "margin": null,
            "max_height": null,
            "max_width": null,
            "min_height": null,
            "min_width": null,
            "object_fit": null,
            "object_position": null,
            "order": null,
            "overflow": null,
            "overflow_x": null,
            "overflow_y": null,
            "padding": null,
            "right": null,
            "top": null,
            "visibility": null,
            "width": null
          }
        },
        "7f63d634c062449fbf827fffd4399546": {
          "model_module": "@jupyter-widgets/base",
          "model_module_version": "1.2.0",
          "model_name": "LayoutModel",
          "state": {
            "_model_module": "@jupyter-widgets/base",
            "_model_module_version": "1.2.0",
            "_model_name": "LayoutModel",
            "_view_count": null,
            "_view_module": "@jupyter-widgets/base",
            "_view_module_version": "1.2.0",
            "_view_name": "LayoutView",
            "align_content": null,
            "align_items": null,
            "align_self": null,
            "border": null,
            "bottom": null,
            "display": null,
            "flex": null,
            "flex_flow": null,
            "grid_area": null,
            "grid_auto_columns": null,
            "grid_auto_flow": null,
            "grid_auto_rows": null,
            "grid_column": null,
            "grid_gap": null,
            "grid_row": null,
            "grid_template_areas": null,
            "grid_template_columns": null,
            "grid_template_rows": null,
            "height": null,
            "justify_content": null,
            "justify_items": null,
            "left": null,
            "margin": null,
            "max_height": null,
            "max_width": null,
            "min_height": null,
            "min_width": null,
            "object_fit": null,
            "object_position": null,
            "order": null,
            "overflow": null,
            "overflow_x": null,
            "overflow_y": null,
            "padding": null,
            "right": null,
            "top": null,
            "visibility": null,
            "width": null
          }
        },
        "7ff76fac105e46ab83cc38d8eb7ec1f8": {
          "model_module": "@jupyter-widgets/base",
          "model_module_version": "1.2.0",
          "model_name": "LayoutModel",
          "state": {
            "_model_module": "@jupyter-widgets/base",
            "_model_module_version": "1.2.0",
            "_model_name": "LayoutModel",
            "_view_count": null,
            "_view_module": "@jupyter-widgets/base",
            "_view_module_version": "1.2.0",
            "_view_name": "LayoutView",
            "align_content": null,
            "align_items": null,
            "align_self": null,
            "border": null,
            "bottom": null,
            "display": null,
            "flex": null,
            "flex_flow": null,
            "grid_area": null,
            "grid_auto_columns": null,
            "grid_auto_flow": null,
            "grid_auto_rows": null,
            "grid_column": null,
            "grid_gap": null,
            "grid_row": null,
            "grid_template_areas": null,
            "grid_template_columns": null,
            "grid_template_rows": null,
            "height": null,
            "justify_content": null,
            "justify_items": null,
            "left": null,
            "margin": null,
            "max_height": null,
            "max_width": null,
            "min_height": null,
            "min_width": null,
            "object_fit": null,
            "object_position": null,
            "order": null,
            "overflow": null,
            "overflow_x": null,
            "overflow_y": null,
            "padding": null,
            "right": null,
            "top": null,
            "visibility": null,
            "width": null
          }
        },
        "83bf6f30549d41bd9547679f81f7f453": {
          "model_module": "@jupyter-widgets/controls",
          "model_module_version": "1.5.0",
          "model_name": "HBoxModel",
          "state": {
            "_dom_classes": [],
            "_model_module": "@jupyter-widgets/controls",
            "_model_module_version": "1.5.0",
            "_model_name": "HBoxModel",
            "_view_count": null,
            "_view_module": "@jupyter-widgets/controls",
            "_view_module_version": "1.5.0",
            "_view_name": "HBoxView",
            "box_style": "",
            "children": [
              "IPY_MODEL_dd2ba5ec94de41f589da939b254ebab8",
              "IPY_MODEL_2a34e076ba6b4940869081ac134e28b0",
              "IPY_MODEL_bf0d2b49e4f74ef4b409a29e9650c197"
            ],
            "layout": "IPY_MODEL_af6c3adcf37f46e39a99ed9039d98f32"
          }
        },
        "8c86ad45c9a741389021226156b9adc8": {
          "model_module": "@jupyter-widgets/controls",
          "model_module_version": "1.5.0",
          "model_name": "DescriptionStyleModel",
          "state": {
            "_model_module": "@jupyter-widgets/controls",
            "_model_module_version": "1.5.0",
            "_model_name": "DescriptionStyleModel",
            "_view_count": null,
            "_view_module": "@jupyter-widgets/base",
            "_view_module_version": "1.2.0",
            "_view_name": "StyleView",
            "description_width": ""
          }
        },
        "994cba73fc19490aa1eccae7bce356fd": {
          "model_module": "@jupyter-widgets/base",
          "model_module_version": "1.2.0",
          "model_name": "LayoutModel",
          "state": {
            "_model_module": "@jupyter-widgets/base",
            "_model_module_version": "1.2.0",
            "_model_name": "LayoutModel",
            "_view_count": null,
            "_view_module": "@jupyter-widgets/base",
            "_view_module_version": "1.2.0",
            "_view_name": "LayoutView",
            "align_content": null,
            "align_items": null,
            "align_self": null,
            "border": null,
            "bottom": null,
            "display": null,
            "flex": null,
            "flex_flow": null,
            "grid_area": null,
            "grid_auto_columns": null,
            "grid_auto_flow": null,
            "grid_auto_rows": null,
            "grid_column": null,
            "grid_gap": null,
            "grid_row": null,
            "grid_template_areas": null,
            "grid_template_columns": null,
            "grid_template_rows": null,
            "height": null,
            "justify_content": null,
            "justify_items": null,
            "left": null,
            "margin": null,
            "max_height": null,
            "max_width": null,
            "min_height": null,
            "min_width": null,
            "object_fit": null,
            "object_position": null,
            "order": null,
            "overflow": null,
            "overflow_x": null,
            "overflow_y": null,
            "padding": null,
            "right": null,
            "top": null,
            "visibility": null,
            "width": null
          }
        },
        "99d688eeb7be4ea5b354574d6dd81124": {
          "model_module": "@jupyter-widgets/base",
          "model_module_version": "1.2.0",
          "model_name": "LayoutModel",
          "state": {
            "_model_module": "@jupyter-widgets/base",
            "_model_module_version": "1.2.0",
            "_model_name": "LayoutModel",
            "_view_count": null,
            "_view_module": "@jupyter-widgets/base",
            "_view_module_version": "1.2.0",
            "_view_name": "LayoutView",
            "align_content": null,
            "align_items": null,
            "align_self": null,
            "border": null,
            "bottom": null,
            "display": null,
            "flex": null,
            "flex_flow": null,
            "grid_area": null,
            "grid_auto_columns": null,
            "grid_auto_flow": null,
            "grid_auto_rows": null,
            "grid_column": null,
            "grid_gap": null,
            "grid_row": null,
            "grid_template_areas": null,
            "grid_template_columns": null,
            "grid_template_rows": null,
            "height": null,
            "justify_content": null,
            "justify_items": null,
            "left": null,
            "margin": null,
            "max_height": null,
            "max_width": null,
            "min_height": null,
            "min_width": null,
            "object_fit": null,
            "object_position": null,
            "order": null,
            "overflow": null,
            "overflow_x": null,
            "overflow_y": null,
            "padding": null,
            "right": null,
            "top": null,
            "visibility": null,
            "width": null
          }
        },
        "9e168263f09e4213b6f312e72b2ec812": {
          "model_module": "@jupyter-widgets/controls",
          "model_module_version": "1.5.0",
          "model_name": "HTMLModel",
          "state": {
            "_dom_classes": [],
            "_model_module": "@jupyter-widgets/controls",
            "_model_module_version": "1.5.0",
            "_model_name": "HTMLModel",
            "_view_count": null,
            "_view_module": "@jupyter-widgets/controls",
            "_view_module_version": "1.5.0",
            "_view_name": "HTMLView",
            "description": "",
            "description_tooltip": null,
            "layout": "IPY_MODEL_7ff76fac105e46ab83cc38d8eb7ec1f8",
            "placeholder": "​",
            "style": "IPY_MODEL_2bcef5e5ef9c4af09e9c23ac7025c2c0",
            "value": "Batches: 100%"
          }
        },
        "9e3c3f1b00094735a83ab796749addf2": {
          "model_module": "@jupyter-widgets/controls",
          "model_module_version": "1.5.0",
          "model_name": "ProgressStyleModel",
          "state": {
            "_model_module": "@jupyter-widgets/controls",
            "_model_module_version": "1.5.0",
            "_model_name": "ProgressStyleModel",
            "_view_count": null,
            "_view_module": "@jupyter-widgets/base",
            "_view_module_version": "1.2.0",
            "_view_name": "StyleView",
            "bar_color": null,
            "description_width": ""
          }
        },
        "a0f80906762d4aaa8a61f65e8aa78524": {
          "model_module": "@jupyter-widgets/controls",
          "model_module_version": "1.5.0",
          "model_name": "ProgressStyleModel",
          "state": {
            "_model_module": "@jupyter-widgets/controls",
            "_model_module_version": "1.5.0",
            "_model_name": "ProgressStyleModel",
            "_view_count": null,
            "_view_module": "@jupyter-widgets/base",
            "_view_module_version": "1.2.0",
            "_view_name": "StyleView",
            "bar_color": null,
            "description_width": ""
          }
        },
        "a130108c298f475aba5f5e6b3195d506": {
          "model_module": "@jupyter-widgets/controls",
          "model_module_version": "1.5.0",
          "model_name": "HTMLModel",
          "state": {
            "_dom_classes": [],
            "_model_module": "@jupyter-widgets/controls",
            "_model_module_version": "1.5.0",
            "_model_name": "HTMLModel",
            "_view_count": null,
            "_view_module": "@jupyter-widgets/controls",
            "_view_module_version": "1.5.0",
            "_view_name": "HTMLView",
            "description": "",
            "description_tooltip": null,
            "layout": "IPY_MODEL_b86dc35b48ba4de0bb4094996e68ec3c",
            "placeholder": "​",
            "style": "IPY_MODEL_f9fc5fb8c60f42e9aaf208703eeb63c6",
            "value": "Batches: 100%"
          }
        },
        "a49e69868046447bab7fcce3183d7d9a": {
          "model_module": "@jupyter-widgets/controls",
          "model_module_version": "1.5.0",
          "model_name": "DescriptionStyleModel",
          "state": {
            "_model_module": "@jupyter-widgets/controls",
            "_model_module_version": "1.5.0",
            "_model_name": "DescriptionStyleModel",
            "_view_count": null,
            "_view_module": "@jupyter-widgets/base",
            "_view_module_version": "1.2.0",
            "_view_name": "StyleView",
            "description_width": ""
          }
        },
        "a686319ac7ab4ef6905ecc5984997d74": {
          "model_module": "@jupyter-widgets/base",
          "model_module_version": "1.2.0",
          "model_name": "LayoutModel",
          "state": {
            "_model_module": "@jupyter-widgets/base",
            "_model_module_version": "1.2.0",
            "_model_name": "LayoutModel",
            "_view_count": null,
            "_view_module": "@jupyter-widgets/base",
            "_view_module_version": "1.2.0",
            "_view_name": "LayoutView",
            "align_content": null,
            "align_items": null,
            "align_self": null,
            "border": null,
            "bottom": null,
            "display": null,
            "flex": null,
            "flex_flow": null,
            "grid_area": null,
            "grid_auto_columns": null,
            "grid_auto_flow": null,
            "grid_auto_rows": null,
            "grid_column": null,
            "grid_gap": null,
            "grid_row": null,
            "grid_template_areas": null,
            "grid_template_columns": null,
            "grid_template_rows": null,
            "height": null,
            "justify_content": null,
            "justify_items": null,
            "left": null,
            "margin": null,
            "max_height": null,
            "max_width": null,
            "min_height": null,
            "min_width": null,
            "object_fit": null,
            "object_position": null,
            "order": null,
            "overflow": null,
            "overflow_x": null,
            "overflow_y": null,
            "padding": null,
            "right": null,
            "top": null,
            "visibility": null,
            "width": null
          }
        },
        "a6f712a091244d62af5001af87e9552d": {
          "model_module": "@jupyter-widgets/base",
          "model_module_version": "1.2.0",
          "model_name": "LayoutModel",
          "state": {
            "_model_module": "@jupyter-widgets/base",
            "_model_module_version": "1.2.0",
            "_model_name": "LayoutModel",
            "_view_count": null,
            "_view_module": "@jupyter-widgets/base",
            "_view_module_version": "1.2.0",
            "_view_name": "LayoutView",
            "align_content": null,
            "align_items": null,
            "align_self": null,
            "border": null,
            "bottom": null,
            "display": null,
            "flex": null,
            "flex_flow": null,
            "grid_area": null,
            "grid_auto_columns": null,
            "grid_auto_flow": null,
            "grid_auto_rows": null,
            "grid_column": null,
            "grid_gap": null,
            "grid_row": null,
            "grid_template_areas": null,
            "grid_template_columns": null,
            "grid_template_rows": null,
            "height": null,
            "justify_content": null,
            "justify_items": null,
            "left": null,
            "margin": null,
            "max_height": null,
            "max_width": null,
            "min_height": null,
            "min_width": null,
            "object_fit": null,
            "object_position": null,
            "order": null,
            "overflow": null,
            "overflow_x": null,
            "overflow_y": null,
            "padding": null,
            "right": null,
            "top": null,
            "visibility": null,
            "width": null
          }
        },
        "af6c3adcf37f46e39a99ed9039d98f32": {
          "model_module": "@jupyter-widgets/base",
          "model_module_version": "1.2.0",
          "model_name": "LayoutModel",
          "state": {
            "_model_module": "@jupyter-widgets/base",
            "_model_module_version": "1.2.0",
            "_model_name": "LayoutModel",
            "_view_count": null,
            "_view_module": "@jupyter-widgets/base",
            "_view_module_version": "1.2.0",
            "_view_name": "LayoutView",
            "align_content": null,
            "align_items": null,
            "align_self": null,
            "border": null,
            "bottom": null,
            "display": null,
            "flex": null,
            "flex_flow": null,
            "grid_area": null,
            "grid_auto_columns": null,
            "grid_auto_flow": null,
            "grid_auto_rows": null,
            "grid_column": null,
            "grid_gap": null,
            "grid_row": null,
            "grid_template_areas": null,
            "grid_template_columns": null,
            "grid_template_rows": null,
            "height": null,
            "justify_content": null,
            "justify_items": null,
            "left": null,
            "margin": null,
            "max_height": null,
            "max_width": null,
            "min_height": null,
            "min_width": null,
            "object_fit": null,
            "object_position": null,
            "order": null,
            "overflow": null,
            "overflow_x": null,
            "overflow_y": null,
            "padding": null,
            "right": null,
            "top": null,
            "visibility": null,
            "width": null
          }
        },
        "b1f16e80fed0455eadad2aaddecb6c44": {
          "model_module": "@jupyter-widgets/controls",
          "model_module_version": "1.5.0",
          "model_name": "DescriptionStyleModel",
          "state": {
            "_model_module": "@jupyter-widgets/controls",
            "_model_module_version": "1.5.0",
            "_model_name": "DescriptionStyleModel",
            "_view_count": null,
            "_view_module": "@jupyter-widgets/base",
            "_view_module_version": "1.2.0",
            "_view_name": "StyleView",
            "description_width": ""
          }
        },
        "b29238a421d146d09602abde76b99f5e": {
          "model_module": "@jupyter-widgets/controls",
          "model_module_version": "1.5.0",
          "model_name": "HBoxModel",
          "state": {
            "_dom_classes": [],
            "_model_module": "@jupyter-widgets/controls",
            "_model_module_version": "1.5.0",
            "_model_name": "HBoxModel",
            "_view_count": null,
            "_view_module": "@jupyter-widgets/controls",
            "_view_module_version": "1.5.0",
            "_view_name": "HBoxView",
            "box_style": "",
            "children": [
              "IPY_MODEL_b83fa9ef98ab44c691e089e144adca87",
              "IPY_MODEL_5507f0edef1d40468fef57229f912ff7",
              "IPY_MODEL_5411c0b93ee346c19c66f6d5493f3329"
            ],
            "layout": "IPY_MODEL_c9a88339ab3b44609d06d19a615c0041"
          }
        },
        "b3c7c28eaab348ecab8841a3bf49609a": {
          "model_module": "@jupyter-widgets/controls",
          "model_module_version": "1.5.0",
          "model_name": "DescriptionStyleModel",
          "state": {
            "_model_module": "@jupyter-widgets/controls",
            "_model_module_version": "1.5.0",
            "_model_name": "DescriptionStyleModel",
            "_view_count": null,
            "_view_module": "@jupyter-widgets/base",
            "_view_module_version": "1.2.0",
            "_view_name": "StyleView",
            "description_width": ""
          }
        },
        "b4688508c3bb4edb905daaed5ed0f79d": {
          "model_module": "@jupyter-widgets/controls",
          "model_module_version": "1.5.0",
          "model_name": "FloatProgressModel",
          "state": {
            "_dom_classes": [],
            "_model_module": "@jupyter-widgets/controls",
            "_model_module_version": "1.5.0",
            "_model_name": "FloatProgressModel",
            "_view_count": null,
            "_view_module": "@jupyter-widgets/controls",
            "_view_module_version": "1.5.0",
            "_view_name": "ProgressView",
            "bar_style": "success",
            "description": "",
            "description_tooltip": null,
            "layout": "IPY_MODEL_e6b743b62efc4e2e82683d1c779152b6",
            "max": 64,
            "min": 0,
            "orientation": "horizontal",
            "style": "IPY_MODEL_50f6b12bec4c4b91a6def24cf2201945",
            "value": 64
          }
        },
        "b83fa9ef98ab44c691e089e144adca87": {
          "model_module": "@jupyter-widgets/controls",
          "model_module_version": "1.5.0",
          "model_name": "HTMLModel",
          "state": {
            "_dom_classes": [],
            "_model_module": "@jupyter-widgets/controls",
            "_model_module_version": "1.5.0",
            "_model_name": "HTMLModel",
            "_view_count": null,
            "_view_module": "@jupyter-widgets/controls",
            "_view_module_version": "1.5.0",
            "_view_name": "HTMLView",
            "description": "",
            "description_tooltip": null,
            "layout": "IPY_MODEL_e1551b997dfa432f84e421e6e88d4dee",
            "placeholder": "​",
            "style": "IPY_MODEL_48cb4dd0b657405a81b163f3090ab772",
            "value": "Iteration:  46%"
          }
        },
        "b86dc35b48ba4de0bb4094996e68ec3c": {
          "model_module": "@jupyter-widgets/base",
          "model_module_version": "1.2.0",
          "model_name": "LayoutModel",
          "state": {
            "_model_module": "@jupyter-widgets/base",
            "_model_module_version": "1.2.0",
            "_model_name": "LayoutModel",
            "_view_count": null,
            "_view_module": "@jupyter-widgets/base",
            "_view_module_version": "1.2.0",
            "_view_name": "LayoutView",
            "align_content": null,
            "align_items": null,
            "align_self": null,
            "border": null,
            "bottom": null,
            "display": null,
            "flex": null,
            "flex_flow": null,
            "grid_area": null,
            "grid_auto_columns": null,
            "grid_auto_flow": null,
            "grid_auto_rows": null,
            "grid_column": null,
            "grid_gap": null,
            "grid_row": null,
            "grid_template_areas": null,
            "grid_template_columns": null,
            "grid_template_rows": null,
            "height": null,
            "justify_content": null,
            "justify_items": null,
            "left": null,
            "margin": null,
            "max_height": null,
            "max_width": null,
            "min_height": null,
            "min_width": null,
            "object_fit": null,
            "object_position": null,
            "order": null,
            "overflow": null,
            "overflow_x": null,
            "overflow_y": null,
            "padding": null,
            "right": null,
            "top": null,
            "visibility": null,
            "width": null
          }
        },
        "b99079eec39242c6989f5f5d365fe66c": {
          "model_module": "@jupyter-widgets/controls",
          "model_module_version": "1.5.0",
          "model_name": "ProgressStyleModel",
          "state": {
            "_model_module": "@jupyter-widgets/controls",
            "_model_module_version": "1.5.0",
            "_model_name": "ProgressStyleModel",
            "_view_count": null,
            "_view_module": "@jupyter-widgets/base",
            "_view_module_version": "1.2.0",
            "_view_name": "StyleView",
            "bar_color": null,
            "description_width": ""
          }
        },
        "bb5938c89e214c26b257ea0d02088483": {
          "model_module": "@jupyter-widgets/controls",
          "model_module_version": "1.5.0",
          "model_name": "DescriptionStyleModel",
          "state": {
            "_model_module": "@jupyter-widgets/controls",
            "_model_module_version": "1.5.0",
            "_model_name": "DescriptionStyleModel",
            "_view_count": null,
            "_view_module": "@jupyter-widgets/base",
            "_view_module_version": "1.2.0",
            "_view_name": "StyleView",
            "description_width": ""
          }
        },
        "bf0d2b49e4f74ef4b409a29e9650c197": {
          "model_module": "@jupyter-widgets/controls",
          "model_module_version": "1.5.0",
          "model_name": "HTMLModel",
          "state": {
            "_dom_classes": [],
            "_model_module": "@jupyter-widgets/controls",
            "_model_module_version": "1.5.0",
            "_model_name": "HTMLModel",
            "_view_count": null,
            "_view_module": "@jupyter-widgets/controls",
            "_view_module_version": "1.5.0",
            "_view_name": "HTMLView",
            "description": "",
            "description_tooltip": null,
            "layout": "IPY_MODEL_f81fa38cdd1a4feda79701c56f0166a7",
            "placeholder": "​",
            "style": "IPY_MODEL_f10e60eb37ed408f80c7e1dd83ea6822",
            "value": " 35/35 [00:05&lt;00:00, 12.58it/s]"
          }
        },
        "c5ed580b57c2459fa2fc537a969cb3c6": {
          "model_module": "@jupyter-widgets/base",
          "model_module_version": "1.2.0",
          "model_name": "LayoutModel",
          "state": {
            "_model_module": "@jupyter-widgets/base",
            "_model_module_version": "1.2.0",
            "_model_name": "LayoutModel",
            "_view_count": null,
            "_view_module": "@jupyter-widgets/base",
            "_view_module_version": "1.2.0",
            "_view_name": "LayoutView",
            "align_content": null,
            "align_items": null,
            "align_self": null,
            "border": null,
            "bottom": null,
            "display": null,
            "flex": null,
            "flex_flow": null,
            "grid_area": null,
            "grid_auto_columns": null,
            "grid_auto_flow": null,
            "grid_auto_rows": null,
            "grid_column": null,
            "grid_gap": null,
            "grid_row": null,
            "grid_template_areas": null,
            "grid_template_columns": null,
            "grid_template_rows": null,
            "height": null,
            "justify_content": null,
            "justify_items": null,
            "left": null,
            "margin": null,
            "max_height": null,
            "max_width": null,
            "min_height": null,
            "min_width": null,
            "object_fit": null,
            "object_position": null,
            "order": null,
            "overflow": null,
            "overflow_x": null,
            "overflow_y": null,
            "padding": null,
            "right": null,
            "top": null,
            "visibility": null,
            "width": null
          }
        },
        "c9a88339ab3b44609d06d19a615c0041": {
          "model_module": "@jupyter-widgets/base",
          "model_module_version": "1.2.0",
          "model_name": "LayoutModel",
          "state": {
            "_model_module": "@jupyter-widgets/base",
            "_model_module_version": "1.2.0",
            "_model_name": "LayoutModel",
            "_view_count": null,
            "_view_module": "@jupyter-widgets/base",
            "_view_module_version": "1.2.0",
            "_view_name": "LayoutView",
            "align_content": null,
            "align_items": null,
            "align_self": null,
            "border": null,
            "bottom": null,
            "display": null,
            "flex": null,
            "flex_flow": null,
            "grid_area": null,
            "grid_auto_columns": null,
            "grid_auto_flow": null,
            "grid_auto_rows": null,
            "grid_column": null,
            "grid_gap": null,
            "grid_row": null,
            "grid_template_areas": null,
            "grid_template_columns": null,
            "grid_template_rows": null,
            "height": null,
            "justify_content": null,
            "justify_items": null,
            "left": null,
            "margin": null,
            "max_height": null,
            "max_width": null,
            "min_height": null,
            "min_width": null,
            "object_fit": null,
            "object_position": null,
            "order": null,
            "overflow": null,
            "overflow_x": null,
            "overflow_y": null,
            "padding": null,
            "right": null,
            "top": null,
            "visibility": null,
            "width": null
          }
        },
        "cbb54a0ba8c94133bbc31a5732ae73dc": {
          "model_module": "@jupyter-widgets/controls",
          "model_module_version": "1.5.0",
          "model_name": "HTMLModel",
          "state": {
            "_dom_classes": [],
            "_model_module": "@jupyter-widgets/controls",
            "_model_module_version": "1.5.0",
            "_model_name": "HTMLModel",
            "_view_count": null,
            "_view_module": "@jupyter-widgets/controls",
            "_view_module_version": "1.5.0",
            "_view_name": "HTMLView",
            "description": "",
            "description_tooltip": null,
            "layout": "IPY_MODEL_7f63d634c062449fbf827fffd4399546",
            "placeholder": "​",
            "style": "IPY_MODEL_7aaa7baa65aa4cc2a6766dfdecc321e2",
            "value": " 37/37 [00:05&lt;00:00, 13.52it/s]"
          }
        },
        "cf11e430366346b6b42380e219991423": {
          "model_module": "@jupyter-widgets/controls",
          "model_module_version": "1.5.0",
          "model_name": "HTMLModel",
          "state": {
            "_dom_classes": [],
            "_model_module": "@jupyter-widgets/controls",
            "_model_module_version": "1.5.0",
            "_model_name": "HTMLModel",
            "_view_count": null,
            "_view_module": "@jupyter-widgets/controls",
            "_view_module_version": "1.5.0",
            "_view_name": "HTMLView",
            "description": "",
            "description_tooltip": null,
            "layout": "IPY_MODEL_24b8d005abcc4c67bac573f3c5745024",
            "placeholder": "​",
            "style": "IPY_MODEL_f2bade3411e54f1b88653c7f1049a5d5",
            "value": " 37/37 [00:05&lt;00:00, 12.70it/s]"
          }
        },
        "d14e27db660f4df5a7e922566db9e382": {
          "model_module": "@jupyter-widgets/base",
          "model_module_version": "1.2.0",
          "model_name": "LayoutModel",
          "state": {
            "_model_module": "@jupyter-widgets/base",
            "_model_module_version": "1.2.0",
            "_model_name": "LayoutModel",
            "_view_count": null,
            "_view_module": "@jupyter-widgets/base",
            "_view_module_version": "1.2.0",
            "_view_name": "LayoutView",
            "align_content": null,
            "align_items": null,
            "align_self": null,
            "border": null,
            "bottom": null,
            "display": null,
            "flex": null,
            "flex_flow": null,
            "grid_area": null,
            "grid_auto_columns": null,
            "grid_auto_flow": null,
            "grid_auto_rows": null,
            "grid_column": null,
            "grid_gap": null,
            "grid_row": null,
            "grid_template_areas": null,
            "grid_template_columns": null,
            "grid_template_rows": null,
            "height": null,
            "justify_content": null,
            "justify_items": null,
            "left": null,
            "margin": null,
            "max_height": null,
            "max_width": null,
            "min_height": null,
            "min_width": null,
            "object_fit": null,
            "object_position": null,
            "order": null,
            "overflow": null,
            "overflow_x": null,
            "overflow_y": null,
            "padding": null,
            "right": null,
            "top": null,
            "visibility": null,
            "width": null
          }
        },
        "d7dc543dd5774814926b0af5d7b38945": {
          "model_module": "@jupyter-widgets/controls",
          "model_module_version": "1.5.0",
          "model_name": "FloatProgressModel",
          "state": {
            "_dom_classes": [],
            "_model_module": "@jupyter-widgets/controls",
            "_model_module_version": "1.5.0",
            "_model_name": "FloatProgressModel",
            "_view_count": null,
            "_view_module": "@jupyter-widgets/controls",
            "_view_module_version": "1.5.0",
            "_view_name": "ProgressView",
            "bar_style": "success",
            "description": "",
            "description_tooltip": null,
            "layout": "IPY_MODEL_a6f712a091244d62af5001af87e9552d",
            "max": 64,
            "min": 0,
            "orientation": "horizontal",
            "style": "IPY_MODEL_b99079eec39242c6989f5f5d365fe66c",
            "value": 64
          }
        },
        "d8fd31feceda4a01958846df1a8faf8c": {
          "model_module": "@jupyter-widgets/controls",
          "model_module_version": "1.5.0",
          "model_name": "HTMLModel",
          "state": {
            "_dom_classes": [],
            "_model_module": "@jupyter-widgets/controls",
            "_model_module_version": "1.5.0",
            "_model_name": "HTMLModel",
            "_view_count": null,
            "_view_module": "@jupyter-widgets/controls",
            "_view_module_version": "1.5.0",
            "_view_name": "HTMLView",
            "description": "",
            "description_tooltip": null,
            "layout": "IPY_MODEL_2eac324772344dcd861503fbf702b232",
            "placeholder": "​",
            "style": "IPY_MODEL_25e6d54ffcda477e8fc534fbf0e22933",
            "value": "Batches: 100%"
          }
        },
        "dd2ba5ec94de41f589da939b254ebab8": {
          "model_module": "@jupyter-widgets/controls",
          "model_module_version": "1.5.0",
          "model_name": "HTMLModel",
          "state": {
            "_dom_classes": [],
            "_model_module": "@jupyter-widgets/controls",
            "_model_module_version": "1.5.0",
            "_model_name": "HTMLModel",
            "_view_count": null,
            "_view_module": "@jupyter-widgets/controls",
            "_view_module_version": "1.5.0",
            "_view_name": "HTMLView",
            "description": "",
            "description_tooltip": null,
            "layout": "IPY_MODEL_684839c013d34e25ba3719a6b0254860",
            "placeholder": "​",
            "style": "IPY_MODEL_8c86ad45c9a741389021226156b9adc8",
            "value": "Batches: 100%"
          }
        },
        "e0555db798454554a5e3258e8e356021": {
          "model_module": "@jupyter-widgets/controls",
          "model_module_version": "1.5.0",
          "model_name": "HTMLModel",
          "state": {
            "_dom_classes": [],
            "_model_module": "@jupyter-widgets/controls",
            "_model_module_version": "1.5.0",
            "_model_name": "HTMLModel",
            "_view_count": null,
            "_view_module": "@jupyter-widgets/controls",
            "_view_module_version": "1.5.0",
            "_view_name": "HTMLView",
            "description": "",
            "description_tooltip": null,
            "layout": "IPY_MODEL_73335c7acbdb472aa4370731bed6233f",
            "placeholder": "​",
            "style": "IPY_MODEL_22d254a3cade4035b06d3b119c41678b",
            "value": "Batches: 100%"
          }
        },
        "e1551b997dfa432f84e421e6e88d4dee": {
          "model_module": "@jupyter-widgets/base",
          "model_module_version": "1.2.0",
          "model_name": "LayoutModel",
          "state": {
            "_model_module": "@jupyter-widgets/base",
            "_model_module_version": "1.2.0",
            "_model_name": "LayoutModel",
            "_view_count": null,
            "_view_module": "@jupyter-widgets/base",
            "_view_module_version": "1.2.0",
            "_view_name": "LayoutView",
            "align_content": null,
            "align_items": null,
            "align_self": null,
            "border": null,
            "bottom": null,
            "display": null,
            "flex": null,
            "flex_flow": null,
            "grid_area": null,
            "grid_auto_columns": null,
            "grid_auto_flow": null,
            "grid_auto_rows": null,
            "grid_column": null,
            "grid_gap": null,
            "grid_row": null,
            "grid_template_areas": null,
            "grid_template_columns": null,
            "grid_template_rows": null,
            "height": null,
            "justify_content": null,
            "justify_items": null,
            "left": null,
            "margin": null,
            "max_height": null,
            "max_width": null,
            "min_height": null,
            "min_width": null,
            "object_fit": null,
            "object_position": null,
            "order": null,
            "overflow": null,
            "overflow_x": null,
            "overflow_y": null,
            "padding": null,
            "right": null,
            "top": null,
            "visibility": null,
            "width": null
          }
        },
        "e2a7905a799145268085709caac47048": {
          "model_module": "@jupyter-widgets/controls",
          "model_module_version": "1.5.0",
          "model_name": "HTMLModel",
          "state": {
            "_dom_classes": [],
            "_model_module": "@jupyter-widgets/controls",
            "_model_module_version": "1.5.0",
            "_model_name": "HTMLModel",
            "_view_count": null,
            "_view_module": "@jupyter-widgets/controls",
            "_view_module_version": "1.5.0",
            "_view_name": "HTMLView",
            "description": "",
            "description_tooltip": null,
            "layout": "IPY_MODEL_ec13a59f8d8648529049133a9e5ad52c",
            "placeholder": "​",
            "style": "IPY_MODEL_b1f16e80fed0455eadad2aaddecb6c44",
            "value": " 64/64 [00:12&lt;00:00, 11.67it/s]"
          }
        },
        "e6586022f13e4e68a2553fbdd93184bd": {
          "model_module": "@jupyter-widgets/controls",
          "model_module_version": "1.5.0",
          "model_name": "ProgressStyleModel",
          "state": {
            "_model_module": "@jupyter-widgets/controls",
            "_model_module_version": "1.5.0",
            "_model_name": "ProgressStyleModel",
            "_view_count": null,
            "_view_module": "@jupyter-widgets/base",
            "_view_module_version": "1.2.0",
            "_view_name": "StyleView",
            "bar_color": null,
            "description_width": ""
          }
        },
        "e6b743b62efc4e2e82683d1c779152b6": {
          "model_module": "@jupyter-widgets/base",
          "model_module_version": "1.2.0",
          "model_name": "LayoutModel",
          "state": {
            "_model_module": "@jupyter-widgets/base",
            "_model_module_version": "1.2.0",
            "_model_name": "LayoutModel",
            "_view_count": null,
            "_view_module": "@jupyter-widgets/base",
            "_view_module_version": "1.2.0",
            "_view_name": "LayoutView",
            "align_content": null,
            "align_items": null,
            "align_self": null,
            "border": null,
            "bottom": null,
            "display": null,
            "flex": null,
            "flex_flow": null,
            "grid_area": null,
            "grid_auto_columns": null,
            "grid_auto_flow": null,
            "grid_auto_rows": null,
            "grid_column": null,
            "grid_gap": null,
            "grid_row": null,
            "grid_template_areas": null,
            "grid_template_columns": null,
            "grid_template_rows": null,
            "height": null,
            "justify_content": null,
            "justify_items": null,
            "left": null,
            "margin": null,
            "max_height": null,
            "max_width": null,
            "min_height": null,
            "min_width": null,
            "object_fit": null,
            "object_position": null,
            "order": null,
            "overflow": null,
            "overflow_x": null,
            "overflow_y": null,
            "padding": null,
            "right": null,
            "top": null,
            "visibility": null,
            "width": null
          }
        },
        "ec13a59f8d8648529049133a9e5ad52c": {
          "model_module": "@jupyter-widgets/base",
          "model_module_version": "1.2.0",
          "model_name": "LayoutModel",
          "state": {
            "_model_module": "@jupyter-widgets/base",
            "_model_module_version": "1.2.0",
            "_model_name": "LayoutModel",
            "_view_count": null,
            "_view_module": "@jupyter-widgets/base",
            "_view_module_version": "1.2.0",
            "_view_name": "LayoutView",
            "align_content": null,
            "align_items": null,
            "align_self": null,
            "border": null,
            "bottom": null,
            "display": null,
            "flex": null,
            "flex_flow": null,
            "grid_area": null,
            "grid_auto_columns": null,
            "grid_auto_flow": null,
            "grid_auto_rows": null,
            "grid_column": null,
            "grid_gap": null,
            "grid_row": null,
            "grid_template_areas": null,
            "grid_template_columns": null,
            "grid_template_rows": null,
            "height": null,
            "justify_content": null,
            "justify_items": null,
            "left": null,
            "margin": null,
            "max_height": null,
            "max_width": null,
            "min_height": null,
            "min_width": null,
            "object_fit": null,
            "object_position": null,
            "order": null,
            "overflow": null,
            "overflow_x": null,
            "overflow_y": null,
            "padding": null,
            "right": null,
            "top": null,
            "visibility": null,
            "width": null
          }
        },
        "ecd94b9ebfd54533b4f5db801405e09c": {
          "model_module": "@jupyter-widgets/controls",
          "model_module_version": "1.5.0",
          "model_name": "FloatProgressModel",
          "state": {
            "_dom_classes": [],
            "_model_module": "@jupyter-widgets/controls",
            "_model_module_version": "1.5.0",
            "_model_name": "FloatProgressModel",
            "_view_count": null,
            "_view_module": "@jupyter-widgets/controls",
            "_view_module_version": "1.5.0",
            "_view_name": "ProgressView",
            "bar_style": "success",
            "description": "",
            "description_tooltip": null,
            "layout": "IPY_MODEL_c5ed580b57c2459fa2fc537a969cb3c6",
            "max": 37,
            "min": 0,
            "orientation": "horizontal",
            "style": "IPY_MODEL_e6586022f13e4e68a2553fbdd93184bd",
            "value": 37
          }
        },
        "eed4dc46ddce441db75dda583eda13db": {
          "model_module": "@jupyter-widgets/controls",
          "model_module_version": "1.5.0",
          "model_name": "HBoxModel",
          "state": {
            "_dom_classes": [],
            "_model_module": "@jupyter-widgets/controls",
            "_model_module_version": "1.5.0",
            "_model_name": "HBoxModel",
            "_view_count": null,
            "_view_module": "@jupyter-widgets/controls",
            "_view_module_version": "1.5.0",
            "_view_name": "HBoxView",
            "box_style": "",
            "children": [
              "IPY_MODEL_a130108c298f475aba5f5e6b3195d506",
              "IPY_MODEL_b4688508c3bb4edb905daaed5ed0f79d",
              "IPY_MODEL_7baac3c58ecb48bcb581de41426f93cb"
            ],
            "layout": "IPY_MODEL_778f65c9811242a48ff3218af8713c80"
          }
        },
        "f10e60eb37ed408f80c7e1dd83ea6822": {
          "model_module": "@jupyter-widgets/controls",
          "model_module_version": "1.5.0",
          "model_name": "DescriptionStyleModel",
          "state": {
            "_model_module": "@jupyter-widgets/controls",
            "_model_module_version": "1.5.0",
            "_model_name": "DescriptionStyleModel",
            "_view_count": null,
            "_view_module": "@jupyter-widgets/base",
            "_view_module_version": "1.2.0",
            "_view_name": "StyleView",
            "description_width": ""
          }
        },
        "f2bade3411e54f1b88653c7f1049a5d5": {
          "model_module": "@jupyter-widgets/controls",
          "model_module_version": "1.5.0",
          "model_name": "DescriptionStyleModel",
          "state": {
            "_model_module": "@jupyter-widgets/controls",
            "_model_module_version": "1.5.0",
            "_model_name": "DescriptionStyleModel",
            "_view_count": null,
            "_view_module": "@jupyter-widgets/base",
            "_view_module_version": "1.2.0",
            "_view_name": "StyleView",
            "description_width": ""
          }
        },
        "f81fa38cdd1a4feda79701c56f0166a7": {
          "model_module": "@jupyter-widgets/base",
          "model_module_version": "1.2.0",
          "model_name": "LayoutModel",
          "state": {
            "_model_module": "@jupyter-widgets/base",
            "_model_module_version": "1.2.0",
            "_model_name": "LayoutModel",
            "_view_count": null,
            "_view_module": "@jupyter-widgets/base",
            "_view_module_version": "1.2.0",
            "_view_name": "LayoutView",
            "align_content": null,
            "align_items": null,
            "align_self": null,
            "border": null,
            "bottom": null,
            "display": null,
            "flex": null,
            "flex_flow": null,
            "grid_area": null,
            "grid_auto_columns": null,
            "grid_auto_flow": null,
            "grid_auto_rows": null,
            "grid_column": null,
            "grid_gap": null,
            "grid_row": null,
            "grid_template_areas": null,
            "grid_template_columns": null,
            "grid_template_rows": null,
            "height": null,
            "justify_content": null,
            "justify_items": null,
            "left": null,
            "margin": null,
            "max_height": null,
            "max_width": null,
            "min_height": null,
            "min_width": null,
            "object_fit": null,
            "object_position": null,
            "order": null,
            "overflow": null,
            "overflow_x": null,
            "overflow_y": null,
            "padding": null,
            "right": null,
            "top": null,
            "visibility": null,
            "width": null
          }
        },
        "f9d825ab00544e568babb1fd8792ba46": {
          "model_module": "@jupyter-widgets/controls",
          "model_module_version": "1.5.0",
          "model_name": "HTMLModel",
          "state": {
            "_dom_classes": [],
            "_model_module": "@jupyter-widgets/controls",
            "_model_module_version": "1.5.0",
            "_model_name": "HTMLModel",
            "_view_count": null,
            "_view_module": "@jupyter-widgets/controls",
            "_view_module_version": "1.5.0",
            "_view_name": "HTMLView",
            "description": "",
            "description_tooltip": null,
            "layout": "IPY_MODEL_1e822ea1141a443aa114fb17155de1df",
            "placeholder": "​",
            "style": "IPY_MODEL_a49e69868046447bab7fcce3183d7d9a",
            "value": "Batches: 100%"
          }
        },
        "f9fc5fb8c60f42e9aaf208703eeb63c6": {
          "model_module": "@jupyter-widgets/controls",
          "model_module_version": "1.5.0",
          "model_name": "DescriptionStyleModel",
          "state": {
            "_model_module": "@jupyter-widgets/controls",
            "_model_module_version": "1.5.0",
            "_model_name": "DescriptionStyleModel",
            "_view_count": null,
            "_view_module": "@jupyter-widgets/base",
            "_view_module_version": "1.2.0",
            "_view_name": "StyleView",
            "description_width": ""
          }
        },
        "fe02fae5250d4c69b402de65ef229d98": {
          "model_module": "@jupyter-widgets/controls",
          "model_module_version": "1.5.0",
          "model_name": "ProgressStyleModel",
          "state": {
            "_model_module": "@jupyter-widgets/controls",
            "_model_module_version": "1.5.0",
            "_model_name": "ProgressStyleModel",
            "_view_count": null,
            "_view_module": "@jupyter-widgets/base",
            "_view_module_version": "1.2.0",
            "_view_name": "StyleView",
            "bar_color": null,
            "description_width": ""
          }
        },
        "d52224ddcab243818454f13694c6955a": {
          "model_module": "@jupyter-widgets/controls",
          "model_name": "HBoxModel",
          "model_module_version": "1.5.0",
          "state": {
            "_dom_classes": [],
            "_model_module": "@jupyter-widgets/controls",
            "_model_module_version": "1.5.0",
            "_model_name": "HBoxModel",
            "_view_count": null,
            "_view_module": "@jupyter-widgets/controls",
            "_view_module_version": "1.5.0",
            "_view_name": "HBoxView",
            "box_style": "",
            "children": [
              "IPY_MODEL_c0c86e2ae9f3417884df7f462811a3f2",
              "IPY_MODEL_0e601adefccf4567ac2d2ffb08184d1f",
              "IPY_MODEL_17377fc5842c409da9d848e229c3dacf"
            ],
            "layout": "IPY_MODEL_d09e5b76804d4ff58f66652ff9ca7b71"
          }
        },
        "c0c86e2ae9f3417884df7f462811a3f2": {
          "model_module": "@jupyter-widgets/controls",
          "model_name": "HTMLModel",
          "model_module_version": "1.5.0",
          "state": {
            "_dom_classes": [],
            "_model_module": "@jupyter-widgets/controls",
            "_model_module_version": "1.5.0",
            "_model_name": "HTMLModel",
            "_view_count": null,
            "_view_module": "@jupyter-widgets/controls",
            "_view_module_version": "1.5.0",
            "_view_name": "HTMLView",
            "description": "",
            "description_tooltip": null,
            "layout": "IPY_MODEL_e62fa027baf04c7e9df772cfa4772c46",
            "placeholder": "​",
            "style": "IPY_MODEL_d547b7194cb24f03bfbd3d2f43df8368",
            "value": "Downloading: 100%"
          }
        },
        "0e601adefccf4567ac2d2ffb08184d1f": {
          "model_module": "@jupyter-widgets/controls",
          "model_name": "FloatProgressModel",
          "model_module_version": "1.5.0",
          "state": {
            "_dom_classes": [],
            "_model_module": "@jupyter-widgets/controls",
            "_model_module_version": "1.5.0",
            "_model_name": "FloatProgressModel",
            "_view_count": null,
            "_view_module": "@jupyter-widgets/controls",
            "_view_module_version": "1.5.0",
            "_view_name": "ProgressView",
            "bar_style": "success",
            "description": "",
            "description_tooltip": null,
            "layout": "IPY_MODEL_aaee0068b7344792beca8a23a7e8da92",
            "max": 482,
            "min": 0,
            "orientation": "horizontal",
            "style": "IPY_MODEL_e016c451633a40df842f55624d6f7175",
            "value": 482
          }
        },
        "17377fc5842c409da9d848e229c3dacf": {
          "model_module": "@jupyter-widgets/controls",
          "model_name": "HTMLModel",
          "model_module_version": "1.5.0",
          "state": {
            "_dom_classes": [],
            "_model_module": "@jupyter-widgets/controls",
            "_model_module_version": "1.5.0",
            "_model_name": "HTMLModel",
            "_view_count": null,
            "_view_module": "@jupyter-widgets/controls",
            "_view_module_version": "1.5.0",
            "_view_name": "HTMLView",
            "description": "",
            "description_tooltip": null,
            "layout": "IPY_MODEL_6d0ac0a1a1ba445da9144ae84036db87",
            "placeholder": "​",
            "style": "IPY_MODEL_f67c92893e204e9eb900bea58038a44c",
            "value": " 482/482 [00:00&lt;00:00, 11.3kB/s]"
          }
        },
        "d09e5b76804d4ff58f66652ff9ca7b71": {
          "model_module": "@jupyter-widgets/base",
          "model_name": "LayoutModel",
          "model_module_version": "1.2.0",
          "state": {
            "_model_module": "@jupyter-widgets/base",
            "_model_module_version": "1.2.0",
            "_model_name": "LayoutModel",
            "_view_count": null,
            "_view_module": "@jupyter-widgets/base",
            "_view_module_version": "1.2.0",
            "_view_name": "LayoutView",
            "align_content": null,
            "align_items": null,
            "align_self": null,
            "border": null,
            "bottom": null,
            "display": null,
            "flex": null,
            "flex_flow": null,
            "grid_area": null,
            "grid_auto_columns": null,
            "grid_auto_flow": null,
            "grid_auto_rows": null,
            "grid_column": null,
            "grid_gap": null,
            "grid_row": null,
            "grid_template_areas": null,
            "grid_template_columns": null,
            "grid_template_rows": null,
            "height": null,
            "justify_content": null,
            "justify_items": null,
            "left": null,
            "margin": null,
            "max_height": null,
            "max_width": null,
            "min_height": null,
            "min_width": null,
            "object_fit": null,
            "object_position": null,
            "order": null,
            "overflow": null,
            "overflow_x": null,
            "overflow_y": null,
            "padding": null,
            "right": null,
            "top": null,
            "visibility": null,
            "width": null
          }
        },
        "e62fa027baf04c7e9df772cfa4772c46": {
          "model_module": "@jupyter-widgets/base",
          "model_name": "LayoutModel",
          "model_module_version": "1.2.0",
          "state": {
            "_model_module": "@jupyter-widgets/base",
            "_model_module_version": "1.2.0",
            "_model_name": "LayoutModel",
            "_view_count": null,
            "_view_module": "@jupyter-widgets/base",
            "_view_module_version": "1.2.0",
            "_view_name": "LayoutView",
            "align_content": null,
            "align_items": null,
            "align_self": null,
            "border": null,
            "bottom": null,
            "display": null,
            "flex": null,
            "flex_flow": null,
            "grid_area": null,
            "grid_auto_columns": null,
            "grid_auto_flow": null,
            "grid_auto_rows": null,
            "grid_column": null,
            "grid_gap": null,
            "grid_row": null,
            "grid_template_areas": null,
            "grid_template_columns": null,
            "grid_template_rows": null,
            "height": null,
            "justify_content": null,
            "justify_items": null,
            "left": null,
            "margin": null,
            "max_height": null,
            "max_width": null,
            "min_height": null,
            "min_width": null,
            "object_fit": null,
            "object_position": null,
            "order": null,
            "overflow": null,
            "overflow_x": null,
            "overflow_y": null,
            "padding": null,
            "right": null,
            "top": null,
            "visibility": null,
            "width": null
          }
        },
        "d547b7194cb24f03bfbd3d2f43df8368": {
          "model_module": "@jupyter-widgets/controls",
          "model_name": "DescriptionStyleModel",
          "model_module_version": "1.5.0",
          "state": {
            "_model_module": "@jupyter-widgets/controls",
            "_model_module_version": "1.5.0",
            "_model_name": "DescriptionStyleModel",
            "_view_count": null,
            "_view_module": "@jupyter-widgets/base",
            "_view_module_version": "1.2.0",
            "_view_name": "StyleView",
            "description_width": ""
          }
        },
        "aaee0068b7344792beca8a23a7e8da92": {
          "model_module": "@jupyter-widgets/base",
          "model_name": "LayoutModel",
          "model_module_version": "1.2.0",
          "state": {
            "_model_module": "@jupyter-widgets/base",
            "_model_module_version": "1.2.0",
            "_model_name": "LayoutModel",
            "_view_count": null,
            "_view_module": "@jupyter-widgets/base",
            "_view_module_version": "1.2.0",
            "_view_name": "LayoutView",
            "align_content": null,
            "align_items": null,
            "align_self": null,
            "border": null,
            "bottom": null,
            "display": null,
            "flex": null,
            "flex_flow": null,
            "grid_area": null,
            "grid_auto_columns": null,
            "grid_auto_flow": null,
            "grid_auto_rows": null,
            "grid_column": null,
            "grid_gap": null,
            "grid_row": null,
            "grid_template_areas": null,
            "grid_template_columns": null,
            "grid_template_rows": null,
            "height": null,
            "justify_content": null,
            "justify_items": null,
            "left": null,
            "margin": null,
            "max_height": null,
            "max_width": null,
            "min_height": null,
            "min_width": null,
            "object_fit": null,
            "object_position": null,
            "order": null,
            "overflow": null,
            "overflow_x": null,
            "overflow_y": null,
            "padding": null,
            "right": null,
            "top": null,
            "visibility": null,
            "width": null
          }
        },
        "e016c451633a40df842f55624d6f7175": {
          "model_module": "@jupyter-widgets/controls",
          "model_name": "ProgressStyleModel",
          "model_module_version": "1.5.0",
          "state": {
            "_model_module": "@jupyter-widgets/controls",
            "_model_module_version": "1.5.0",
            "_model_name": "ProgressStyleModel",
            "_view_count": null,
            "_view_module": "@jupyter-widgets/base",
            "_view_module_version": "1.2.0",
            "_view_name": "StyleView",
            "bar_color": null,
            "description_width": ""
          }
        },
        "6d0ac0a1a1ba445da9144ae84036db87": {
          "model_module": "@jupyter-widgets/base",
          "model_name": "LayoutModel",
          "model_module_version": "1.2.0",
          "state": {
            "_model_module": "@jupyter-widgets/base",
            "_model_module_version": "1.2.0",
            "_model_name": "LayoutModel",
            "_view_count": null,
            "_view_module": "@jupyter-widgets/base",
            "_view_module_version": "1.2.0",
            "_view_name": "LayoutView",
            "align_content": null,
            "align_items": null,
            "align_self": null,
            "border": null,
            "bottom": null,
            "display": null,
            "flex": null,
            "flex_flow": null,
            "grid_area": null,
            "grid_auto_columns": null,
            "grid_auto_flow": null,
            "grid_auto_rows": null,
            "grid_column": null,
            "grid_gap": null,
            "grid_row": null,
            "grid_template_areas": null,
            "grid_template_columns": null,
            "grid_template_rows": null,
            "height": null,
            "justify_content": null,
            "justify_items": null,
            "left": null,
            "margin": null,
            "max_height": null,
            "max_width": null,
            "min_height": null,
            "min_width": null,
            "object_fit": null,
            "object_position": null,
            "order": null,
            "overflow": null,
            "overflow_x": null,
            "overflow_y": null,
            "padding": null,
            "right": null,
            "top": null,
            "visibility": null,
            "width": null
          }
        },
        "f67c92893e204e9eb900bea58038a44c": {
          "model_module": "@jupyter-widgets/controls",
          "model_name": "DescriptionStyleModel",
          "model_module_version": "1.5.0",
          "state": {
            "_model_module": "@jupyter-widgets/controls",
            "_model_module_version": "1.5.0",
            "_model_name": "DescriptionStyleModel",
            "_view_count": null,
            "_view_module": "@jupyter-widgets/base",
            "_view_module_version": "1.2.0",
            "_view_name": "StyleView",
            "description_width": ""
          }
        },
        "bc7bda55c9b9410bbd52af86e7c7cf81": {
          "model_module": "@jupyter-widgets/controls",
          "model_name": "HBoxModel",
          "model_module_version": "1.5.0",
          "state": {
            "_dom_classes": [],
            "_model_module": "@jupyter-widgets/controls",
            "_model_module_version": "1.5.0",
            "_model_name": "HBoxModel",
            "_view_count": null,
            "_view_module": "@jupyter-widgets/controls",
            "_view_module_version": "1.5.0",
            "_view_name": "HBoxView",
            "box_style": "",
            "children": [
              "IPY_MODEL_1b032b055231425b819a4dc56f2d26ca",
              "IPY_MODEL_56e8c3116c12487881cf596c92853443",
              "IPY_MODEL_193d31d3c69a46f9a850305a2bb515cf"
            ],
            "layout": "IPY_MODEL_52e0fc03bb3f475a91c6bba7231e9ed4"
          }
        },
        "1b032b055231425b819a4dc56f2d26ca": {
          "model_module": "@jupyter-widgets/controls",
          "model_name": "HTMLModel",
          "model_module_version": "1.5.0",
          "state": {
            "_dom_classes": [],
            "_model_module": "@jupyter-widgets/controls",
            "_model_module_version": "1.5.0",
            "_model_name": "HTMLModel",
            "_view_count": null,
            "_view_module": "@jupyter-widgets/controls",
            "_view_module_version": "1.5.0",
            "_view_name": "HTMLView",
            "description": "",
            "description_tooltip": null,
            "layout": "IPY_MODEL_27e1a2d7d6404785ae4b8dc2b2c48aa3",
            "placeholder": "​",
            "style": "IPY_MODEL_aa44a1b4fdea40c8a82fc978a162bdfc",
            "value": "Downloading: 100%"
          }
        },
        "56e8c3116c12487881cf596c92853443": {
          "model_module": "@jupyter-widgets/controls",
          "model_name": "FloatProgressModel",
          "model_module_version": "1.5.0",
          "state": {
            "_dom_classes": [],
            "_model_module": "@jupyter-widgets/controls",
            "_model_module_version": "1.5.0",
            "_model_name": "FloatProgressModel",
            "_view_count": null,
            "_view_module": "@jupyter-widgets/controls",
            "_view_module_version": "1.5.0",
            "_view_name": "ProgressView",
            "bar_style": "success",
            "description": "",
            "description_tooltip": null,
            "layout": "IPY_MODEL_1e09b3ca64f04ebaaf0fb87ddc733e8e",
            "max": 1425941629,
            "min": 0,
            "orientation": "horizontal",
            "style": "IPY_MODEL_d78e57587cdf4bef86d8bb30e3651605",
            "value": 1425941629
          }
        },
        "193d31d3c69a46f9a850305a2bb515cf": {
          "model_module": "@jupyter-widgets/controls",
          "model_name": "HTMLModel",
          "model_module_version": "1.5.0",
          "state": {
            "_dom_classes": [],
            "_model_module": "@jupyter-widgets/controls",
            "_model_module_version": "1.5.0",
            "_model_name": "HTMLModel",
            "_view_count": null,
            "_view_module": "@jupyter-widgets/controls",
            "_view_module_version": "1.5.0",
            "_view_name": "HTMLView",
            "description": "",
            "description_tooltip": null,
            "layout": "IPY_MODEL_1926540cea054caa9c4994e20a47ce5b",
            "placeholder": "​",
            "style": "IPY_MODEL_f700fb3a453046d5b5a0984b23c81590",
            "value": " 1.33G/1.33G [00:43&lt;00:00, 37.6MB/s]"
          }
        },
        "52e0fc03bb3f475a91c6bba7231e9ed4": {
          "model_module": "@jupyter-widgets/base",
          "model_name": "LayoutModel",
          "model_module_version": "1.2.0",
          "state": {
            "_model_module": "@jupyter-widgets/base",
            "_model_module_version": "1.2.0",
            "_model_name": "LayoutModel",
            "_view_count": null,
            "_view_module": "@jupyter-widgets/base",
            "_view_module_version": "1.2.0",
            "_view_name": "LayoutView",
            "align_content": null,
            "align_items": null,
            "align_self": null,
            "border": null,
            "bottom": null,
            "display": null,
            "flex": null,
            "flex_flow": null,
            "grid_area": null,
            "grid_auto_columns": null,
            "grid_auto_flow": null,
            "grid_auto_rows": null,
            "grid_column": null,
            "grid_gap": null,
            "grid_row": null,
            "grid_template_areas": null,
            "grid_template_columns": null,
            "grid_template_rows": null,
            "height": null,
            "justify_content": null,
            "justify_items": null,
            "left": null,
            "margin": null,
            "max_height": null,
            "max_width": null,
            "min_height": null,
            "min_width": null,
            "object_fit": null,
            "object_position": null,
            "order": null,
            "overflow": null,
            "overflow_x": null,
            "overflow_y": null,
            "padding": null,
            "right": null,
            "top": null,
            "visibility": null,
            "width": null
          }
        },
        "27e1a2d7d6404785ae4b8dc2b2c48aa3": {
          "model_module": "@jupyter-widgets/base",
          "model_name": "LayoutModel",
          "model_module_version": "1.2.0",
          "state": {
            "_model_module": "@jupyter-widgets/base",
            "_model_module_version": "1.2.0",
            "_model_name": "LayoutModel",
            "_view_count": null,
            "_view_module": "@jupyter-widgets/base",
            "_view_module_version": "1.2.0",
            "_view_name": "LayoutView",
            "align_content": null,
            "align_items": null,
            "align_self": null,
            "border": null,
            "bottom": null,
            "display": null,
            "flex": null,
            "flex_flow": null,
            "grid_area": null,
            "grid_auto_columns": null,
            "grid_auto_flow": null,
            "grid_auto_rows": null,
            "grid_column": null,
            "grid_gap": null,
            "grid_row": null,
            "grid_template_areas": null,
            "grid_template_columns": null,
            "grid_template_rows": null,
            "height": null,
            "justify_content": null,
            "justify_items": null,
            "left": null,
            "margin": null,
            "max_height": null,
            "max_width": null,
            "min_height": null,
            "min_width": null,
            "object_fit": null,
            "object_position": null,
            "order": null,
            "overflow": null,
            "overflow_x": null,
            "overflow_y": null,
            "padding": null,
            "right": null,
            "top": null,
            "visibility": null,
            "width": null
          }
        },
        "aa44a1b4fdea40c8a82fc978a162bdfc": {
          "model_module": "@jupyter-widgets/controls",
          "model_name": "DescriptionStyleModel",
          "model_module_version": "1.5.0",
          "state": {
            "_model_module": "@jupyter-widgets/controls",
            "_model_module_version": "1.5.0",
            "_model_name": "DescriptionStyleModel",
            "_view_count": null,
            "_view_module": "@jupyter-widgets/base",
            "_view_module_version": "1.2.0",
            "_view_name": "StyleView",
            "description_width": ""
          }
        },
        "1e09b3ca64f04ebaaf0fb87ddc733e8e": {
          "model_module": "@jupyter-widgets/base",
          "model_name": "LayoutModel",
          "model_module_version": "1.2.0",
          "state": {
            "_model_module": "@jupyter-widgets/base",
            "_model_module_version": "1.2.0",
            "_model_name": "LayoutModel",
            "_view_count": null,
            "_view_module": "@jupyter-widgets/base",
            "_view_module_version": "1.2.0",
            "_view_name": "LayoutView",
            "align_content": null,
            "align_items": null,
            "align_self": null,
            "border": null,
            "bottom": null,
            "display": null,
            "flex": null,
            "flex_flow": null,
            "grid_area": null,
            "grid_auto_columns": null,
            "grid_auto_flow": null,
            "grid_auto_rows": null,
            "grid_column": null,
            "grid_gap": null,
            "grid_row": null,
            "grid_template_areas": null,
            "grid_template_columns": null,
            "grid_template_rows": null,
            "height": null,
            "justify_content": null,
            "justify_items": null,
            "left": null,
            "margin": null,
            "max_height": null,
            "max_width": null,
            "min_height": null,
            "min_width": null,
            "object_fit": null,
            "object_position": null,
            "order": null,
            "overflow": null,
            "overflow_x": null,
            "overflow_y": null,
            "padding": null,
            "right": null,
            "top": null,
            "visibility": null,
            "width": null
          }
        },
        "d78e57587cdf4bef86d8bb30e3651605": {
          "model_module": "@jupyter-widgets/controls",
          "model_name": "ProgressStyleModel",
          "model_module_version": "1.5.0",
          "state": {
            "_model_module": "@jupyter-widgets/controls",
            "_model_module_version": "1.5.0",
            "_model_name": "ProgressStyleModel",
            "_view_count": null,
            "_view_module": "@jupyter-widgets/base",
            "_view_module_version": "1.2.0",
            "_view_name": "StyleView",
            "bar_color": null,
            "description_width": ""
          }
        },
        "1926540cea054caa9c4994e20a47ce5b": {
          "model_module": "@jupyter-widgets/base",
          "model_name": "LayoutModel",
          "model_module_version": "1.2.0",
          "state": {
            "_model_module": "@jupyter-widgets/base",
            "_model_module_version": "1.2.0",
            "_model_name": "LayoutModel",
            "_view_count": null,
            "_view_module": "@jupyter-widgets/base",
            "_view_module_version": "1.2.0",
            "_view_name": "LayoutView",
            "align_content": null,
            "align_items": null,
            "align_self": null,
            "border": null,
            "bottom": null,
            "display": null,
            "flex": null,
            "flex_flow": null,
            "grid_area": null,
            "grid_auto_columns": null,
            "grid_auto_flow": null,
            "grid_auto_rows": null,
            "grid_column": null,
            "grid_gap": null,
            "grid_row": null,
            "grid_template_areas": null,
            "grid_template_columns": null,
            "grid_template_rows": null,
            "height": null,
            "justify_content": null,
            "justify_items": null,
            "left": null,
            "margin": null,
            "max_height": null,
            "max_width": null,
            "min_height": null,
            "min_width": null,
            "object_fit": null,
            "object_position": null,
            "order": null,
            "overflow": null,
            "overflow_x": null,
            "overflow_y": null,
            "padding": null,
            "right": null,
            "top": null,
            "visibility": null,
            "width": null
          }
        },
        "f700fb3a453046d5b5a0984b23c81590": {
          "model_module": "@jupyter-widgets/controls",
          "model_name": "DescriptionStyleModel",
          "model_module_version": "1.5.0",
          "state": {
            "_model_module": "@jupyter-widgets/controls",
            "_model_module_version": "1.5.0",
            "_model_name": "DescriptionStyleModel",
            "_view_count": null,
            "_view_module": "@jupyter-widgets/base",
            "_view_module_version": "1.2.0",
            "_view_name": "StyleView",
            "description_width": ""
          }
        },
        "2a0147ba8f2040b3ba4a097e37a04d4b": {
          "model_module": "@jupyter-widgets/controls",
          "model_name": "HBoxModel",
          "model_module_version": "1.5.0",
          "state": {
            "_dom_classes": [],
            "_model_module": "@jupyter-widgets/controls",
            "_model_module_version": "1.5.0",
            "_model_name": "HBoxModel",
            "_view_count": null,
            "_view_module": "@jupyter-widgets/controls",
            "_view_module_version": "1.5.0",
            "_view_name": "HBoxView",
            "box_style": "",
            "children": [
              "IPY_MODEL_a62bd77cecf1437ab6e554ccb6c111d4",
              "IPY_MODEL_b6a560a9e1204f18998c2bf39046b2c5",
              "IPY_MODEL_b9e973c8ad864ff384f943e80fe46888"
            ],
            "layout": "IPY_MODEL_091ab0f382f54bf8973aeb9785aed8ca"
          }
        },
        "a62bd77cecf1437ab6e554ccb6c111d4": {
          "model_module": "@jupyter-widgets/controls",
          "model_name": "HTMLModel",
          "model_module_version": "1.5.0",
          "state": {
            "_dom_classes": [],
            "_model_module": "@jupyter-widgets/controls",
            "_model_module_version": "1.5.0",
            "_model_name": "HTMLModel",
            "_view_count": null,
            "_view_module": "@jupyter-widgets/controls",
            "_view_module_version": "1.5.0",
            "_view_name": "HTMLView",
            "description": "",
            "description_tooltip": null,
            "layout": "IPY_MODEL_7a8fcc19a4f34d5092d4fefaa8ec851a",
            "placeholder": "​",
            "style": "IPY_MODEL_da08939dcc3c4096aef435b54184ce6a",
            "value": "Downloading: 100%"
          }
        },
        "b6a560a9e1204f18998c2bf39046b2c5": {
          "model_module": "@jupyter-widgets/controls",
          "model_name": "FloatProgressModel",
          "model_module_version": "1.5.0",
          "state": {
            "_dom_classes": [],
            "_model_module": "@jupyter-widgets/controls",
            "_model_module_version": "1.5.0",
            "_model_name": "FloatProgressModel",
            "_view_count": null,
            "_view_module": "@jupyter-widgets/controls",
            "_view_module_version": "1.5.0",
            "_view_name": "ProgressView",
            "bar_style": "success",
            "description": "",
            "description_tooltip": null,
            "layout": "IPY_MODEL_9c1ee4ce61024e14b1ced7ac9ecc60ec",
            "max": 898823,
            "min": 0,
            "orientation": "horizontal",
            "style": "IPY_MODEL_48d3b089c9454ff1a40b52f89bc01e11",
            "value": 898823
          }
        },
        "b9e973c8ad864ff384f943e80fe46888": {
          "model_module": "@jupyter-widgets/controls",
          "model_name": "HTMLModel",
          "model_module_version": "1.5.0",
          "state": {
            "_dom_classes": [],
            "_model_module": "@jupyter-widgets/controls",
            "_model_module_version": "1.5.0",
            "_model_name": "HTMLModel",
            "_view_count": null,
            "_view_module": "@jupyter-widgets/controls",
            "_view_module_version": "1.5.0",
            "_view_name": "HTMLView",
            "description": "",
            "description_tooltip": null,
            "layout": "IPY_MODEL_618502c8ce6843d29d1ee01849bfef28",
            "placeholder": "​",
            "style": "IPY_MODEL_6267bc6ad63a40adbb90cfa360d370e8",
            "value": " 878k/878k [00:01&lt;00:00, 1.24MB/s]"
          }
        },
        "091ab0f382f54bf8973aeb9785aed8ca": {
          "model_module": "@jupyter-widgets/base",
          "model_name": "LayoutModel",
          "model_module_version": "1.2.0",
          "state": {
            "_model_module": "@jupyter-widgets/base",
            "_model_module_version": "1.2.0",
            "_model_name": "LayoutModel",
            "_view_count": null,
            "_view_module": "@jupyter-widgets/base",
            "_view_module_version": "1.2.0",
            "_view_name": "LayoutView",
            "align_content": null,
            "align_items": null,
            "align_self": null,
            "border": null,
            "bottom": null,
            "display": null,
            "flex": null,
            "flex_flow": null,
            "grid_area": null,
            "grid_auto_columns": null,
            "grid_auto_flow": null,
            "grid_auto_rows": null,
            "grid_column": null,
            "grid_gap": null,
            "grid_row": null,
            "grid_template_areas": null,
            "grid_template_columns": null,
            "grid_template_rows": null,
            "height": null,
            "justify_content": null,
            "justify_items": null,
            "left": null,
            "margin": null,
            "max_height": null,
            "max_width": null,
            "min_height": null,
            "min_width": null,
            "object_fit": null,
            "object_position": null,
            "order": null,
            "overflow": null,
            "overflow_x": null,
            "overflow_y": null,
            "padding": null,
            "right": null,
            "top": null,
            "visibility": null,
            "width": null
          }
        },
        "7a8fcc19a4f34d5092d4fefaa8ec851a": {
          "model_module": "@jupyter-widgets/base",
          "model_name": "LayoutModel",
          "model_module_version": "1.2.0",
          "state": {
            "_model_module": "@jupyter-widgets/base",
            "_model_module_version": "1.2.0",
            "_model_name": "LayoutModel",
            "_view_count": null,
            "_view_module": "@jupyter-widgets/base",
            "_view_module_version": "1.2.0",
            "_view_name": "LayoutView",
            "align_content": null,
            "align_items": null,
            "align_self": null,
            "border": null,
            "bottom": null,
            "display": null,
            "flex": null,
            "flex_flow": null,
            "grid_area": null,
            "grid_auto_columns": null,
            "grid_auto_flow": null,
            "grid_auto_rows": null,
            "grid_column": null,
            "grid_gap": null,
            "grid_row": null,
            "grid_template_areas": null,
            "grid_template_columns": null,
            "grid_template_rows": null,
            "height": null,
            "justify_content": null,
            "justify_items": null,
            "left": null,
            "margin": null,
            "max_height": null,
            "max_width": null,
            "min_height": null,
            "min_width": null,
            "object_fit": null,
            "object_position": null,
            "order": null,
            "overflow": null,
            "overflow_x": null,
            "overflow_y": null,
            "padding": null,
            "right": null,
            "top": null,
            "visibility": null,
            "width": null
          }
        },
        "da08939dcc3c4096aef435b54184ce6a": {
          "model_module": "@jupyter-widgets/controls",
          "model_name": "DescriptionStyleModel",
          "model_module_version": "1.5.0",
          "state": {
            "_model_module": "@jupyter-widgets/controls",
            "_model_module_version": "1.5.0",
            "_model_name": "DescriptionStyleModel",
            "_view_count": null,
            "_view_module": "@jupyter-widgets/base",
            "_view_module_version": "1.2.0",
            "_view_name": "StyleView",
            "description_width": ""
          }
        },
        "9c1ee4ce61024e14b1ced7ac9ecc60ec": {
          "model_module": "@jupyter-widgets/base",
          "model_name": "LayoutModel",
          "model_module_version": "1.2.0",
          "state": {
            "_model_module": "@jupyter-widgets/base",
            "_model_module_version": "1.2.0",
            "_model_name": "LayoutModel",
            "_view_count": null,
            "_view_module": "@jupyter-widgets/base",
            "_view_module_version": "1.2.0",
            "_view_name": "LayoutView",
            "align_content": null,
            "align_items": null,
            "align_self": null,
            "border": null,
            "bottom": null,
            "display": null,
            "flex": null,
            "flex_flow": null,
            "grid_area": null,
            "grid_auto_columns": null,
            "grid_auto_flow": null,
            "grid_auto_rows": null,
            "grid_column": null,
            "grid_gap": null,
            "grid_row": null,
            "grid_template_areas": null,
            "grid_template_columns": null,
            "grid_template_rows": null,
            "height": null,
            "justify_content": null,
            "justify_items": null,
            "left": null,
            "margin": null,
            "max_height": null,
            "max_width": null,
            "min_height": null,
            "min_width": null,
            "object_fit": null,
            "object_position": null,
            "order": null,
            "overflow": null,
            "overflow_x": null,
            "overflow_y": null,
            "padding": null,
            "right": null,
            "top": null,
            "visibility": null,
            "width": null
          }
        },
        "48d3b089c9454ff1a40b52f89bc01e11": {
          "model_module": "@jupyter-widgets/controls",
          "model_name": "ProgressStyleModel",
          "model_module_version": "1.5.0",
          "state": {
            "_model_module": "@jupyter-widgets/controls",
            "_model_module_version": "1.5.0",
            "_model_name": "ProgressStyleModel",
            "_view_count": null,
            "_view_module": "@jupyter-widgets/base",
            "_view_module_version": "1.2.0",
            "_view_name": "StyleView",
            "bar_color": null,
            "description_width": ""
          }
        },
        "618502c8ce6843d29d1ee01849bfef28": {
          "model_module": "@jupyter-widgets/base",
          "model_name": "LayoutModel",
          "model_module_version": "1.2.0",
          "state": {
            "_model_module": "@jupyter-widgets/base",
            "_model_module_version": "1.2.0",
            "_model_name": "LayoutModel",
            "_view_count": null,
            "_view_module": "@jupyter-widgets/base",
            "_view_module_version": "1.2.0",
            "_view_name": "LayoutView",
            "align_content": null,
            "align_items": null,
            "align_self": null,
            "border": null,
            "bottom": null,
            "display": null,
            "flex": null,
            "flex_flow": null,
            "grid_area": null,
            "grid_auto_columns": null,
            "grid_auto_flow": null,
            "grid_auto_rows": null,
            "grid_column": null,
            "grid_gap": null,
            "grid_row": null,
            "grid_template_areas": null,
            "grid_template_columns": null,
            "grid_template_rows": null,
            "height": null,
            "justify_content": null,
            "justify_items": null,
            "left": null,
            "margin": null,
            "max_height": null,
            "max_width": null,
            "min_height": null,
            "min_width": null,
            "object_fit": null,
            "object_position": null,
            "order": null,
            "overflow": null,
            "overflow_x": null,
            "overflow_y": null,
            "padding": null,
            "right": null,
            "top": null,
            "visibility": null,
            "width": null
          }
        },
        "6267bc6ad63a40adbb90cfa360d370e8": {
          "model_module": "@jupyter-widgets/controls",
          "model_name": "DescriptionStyleModel",
          "model_module_version": "1.5.0",
          "state": {
            "_model_module": "@jupyter-widgets/controls",
            "_model_module_version": "1.5.0",
            "_model_name": "DescriptionStyleModel",
            "_view_count": null,
            "_view_module": "@jupyter-widgets/base",
            "_view_module_version": "1.2.0",
            "_view_name": "StyleView",
            "description_width": ""
          }
        },
        "bb41cf80bde541e7a2e4fa1ec89f903d": {
          "model_module": "@jupyter-widgets/controls",
          "model_name": "HBoxModel",
          "model_module_version": "1.5.0",
          "state": {
            "_dom_classes": [],
            "_model_module": "@jupyter-widgets/controls",
            "_model_module_version": "1.5.0",
            "_model_name": "HBoxModel",
            "_view_count": null,
            "_view_module": "@jupyter-widgets/controls",
            "_view_module_version": "1.5.0",
            "_view_name": "HBoxView",
            "box_style": "",
            "children": [
              "IPY_MODEL_bcefe8076c5b40a2b8de4424a9f237f1",
              "IPY_MODEL_b575d8c874a040a68e78e192b68935cc",
              "IPY_MODEL_3e6d3d8eb1e34ee09985687c2b278f15"
            ],
            "layout": "IPY_MODEL_a2d685d906014820853935df0016f05b"
          }
        },
        "bcefe8076c5b40a2b8de4424a9f237f1": {
          "model_module": "@jupyter-widgets/controls",
          "model_name": "HTMLModel",
          "model_module_version": "1.5.0",
          "state": {
            "_dom_classes": [],
            "_model_module": "@jupyter-widgets/controls",
            "_model_module_version": "1.5.0",
            "_model_name": "HTMLModel",
            "_view_count": null,
            "_view_module": "@jupyter-widgets/controls",
            "_view_module_version": "1.5.0",
            "_view_name": "HTMLView",
            "description": "",
            "description_tooltip": null,
            "layout": "IPY_MODEL_5e7b7175a64a46e88c79a55a9a29edb0",
            "placeholder": "​",
            "style": "IPY_MODEL_3d1c7da8654c424e85517e741e726ef8",
            "value": "Downloading: 100%"
          }
        },
        "b575d8c874a040a68e78e192b68935cc": {
          "model_module": "@jupyter-widgets/controls",
          "model_name": "FloatProgressModel",
          "model_module_version": "1.5.0",
          "state": {
            "_dom_classes": [],
            "_model_module": "@jupyter-widgets/controls",
            "_model_module_version": "1.5.0",
            "_model_name": "FloatProgressModel",
            "_view_count": null,
            "_view_module": "@jupyter-widgets/controls",
            "_view_module_version": "1.5.0",
            "_view_name": "ProgressView",
            "bar_style": "success",
            "description": "",
            "description_tooltip": null,
            "layout": "IPY_MODEL_f455c16fd681483093e5f069ac79f013",
            "max": 456318,
            "min": 0,
            "orientation": "horizontal",
            "style": "IPY_MODEL_83c16486c9cb453a9fbd23ea30acdd09",
            "value": 456318
          }
        },
        "3e6d3d8eb1e34ee09985687c2b278f15": {
          "model_module": "@jupyter-widgets/controls",
          "model_name": "HTMLModel",
          "model_module_version": "1.5.0",
          "state": {
            "_dom_classes": [],
            "_model_module": "@jupyter-widgets/controls",
            "_model_module_version": "1.5.0",
            "_model_name": "HTMLModel",
            "_view_count": null,
            "_view_module": "@jupyter-widgets/controls",
            "_view_module_version": "1.5.0",
            "_view_name": "HTMLView",
            "description": "",
            "description_tooltip": null,
            "layout": "IPY_MODEL_9bd43b7545cb44d782a2a69288a61c93",
            "placeholder": "​",
            "style": "IPY_MODEL_41a95ef3c1a34eeb9a1fe9b7f168bb34",
            "value": " 446k/446k [00:00&lt;00:00, 619kB/s]"
          }
        },
        "a2d685d906014820853935df0016f05b": {
          "model_module": "@jupyter-widgets/base",
          "model_name": "LayoutModel",
          "model_module_version": "1.2.0",
          "state": {
            "_model_module": "@jupyter-widgets/base",
            "_model_module_version": "1.2.0",
            "_model_name": "LayoutModel",
            "_view_count": null,
            "_view_module": "@jupyter-widgets/base",
            "_view_module_version": "1.2.0",
            "_view_name": "LayoutView",
            "align_content": null,
            "align_items": null,
            "align_self": null,
            "border": null,
            "bottom": null,
            "display": null,
            "flex": null,
            "flex_flow": null,
            "grid_area": null,
            "grid_auto_columns": null,
            "grid_auto_flow": null,
            "grid_auto_rows": null,
            "grid_column": null,
            "grid_gap": null,
            "grid_row": null,
            "grid_template_areas": null,
            "grid_template_columns": null,
            "grid_template_rows": null,
            "height": null,
            "justify_content": null,
            "justify_items": null,
            "left": null,
            "margin": null,
            "max_height": null,
            "max_width": null,
            "min_height": null,
            "min_width": null,
            "object_fit": null,
            "object_position": null,
            "order": null,
            "overflow": null,
            "overflow_x": null,
            "overflow_y": null,
            "padding": null,
            "right": null,
            "top": null,
            "visibility": null,
            "width": null
          }
        },
        "5e7b7175a64a46e88c79a55a9a29edb0": {
          "model_module": "@jupyter-widgets/base",
          "model_name": "LayoutModel",
          "model_module_version": "1.2.0",
          "state": {
            "_model_module": "@jupyter-widgets/base",
            "_model_module_version": "1.2.0",
            "_model_name": "LayoutModel",
            "_view_count": null,
            "_view_module": "@jupyter-widgets/base",
            "_view_module_version": "1.2.0",
            "_view_name": "LayoutView",
            "align_content": null,
            "align_items": null,
            "align_self": null,
            "border": null,
            "bottom": null,
            "display": null,
            "flex": null,
            "flex_flow": null,
            "grid_area": null,
            "grid_auto_columns": null,
            "grid_auto_flow": null,
            "grid_auto_rows": null,
            "grid_column": null,
            "grid_gap": null,
            "grid_row": null,
            "grid_template_areas": null,
            "grid_template_columns": null,
            "grid_template_rows": null,
            "height": null,
            "justify_content": null,
            "justify_items": null,
            "left": null,
            "margin": null,
            "max_height": null,
            "max_width": null,
            "min_height": null,
            "min_width": null,
            "object_fit": null,
            "object_position": null,
            "order": null,
            "overflow": null,
            "overflow_x": null,
            "overflow_y": null,
            "padding": null,
            "right": null,
            "top": null,
            "visibility": null,
            "width": null
          }
        },
        "3d1c7da8654c424e85517e741e726ef8": {
          "model_module": "@jupyter-widgets/controls",
          "model_name": "DescriptionStyleModel",
          "model_module_version": "1.5.0",
          "state": {
            "_model_module": "@jupyter-widgets/controls",
            "_model_module_version": "1.5.0",
            "_model_name": "DescriptionStyleModel",
            "_view_count": null,
            "_view_module": "@jupyter-widgets/base",
            "_view_module_version": "1.2.0",
            "_view_name": "StyleView",
            "description_width": ""
          }
        },
        "f455c16fd681483093e5f069ac79f013": {
          "model_module": "@jupyter-widgets/base",
          "model_name": "LayoutModel",
          "model_module_version": "1.2.0",
          "state": {
            "_model_module": "@jupyter-widgets/base",
            "_model_module_version": "1.2.0",
            "_model_name": "LayoutModel",
            "_view_count": null,
            "_view_module": "@jupyter-widgets/base",
            "_view_module_version": "1.2.0",
            "_view_name": "LayoutView",
            "align_content": null,
            "align_items": null,
            "align_self": null,
            "border": null,
            "bottom": null,
            "display": null,
            "flex": null,
            "flex_flow": null,
            "grid_area": null,
            "grid_auto_columns": null,
            "grid_auto_flow": null,
            "grid_auto_rows": null,
            "grid_column": null,
            "grid_gap": null,
            "grid_row": null,
            "grid_template_areas": null,
            "grid_template_columns": null,
            "grid_template_rows": null,
            "height": null,
            "justify_content": null,
            "justify_items": null,
            "left": null,
            "margin": null,
            "max_height": null,
            "max_width": null,
            "min_height": null,
            "min_width": null,
            "object_fit": null,
            "object_position": null,
            "order": null,
            "overflow": null,
            "overflow_x": null,
            "overflow_y": null,
            "padding": null,
            "right": null,
            "top": null,
            "visibility": null,
            "width": null
          }
        },
        "83c16486c9cb453a9fbd23ea30acdd09": {
          "model_module": "@jupyter-widgets/controls",
          "model_name": "ProgressStyleModel",
          "model_module_version": "1.5.0",
          "state": {
            "_model_module": "@jupyter-widgets/controls",
            "_model_module_version": "1.5.0",
            "_model_name": "ProgressStyleModel",
            "_view_count": null,
            "_view_module": "@jupyter-widgets/base",
            "_view_module_version": "1.2.0",
            "_view_name": "StyleView",
            "bar_color": null,
            "description_width": ""
          }
        },
        "9bd43b7545cb44d782a2a69288a61c93": {
          "model_module": "@jupyter-widgets/base",
          "model_name": "LayoutModel",
          "model_module_version": "1.2.0",
          "state": {
            "_model_module": "@jupyter-widgets/base",
            "_model_module_version": "1.2.0",
            "_model_name": "LayoutModel",
            "_view_count": null,
            "_view_module": "@jupyter-widgets/base",
            "_view_module_version": "1.2.0",
            "_view_name": "LayoutView",
            "align_content": null,
            "align_items": null,
            "align_self": null,
            "border": null,
            "bottom": null,
            "display": null,
            "flex": null,
            "flex_flow": null,
            "grid_area": null,
            "grid_auto_columns": null,
            "grid_auto_flow": null,
            "grid_auto_rows": null,
            "grid_column": null,
            "grid_gap": null,
            "grid_row": null,
            "grid_template_areas": null,
            "grid_template_columns": null,
            "grid_template_rows": null,
            "height": null,
            "justify_content": null,
            "justify_items": null,
            "left": null,
            "margin": null,
            "max_height": null,
            "max_width": null,
            "min_height": null,
            "min_width": null,
            "object_fit": null,
            "object_position": null,
            "order": null,
            "overflow": null,
            "overflow_x": null,
            "overflow_y": null,
            "padding": null,
            "right": null,
            "top": null,
            "visibility": null,
            "width": null
          }
        },
        "41a95ef3c1a34eeb9a1fe9b7f168bb34": {
          "model_module": "@jupyter-widgets/controls",
          "model_name": "DescriptionStyleModel",
          "model_module_version": "1.5.0",
          "state": {
            "_model_module": "@jupyter-widgets/controls",
            "_model_module_version": "1.5.0",
            "_model_name": "DescriptionStyleModel",
            "_view_count": null,
            "_view_module": "@jupyter-widgets/base",
            "_view_module_version": "1.2.0",
            "_view_name": "StyleView",
            "description_width": ""
          }
        },
        "35ff37bce1754431a9f4f5382ec42916": {
          "model_module": "@jupyter-widgets/controls",
          "model_name": "HBoxModel",
          "model_module_version": "1.5.0",
          "state": {
            "_dom_classes": [],
            "_model_module": "@jupyter-widgets/controls",
            "_model_module_version": "1.5.0",
            "_model_name": "HBoxModel",
            "_view_count": null,
            "_view_module": "@jupyter-widgets/controls",
            "_view_module_version": "1.5.0",
            "_view_name": "HBoxView",
            "box_style": "",
            "children": [
              "IPY_MODEL_ce1ea70261944a1ebe6fee8c829c363e",
              "IPY_MODEL_6e92954f3ba74691a9690d0c00fac2b9",
              "IPY_MODEL_d94a374ac2664ab4aaefa1272777cccf"
            ],
            "layout": "IPY_MODEL_f3bcfde0a03646bcb403d0880a96765f"
          }
        },
        "ce1ea70261944a1ebe6fee8c829c363e": {
          "model_module": "@jupyter-widgets/controls",
          "model_name": "HTMLModel",
          "model_module_version": "1.5.0",
          "state": {
            "_dom_classes": [],
            "_model_module": "@jupyter-widgets/controls",
            "_model_module_version": "1.5.0",
            "_model_name": "HTMLModel",
            "_view_count": null,
            "_view_module": "@jupyter-widgets/controls",
            "_view_module_version": "1.5.0",
            "_view_name": "HTMLView",
            "description": "",
            "description_tooltip": null,
            "layout": "IPY_MODEL_ba0a8830a00d43dba0ca4dacd01d0128",
            "placeholder": "​",
            "style": "IPY_MODEL_93046e7e329a44398a69b40da819bd01",
            "value": "100%"
          }
        },
        "6e92954f3ba74691a9690d0c00fac2b9": {
          "model_module": "@jupyter-widgets/controls",
          "model_name": "FloatProgressModel",
          "model_module_version": "1.5.0",
          "state": {
            "_dom_classes": [],
            "_model_module": "@jupyter-widgets/controls",
            "_model_module_version": "1.5.0",
            "_model_name": "FloatProgressModel",
            "_view_count": null,
            "_view_module": "@jupyter-widgets/controls",
            "_view_module_version": "1.5.0",
            "_view_name": "ProgressView",
            "bar_style": "success",
            "description": "",
            "description_tooltip": null,
            "layout": "IPY_MODEL_338be3568af64d9db19782280f468b74",
            "max": 392336,
            "min": 0,
            "orientation": "horizontal",
            "style": "IPY_MODEL_df74d5e9a16149e59fb3b8ac5c64f326",
            "value": 392336
          }
        },
        "d94a374ac2664ab4aaefa1272777cccf": {
          "model_module": "@jupyter-widgets/controls",
          "model_name": "HTMLModel",
          "model_module_version": "1.5.0",
          "state": {
            "_dom_classes": [],
            "_model_module": "@jupyter-widgets/controls",
            "_model_module_version": "1.5.0",
            "_model_name": "HTMLModel",
            "_view_count": null,
            "_view_module": "@jupyter-widgets/controls",
            "_view_module_version": "1.5.0",
            "_view_name": "HTMLView",
            "description": "",
            "description_tooltip": null,
            "layout": "IPY_MODEL_daf6ec0894f44997aaa9fd2cff43392f",
            "placeholder": "​",
            "style": "IPY_MODEL_cb2fc28da7494ea88f0b15858f52b58b",
            "value": " 392k/392k [00:01&lt;00:00, 243kB/s]"
          }
        },
        "f3bcfde0a03646bcb403d0880a96765f": {
          "model_module": "@jupyter-widgets/base",
          "model_name": "LayoutModel",
          "model_module_version": "1.2.0",
          "state": {
            "_model_module": "@jupyter-widgets/base",
            "_model_module_version": "1.2.0",
            "_model_name": "LayoutModel",
            "_view_count": null,
            "_view_module": "@jupyter-widgets/base",
            "_view_module_version": "1.2.0",
            "_view_name": "LayoutView",
            "align_content": null,
            "align_items": null,
            "align_self": null,
            "border": null,
            "bottom": null,
            "display": null,
            "flex": null,
            "flex_flow": null,
            "grid_area": null,
            "grid_auto_columns": null,
            "grid_auto_flow": null,
            "grid_auto_rows": null,
            "grid_column": null,
            "grid_gap": null,
            "grid_row": null,
            "grid_template_areas": null,
            "grid_template_columns": null,
            "grid_template_rows": null,
            "height": null,
            "justify_content": null,
            "justify_items": null,
            "left": null,
            "margin": null,
            "max_height": null,
            "max_width": null,
            "min_height": null,
            "min_width": null,
            "object_fit": null,
            "object_position": null,
            "order": null,
            "overflow": null,
            "overflow_x": null,
            "overflow_y": null,
            "padding": null,
            "right": null,
            "top": null,
            "visibility": null,
            "width": null
          }
        },
        "ba0a8830a00d43dba0ca4dacd01d0128": {
          "model_module": "@jupyter-widgets/base",
          "model_name": "LayoutModel",
          "model_module_version": "1.2.0",
          "state": {
            "_model_module": "@jupyter-widgets/base",
            "_model_module_version": "1.2.0",
            "_model_name": "LayoutModel",
            "_view_count": null,
            "_view_module": "@jupyter-widgets/base",
            "_view_module_version": "1.2.0",
            "_view_name": "LayoutView",
            "align_content": null,
            "align_items": null,
            "align_self": null,
            "border": null,
            "bottom": null,
            "display": null,
            "flex": null,
            "flex_flow": null,
            "grid_area": null,
            "grid_auto_columns": null,
            "grid_auto_flow": null,
            "grid_auto_rows": null,
            "grid_column": null,
            "grid_gap": null,
            "grid_row": null,
            "grid_template_areas": null,
            "grid_template_columns": null,
            "grid_template_rows": null,
            "height": null,
            "justify_content": null,
            "justify_items": null,
            "left": null,
            "margin": null,
            "max_height": null,
            "max_width": null,
            "min_height": null,
            "min_width": null,
            "object_fit": null,
            "object_position": null,
            "order": null,
            "overflow": null,
            "overflow_x": null,
            "overflow_y": null,
            "padding": null,
            "right": null,
            "top": null,
            "visibility": null,
            "width": null
          }
        },
        "93046e7e329a44398a69b40da819bd01": {
          "model_module": "@jupyter-widgets/controls",
          "model_name": "DescriptionStyleModel",
          "model_module_version": "1.5.0",
          "state": {
            "_model_module": "@jupyter-widgets/controls",
            "_model_module_version": "1.5.0",
            "_model_name": "DescriptionStyleModel",
            "_view_count": null,
            "_view_module": "@jupyter-widgets/base",
            "_view_module_version": "1.2.0",
            "_view_name": "StyleView",
            "description_width": ""
          }
        },
        "338be3568af64d9db19782280f468b74": {
          "model_module": "@jupyter-widgets/base",
          "model_name": "LayoutModel",
          "model_module_version": "1.2.0",
          "state": {
            "_model_module": "@jupyter-widgets/base",
            "_model_module_version": "1.2.0",
            "_model_name": "LayoutModel",
            "_view_count": null,
            "_view_module": "@jupyter-widgets/base",
            "_view_module_version": "1.2.0",
            "_view_name": "LayoutView",
            "align_content": null,
            "align_items": null,
            "align_self": null,
            "border": null,
            "bottom": null,
            "display": null,
            "flex": null,
            "flex_flow": null,
            "grid_area": null,
            "grid_auto_columns": null,
            "grid_auto_flow": null,
            "grid_auto_rows": null,
            "grid_column": null,
            "grid_gap": null,
            "grid_row": null,
            "grid_template_areas": null,
            "grid_template_columns": null,
            "grid_template_rows": null,
            "height": null,
            "justify_content": null,
            "justify_items": null,
            "left": null,
            "margin": null,
            "max_height": null,
            "max_width": null,
            "min_height": null,
            "min_width": null,
            "object_fit": null,
            "object_position": null,
            "order": null,
            "overflow": null,
            "overflow_x": null,
            "overflow_y": null,
            "padding": null,
            "right": null,
            "top": null,
            "visibility": null,
            "width": null
          }
        },
        "df74d5e9a16149e59fb3b8ac5c64f326": {
          "model_module": "@jupyter-widgets/controls",
          "model_name": "ProgressStyleModel",
          "model_module_version": "1.5.0",
          "state": {
            "_model_module": "@jupyter-widgets/controls",
            "_model_module_version": "1.5.0",
            "_model_name": "ProgressStyleModel",
            "_view_count": null,
            "_view_module": "@jupyter-widgets/base",
            "_view_module_version": "1.2.0",
            "_view_name": "StyleView",
            "bar_color": null,
            "description_width": ""
          }
        },
        "daf6ec0894f44997aaa9fd2cff43392f": {
          "model_module": "@jupyter-widgets/base",
          "model_name": "LayoutModel",
          "model_module_version": "1.2.0",
          "state": {
            "_model_module": "@jupyter-widgets/base",
            "_model_module_version": "1.2.0",
            "_model_name": "LayoutModel",
            "_view_count": null,
            "_view_module": "@jupyter-widgets/base",
            "_view_module_version": "1.2.0",
            "_view_name": "LayoutView",
            "align_content": null,
            "align_items": null,
            "align_self": null,
            "border": null,
            "bottom": null,
            "display": null,
            "flex": null,
            "flex_flow": null,
            "grid_area": null,
            "grid_auto_columns": null,
            "grid_auto_flow": null,
            "grid_auto_rows": null,
            "grid_column": null,
            "grid_gap": null,
            "grid_row": null,
            "grid_template_areas": null,
            "grid_template_columns": null,
            "grid_template_rows": null,
            "height": null,
            "justify_content": null,
            "justify_items": null,
            "left": null,
            "margin": null,
            "max_height": null,
            "max_width": null,
            "min_height": null,
            "min_width": null,
            "object_fit": null,
            "object_position": null,
            "order": null,
            "overflow": null,
            "overflow_x": null,
            "overflow_y": null,
            "padding": null,
            "right": null,
            "top": null,
            "visibility": null,
            "width": null
          }
        },
        "cb2fc28da7494ea88f0b15858f52b58b": {
          "model_module": "@jupyter-widgets/controls",
          "model_name": "DescriptionStyleModel",
          "model_module_version": "1.5.0",
          "state": {
            "_model_module": "@jupyter-widgets/controls",
            "_model_module_version": "1.5.0",
            "_model_name": "DescriptionStyleModel",
            "_view_count": null,
            "_view_module": "@jupyter-widgets/base",
            "_view_module_version": "1.2.0",
            "_view_name": "StyleView",
            "description_width": ""
          }
        },
        "f70e07a2e8f749618f133c727b44aeaf": {
          "model_module": "@jupyter-widgets/controls",
          "model_name": "HBoxModel",
          "model_module_version": "1.5.0",
          "state": {
            "_dom_classes": [],
            "_model_module": "@jupyter-widgets/controls",
            "_model_module_version": "1.5.0",
            "_model_name": "HBoxModel",
            "_view_count": null,
            "_view_module": "@jupyter-widgets/controls",
            "_view_module_version": "1.5.0",
            "_view_name": "HBoxView",
            "box_style": "",
            "children": [
              "IPY_MODEL_cb006230e6b84149b0b4d48dc8c26cac",
              "IPY_MODEL_692af9834c1e45caae671f1352309b56",
              "IPY_MODEL_8a493ab2bc3241599b4298a2cf7d38ea"
            ],
            "layout": "IPY_MODEL_0647b8f4034241b18c35fc0ab0d0c18a"
          }
        },
        "cb006230e6b84149b0b4d48dc8c26cac": {
          "model_module": "@jupyter-widgets/controls",
          "model_name": "HTMLModel",
          "model_module_version": "1.5.0",
          "state": {
            "_dom_classes": [],
            "_model_module": "@jupyter-widgets/controls",
            "_model_module_version": "1.5.0",
            "_model_name": "HTMLModel",
            "_view_count": null,
            "_view_module": "@jupyter-widgets/controls",
            "_view_module_version": "1.5.0",
            "_view_name": "HTMLView",
            "description": "",
            "description_tooltip": null,
            "layout": "IPY_MODEL_00aa2764af1d4465a4974ef2232c49ed",
            "placeholder": "​",
            "style": "IPY_MODEL_2968cc425c064ae28332e0ecc6760cc1",
            "value": "100%"
          }
        },
        "692af9834c1e45caae671f1352309b56": {
          "model_module": "@jupyter-widgets/controls",
          "model_name": "FloatProgressModel",
          "model_module_version": "1.5.0",
          "state": {
            "_dom_classes": [],
            "_model_module": "@jupyter-widgets/controls",
            "_model_module_version": "1.5.0",
            "_model_name": "FloatProgressModel",
            "_view_count": null,
            "_view_module": "@jupyter-widgets/controls",
            "_view_module_version": "1.5.0",
            "_view_name": "ProgressView",
            "bar_style": "success",
            "description": "",
            "description_tooltip": null,
            "layout": "IPY_MODEL_e95adb09008c43e9bcf873d46d98eb3b",
            "max": 392336,
            "min": 0,
            "orientation": "horizontal",
            "style": "IPY_MODEL_a0dad766af204713978e48641b497272",
            "value": 392336
          }
        },
        "8a493ab2bc3241599b4298a2cf7d38ea": {
          "model_module": "@jupyter-widgets/controls",
          "model_name": "HTMLModel",
          "model_module_version": "1.5.0",
          "state": {
            "_dom_classes": [],
            "_model_module": "@jupyter-widgets/controls",
            "_model_module_version": "1.5.0",
            "_model_name": "HTMLModel",
            "_view_count": null,
            "_view_module": "@jupyter-widgets/controls",
            "_view_module_version": "1.5.0",
            "_view_name": "HTMLView",
            "description": "",
            "description_tooltip": null,
            "layout": "IPY_MODEL_a2eaa063b08c46d49229b46f2fe4aa9e",
            "placeholder": "​",
            "style": "IPY_MODEL_cff0d90d03594ebaa4e9ab2bdbc423eb",
            "value": " 392k/392k [00:02&lt;00:00, 230kB/s]"
          }
        },
        "0647b8f4034241b18c35fc0ab0d0c18a": {
          "model_module": "@jupyter-widgets/base",
          "model_name": "LayoutModel",
          "model_module_version": "1.2.0",
          "state": {
            "_model_module": "@jupyter-widgets/base",
            "_model_module_version": "1.2.0",
            "_model_name": "LayoutModel",
            "_view_count": null,
            "_view_module": "@jupyter-widgets/base",
            "_view_module_version": "1.2.0",
            "_view_name": "LayoutView",
            "align_content": null,
            "align_items": null,
            "align_self": null,
            "border": null,
            "bottom": null,
            "display": null,
            "flex": null,
            "flex_flow": null,
            "grid_area": null,
            "grid_auto_columns": null,
            "grid_auto_flow": null,
            "grid_auto_rows": null,
            "grid_column": null,
            "grid_gap": null,
            "grid_row": null,
            "grid_template_areas": null,
            "grid_template_columns": null,
            "grid_template_rows": null,
            "height": null,
            "justify_content": null,
            "justify_items": null,
            "left": null,
            "margin": null,
            "max_height": null,
            "max_width": null,
            "min_height": null,
            "min_width": null,
            "object_fit": null,
            "object_position": null,
            "order": null,
            "overflow": null,
            "overflow_x": null,
            "overflow_y": null,
            "padding": null,
            "right": null,
            "top": null,
            "visibility": null,
            "width": null
          }
        },
        "00aa2764af1d4465a4974ef2232c49ed": {
          "model_module": "@jupyter-widgets/base",
          "model_name": "LayoutModel",
          "model_module_version": "1.2.0",
          "state": {
            "_model_module": "@jupyter-widgets/base",
            "_model_module_version": "1.2.0",
            "_model_name": "LayoutModel",
            "_view_count": null,
            "_view_module": "@jupyter-widgets/base",
            "_view_module_version": "1.2.0",
            "_view_name": "LayoutView",
            "align_content": null,
            "align_items": null,
            "align_self": null,
            "border": null,
            "bottom": null,
            "display": null,
            "flex": null,
            "flex_flow": null,
            "grid_area": null,
            "grid_auto_columns": null,
            "grid_auto_flow": null,
            "grid_auto_rows": null,
            "grid_column": null,
            "grid_gap": null,
            "grid_row": null,
            "grid_template_areas": null,
            "grid_template_columns": null,
            "grid_template_rows": null,
            "height": null,
            "justify_content": null,
            "justify_items": null,
            "left": null,
            "margin": null,
            "max_height": null,
            "max_width": null,
            "min_height": null,
            "min_width": null,
            "object_fit": null,
            "object_position": null,
            "order": null,
            "overflow": null,
            "overflow_x": null,
            "overflow_y": null,
            "padding": null,
            "right": null,
            "top": null,
            "visibility": null,
            "width": null
          }
        },
        "2968cc425c064ae28332e0ecc6760cc1": {
          "model_module": "@jupyter-widgets/controls",
          "model_name": "DescriptionStyleModel",
          "model_module_version": "1.5.0",
          "state": {
            "_model_module": "@jupyter-widgets/controls",
            "_model_module_version": "1.5.0",
            "_model_name": "DescriptionStyleModel",
            "_view_count": null,
            "_view_module": "@jupyter-widgets/base",
            "_view_module_version": "1.2.0",
            "_view_name": "StyleView",
            "description_width": ""
          }
        },
        "e95adb09008c43e9bcf873d46d98eb3b": {
          "model_module": "@jupyter-widgets/base",
          "model_name": "LayoutModel",
          "model_module_version": "1.2.0",
          "state": {
            "_model_module": "@jupyter-widgets/base",
            "_model_module_version": "1.2.0",
            "_model_name": "LayoutModel",
            "_view_count": null,
            "_view_module": "@jupyter-widgets/base",
            "_view_module_version": "1.2.0",
            "_view_name": "LayoutView",
            "align_content": null,
            "align_items": null,
            "align_self": null,
            "border": null,
            "bottom": null,
            "display": null,
            "flex": null,
            "flex_flow": null,
            "grid_area": null,
            "grid_auto_columns": null,
            "grid_auto_flow": null,
            "grid_auto_rows": null,
            "grid_column": null,
            "grid_gap": null,
            "grid_row": null,
            "grid_template_areas": null,
            "grid_template_columns": null,
            "grid_template_rows": null,
            "height": null,
            "justify_content": null,
            "justify_items": null,
            "left": null,
            "margin": null,
            "max_height": null,
            "max_width": null,
            "min_height": null,
            "min_width": null,
            "object_fit": null,
            "object_position": null,
            "order": null,
            "overflow": null,
            "overflow_x": null,
            "overflow_y": null,
            "padding": null,
            "right": null,
            "top": null,
            "visibility": null,
            "width": null
          }
        },
        "a0dad766af204713978e48641b497272": {
          "model_module": "@jupyter-widgets/controls",
          "model_name": "ProgressStyleModel",
          "model_module_version": "1.5.0",
          "state": {
            "_model_module": "@jupyter-widgets/controls",
            "_model_module_version": "1.5.0",
            "_model_name": "ProgressStyleModel",
            "_view_count": null,
            "_view_module": "@jupyter-widgets/base",
            "_view_module_version": "1.2.0",
            "_view_name": "StyleView",
            "bar_color": null,
            "description_width": ""
          }
        },
        "a2eaa063b08c46d49229b46f2fe4aa9e": {
          "model_module": "@jupyter-widgets/base",
          "model_name": "LayoutModel",
          "model_module_version": "1.2.0",
          "state": {
            "_model_module": "@jupyter-widgets/base",
            "_model_module_version": "1.2.0",
            "_model_name": "LayoutModel",
            "_view_count": null,
            "_view_module": "@jupyter-widgets/base",
            "_view_module_version": "1.2.0",
            "_view_name": "LayoutView",
            "align_content": null,
            "align_items": null,
            "align_self": null,
            "border": null,
            "bottom": null,
            "display": null,
            "flex": null,
            "flex_flow": null,
            "grid_area": null,
            "grid_auto_columns": null,
            "grid_auto_flow": null,
            "grid_auto_rows": null,
            "grid_column": null,
            "grid_gap": null,
            "grid_row": null,
            "grid_template_areas": null,
            "grid_template_columns": null,
            "grid_template_rows": null,
            "height": null,
            "justify_content": null,
            "justify_items": null,
            "left": null,
            "margin": null,
            "max_height": null,
            "max_width": null,
            "min_height": null,
            "min_width": null,
            "object_fit": null,
            "object_position": null,
            "order": null,
            "overflow": null,
            "overflow_x": null,
            "overflow_y": null,
            "padding": null,
            "right": null,
            "top": null,
            "visibility": null,
            "width": null
          }
        },
        "cff0d90d03594ebaa4e9ab2bdbc423eb": {
          "model_module": "@jupyter-widgets/controls",
          "model_name": "DescriptionStyleModel",
          "model_module_version": "1.5.0",
          "state": {
            "_model_module": "@jupyter-widgets/controls",
            "_model_module_version": "1.5.0",
            "_model_name": "DescriptionStyleModel",
            "_view_count": null,
            "_view_module": "@jupyter-widgets/base",
            "_view_module_version": "1.2.0",
            "_view_name": "StyleView",
            "description_width": ""
          }
        },
        "1fc756966cc8431195b4f85164e1faee": {
          "model_module": "@jupyter-widgets/controls",
          "model_name": "HBoxModel",
          "model_module_version": "1.5.0",
          "state": {
            "_dom_classes": [],
            "_model_module": "@jupyter-widgets/controls",
            "_model_module_version": "1.5.0",
            "_model_name": "HBoxModel",
            "_view_count": null,
            "_view_module": "@jupyter-widgets/controls",
            "_view_module_version": "1.5.0",
            "_view_name": "HBoxView",
            "box_style": "",
            "children": [
              "IPY_MODEL_b9917b043f5741da8fdcdff20bf22685",
              "IPY_MODEL_9403475659d74180ad2a2a407b8c9d25",
              "IPY_MODEL_e476ff6ce8804d87b1faeec3c365d935"
            ],
            "layout": "IPY_MODEL_d9f8ef6710414711b004e1f9cb22cf45"
          }
        },
        "b9917b043f5741da8fdcdff20bf22685": {
          "model_module": "@jupyter-widgets/controls",
          "model_name": "HTMLModel",
          "model_module_version": "1.5.0",
          "state": {
            "_dom_classes": [],
            "_model_module": "@jupyter-widgets/controls",
            "_model_module_version": "1.5.0",
            "_model_name": "HTMLModel",
            "_view_count": null,
            "_view_module": "@jupyter-widgets/controls",
            "_view_module_version": "1.5.0",
            "_view_name": "HTMLView",
            "description": "",
            "description_tooltip": null,
            "layout": "IPY_MODEL_69c871d7676c4854bc477058c0b777de",
            "placeholder": "​",
            "style": "IPY_MODEL_2171316a7403416bb6e8884b22fee3c6",
            "value": "Epoch:   0%"
          }
        },
        "9403475659d74180ad2a2a407b8c9d25": {
          "model_module": "@jupyter-widgets/controls",
          "model_name": "FloatProgressModel",
          "model_module_version": "1.5.0",
          "state": {
            "_dom_classes": [],
            "_model_module": "@jupyter-widgets/controls",
            "_model_module_version": "1.5.0",
            "_model_name": "FloatProgressModel",
            "_view_count": null,
            "_view_module": "@jupyter-widgets/controls",
            "_view_module_version": "1.5.0",
            "_view_name": "ProgressView",
            "bar_style": "",
            "description": "",
            "description_tooltip": null,
            "layout": "IPY_MODEL_d39deb7b742a47759db3d89b3f6af4fa",
            "max": 4,
            "min": 0,
            "orientation": "horizontal",
            "style": "IPY_MODEL_c09d8f7da49c43edb5548383c5c4ca7a",
            "value": 0
          }
        },
        "e476ff6ce8804d87b1faeec3c365d935": {
          "model_module": "@jupyter-widgets/controls",
          "model_name": "HTMLModel",
          "model_module_version": "1.5.0",
          "state": {
            "_dom_classes": [],
            "_model_module": "@jupyter-widgets/controls",
            "_model_module_version": "1.5.0",
            "_model_name": "HTMLModel",
            "_view_count": null,
            "_view_module": "@jupyter-widgets/controls",
            "_view_module_version": "1.5.0",
            "_view_name": "HTMLView",
            "description": "",
            "description_tooltip": null,
            "layout": "IPY_MODEL_bce643a6889e44bd89a3039e4ed045b2",
            "placeholder": "​",
            "style": "IPY_MODEL_15adef87d6fe4f2a932c88b7bdd113f5",
            "value": " 0/4 [00:00&lt;?, ?it/s]"
          }
        },
        "d9f8ef6710414711b004e1f9cb22cf45": {
          "model_module": "@jupyter-widgets/base",
          "model_name": "LayoutModel",
          "model_module_version": "1.2.0",
          "state": {
            "_model_module": "@jupyter-widgets/base",
            "_model_module_version": "1.2.0",
            "_model_name": "LayoutModel",
            "_view_count": null,
            "_view_module": "@jupyter-widgets/base",
            "_view_module_version": "1.2.0",
            "_view_name": "LayoutView",
            "align_content": null,
            "align_items": null,
            "align_self": null,
            "border": null,
            "bottom": null,
            "display": null,
            "flex": null,
            "flex_flow": null,
            "grid_area": null,
            "grid_auto_columns": null,
            "grid_auto_flow": null,
            "grid_auto_rows": null,
            "grid_column": null,
            "grid_gap": null,
            "grid_row": null,
            "grid_template_areas": null,
            "grid_template_columns": null,
            "grid_template_rows": null,
            "height": null,
            "justify_content": null,
            "justify_items": null,
            "left": null,
            "margin": null,
            "max_height": null,
            "max_width": null,
            "min_height": null,
            "min_width": null,
            "object_fit": null,
            "object_position": null,
            "order": null,
            "overflow": null,
            "overflow_x": null,
            "overflow_y": null,
            "padding": null,
            "right": null,
            "top": null,
            "visibility": null,
            "width": null
          }
        },
        "69c871d7676c4854bc477058c0b777de": {
          "model_module": "@jupyter-widgets/base",
          "model_name": "LayoutModel",
          "model_module_version": "1.2.0",
          "state": {
            "_model_module": "@jupyter-widgets/base",
            "_model_module_version": "1.2.0",
            "_model_name": "LayoutModel",
            "_view_count": null,
            "_view_module": "@jupyter-widgets/base",
            "_view_module_version": "1.2.0",
            "_view_name": "LayoutView",
            "align_content": null,
            "align_items": null,
            "align_self": null,
            "border": null,
            "bottom": null,
            "display": null,
            "flex": null,
            "flex_flow": null,
            "grid_area": null,
            "grid_auto_columns": null,
            "grid_auto_flow": null,
            "grid_auto_rows": null,
            "grid_column": null,
            "grid_gap": null,
            "grid_row": null,
            "grid_template_areas": null,
            "grid_template_columns": null,
            "grid_template_rows": null,
            "height": null,
            "justify_content": null,
            "justify_items": null,
            "left": null,
            "margin": null,
            "max_height": null,
            "max_width": null,
            "min_height": null,
            "min_width": null,
            "object_fit": null,
            "object_position": null,
            "order": null,
            "overflow": null,
            "overflow_x": null,
            "overflow_y": null,
            "padding": null,
            "right": null,
            "top": null,
            "visibility": null,
            "width": null
          }
        },
        "2171316a7403416bb6e8884b22fee3c6": {
          "model_module": "@jupyter-widgets/controls",
          "model_name": "DescriptionStyleModel",
          "model_module_version": "1.5.0",
          "state": {
            "_model_module": "@jupyter-widgets/controls",
            "_model_module_version": "1.5.0",
            "_model_name": "DescriptionStyleModel",
            "_view_count": null,
            "_view_module": "@jupyter-widgets/base",
            "_view_module_version": "1.2.0",
            "_view_name": "StyleView",
            "description_width": ""
          }
        },
        "d39deb7b742a47759db3d89b3f6af4fa": {
          "model_module": "@jupyter-widgets/base",
          "model_name": "LayoutModel",
          "model_module_version": "1.2.0",
          "state": {
            "_model_module": "@jupyter-widgets/base",
            "_model_module_version": "1.2.0",
            "_model_name": "LayoutModel",
            "_view_count": null,
            "_view_module": "@jupyter-widgets/base",
            "_view_module_version": "1.2.0",
            "_view_name": "LayoutView",
            "align_content": null,
            "align_items": null,
            "align_self": null,
            "border": null,
            "bottom": null,
            "display": null,
            "flex": null,
            "flex_flow": null,
            "grid_area": null,
            "grid_auto_columns": null,
            "grid_auto_flow": null,
            "grid_auto_rows": null,
            "grid_column": null,
            "grid_gap": null,
            "grid_row": null,
            "grid_template_areas": null,
            "grid_template_columns": null,
            "grid_template_rows": null,
            "height": null,
            "justify_content": null,
            "justify_items": null,
            "left": null,
            "margin": null,
            "max_height": null,
            "max_width": null,
            "min_height": null,
            "min_width": null,
            "object_fit": null,
            "object_position": null,
            "order": null,
            "overflow": null,
            "overflow_x": null,
            "overflow_y": null,
            "padding": null,
            "right": null,
            "top": null,
            "visibility": null,
            "width": null
          }
        },
        "c09d8f7da49c43edb5548383c5c4ca7a": {
          "model_module": "@jupyter-widgets/controls",
          "model_name": "ProgressStyleModel",
          "model_module_version": "1.5.0",
          "state": {
            "_model_module": "@jupyter-widgets/controls",
            "_model_module_version": "1.5.0",
            "_model_name": "ProgressStyleModel",
            "_view_count": null,
            "_view_module": "@jupyter-widgets/base",
            "_view_module_version": "1.2.0",
            "_view_name": "StyleView",
            "bar_color": null,
            "description_width": ""
          }
        },
        "bce643a6889e44bd89a3039e4ed045b2": {
          "model_module": "@jupyter-widgets/base",
          "model_name": "LayoutModel",
          "model_module_version": "1.2.0",
          "state": {
            "_model_module": "@jupyter-widgets/base",
            "_model_module_version": "1.2.0",
            "_model_name": "LayoutModel",
            "_view_count": null,
            "_view_module": "@jupyter-widgets/base",
            "_view_module_version": "1.2.0",
            "_view_name": "LayoutView",
            "align_content": null,
            "align_items": null,
            "align_self": null,
            "border": null,
            "bottom": null,
            "display": null,
            "flex": null,
            "flex_flow": null,
            "grid_area": null,
            "grid_auto_columns": null,
            "grid_auto_flow": null,
            "grid_auto_rows": null,
            "grid_column": null,
            "grid_gap": null,
            "grid_row": null,
            "grid_template_areas": null,
            "grid_template_columns": null,
            "grid_template_rows": null,
            "height": null,
            "justify_content": null,
            "justify_items": null,
            "left": null,
            "margin": null,
            "max_height": null,
            "max_width": null,
            "min_height": null,
            "min_width": null,
            "object_fit": null,
            "object_position": null,
            "order": null,
            "overflow": null,
            "overflow_x": null,
            "overflow_y": null,
            "padding": null,
            "right": null,
            "top": null,
            "visibility": null,
            "width": null
          }
        },
        "15adef87d6fe4f2a932c88b7bdd113f5": {
          "model_module": "@jupyter-widgets/controls",
          "model_name": "DescriptionStyleModel",
          "model_module_version": "1.5.0",
          "state": {
            "_model_module": "@jupyter-widgets/controls",
            "_model_module_version": "1.5.0",
            "_model_name": "DescriptionStyleModel",
            "_view_count": null,
            "_view_module": "@jupyter-widgets/base",
            "_view_module_version": "1.2.0",
            "_view_name": "StyleView",
            "description_width": ""
          }
        },
        "ae96e5abd00e421899e358e6181cfa3e": {
          "model_module": "@jupyter-widgets/controls",
          "model_name": "HBoxModel",
          "model_module_version": "1.5.0",
          "state": {
            "_dom_classes": [],
            "_model_module": "@jupyter-widgets/controls",
            "_model_module_version": "1.5.0",
            "_model_name": "HBoxModel",
            "_view_count": null,
            "_view_module": "@jupyter-widgets/controls",
            "_view_module_version": "1.5.0",
            "_view_name": "HBoxView",
            "box_style": "",
            "children": [
              "IPY_MODEL_08e15a1ce2e14fa3bb96d81d84cef95a",
              "IPY_MODEL_f625a72342d84b1597f815a16c4bcee5",
              "IPY_MODEL_3862ba431fd14409939dad39605c4026"
            ],
            "layout": "IPY_MODEL_f0998a952369489e8bbefeb57004b78c"
          }
        },
        "08e15a1ce2e14fa3bb96d81d84cef95a": {
          "model_module": "@jupyter-widgets/controls",
          "model_name": "HTMLModel",
          "model_module_version": "1.5.0",
          "state": {
            "_dom_classes": [],
            "_model_module": "@jupyter-widgets/controls",
            "_model_module_version": "1.5.0",
            "_model_name": "HTMLModel",
            "_view_count": null,
            "_view_module": "@jupyter-widgets/controls",
            "_view_module_version": "1.5.0",
            "_view_name": "HTMLView",
            "description": "",
            "description_tooltip": null,
            "layout": "IPY_MODEL_eb7310fd45c34d0baa56935cf7df6a83",
            "placeholder": "​",
            "style": "IPY_MODEL_99a8f4e081974498877264ea0972454d",
            "value": "Iteration:  44%"
          }
        },
        "f625a72342d84b1597f815a16c4bcee5": {
          "model_module": "@jupyter-widgets/controls",
          "model_name": "FloatProgressModel",
          "model_module_version": "1.5.0",
          "state": {
            "_dom_classes": [],
            "_model_module": "@jupyter-widgets/controls",
            "_model_module_version": "1.5.0",
            "_model_name": "FloatProgressModel",
            "_view_count": null,
            "_view_module": "@jupyter-widgets/controls",
            "_view_module_version": "1.5.0",
            "_view_name": "ProgressView",
            "bar_style": "",
            "description": "",
            "description_tooltip": null,
            "layout": "IPY_MODEL_6ce1d09e2f3f4745b271d75264dc0f3d",
            "max": 1438,
            "min": 0,
            "orientation": "horizontal",
            "style": "IPY_MODEL_e2fa1fc4c5974d078a2a224ff117883e",
            "value": 633
          }
        },
        "3862ba431fd14409939dad39605c4026": {
          "model_module": "@jupyter-widgets/controls",
          "model_name": "HTMLModel",
          "model_module_version": "1.5.0",
          "state": {
            "_dom_classes": [],
            "_model_module": "@jupyter-widgets/controls",
            "_model_module_version": "1.5.0",
            "_model_name": "HTMLModel",
            "_view_count": null,
            "_view_module": "@jupyter-widgets/controls",
            "_view_module_version": "1.5.0",
            "_view_name": "HTMLView",
            "description": "",
            "description_tooltip": null,
            "layout": "IPY_MODEL_33fe15b49a5c4328b3929f2a44aa2888",
            "placeholder": "​",
            "style": "IPY_MODEL_9a5407473fc9473aaf878d7e8d507731",
            "value": " 633/1438 [06:53&lt;08:57,  1.50it/s]"
          }
        },
        "f0998a952369489e8bbefeb57004b78c": {
          "model_module": "@jupyter-widgets/base",
          "model_name": "LayoutModel",
          "model_module_version": "1.2.0",
          "state": {
            "_model_module": "@jupyter-widgets/base",
            "_model_module_version": "1.2.0",
            "_model_name": "LayoutModel",
            "_view_count": null,
            "_view_module": "@jupyter-widgets/base",
            "_view_module_version": "1.2.0",
            "_view_name": "LayoutView",
            "align_content": null,
            "align_items": null,
            "align_self": null,
            "border": null,
            "bottom": null,
            "display": null,
            "flex": null,
            "flex_flow": null,
            "grid_area": null,
            "grid_auto_columns": null,
            "grid_auto_flow": null,
            "grid_auto_rows": null,
            "grid_column": null,
            "grid_gap": null,
            "grid_row": null,
            "grid_template_areas": null,
            "grid_template_columns": null,
            "grid_template_rows": null,
            "height": null,
            "justify_content": null,
            "justify_items": null,
            "left": null,
            "margin": null,
            "max_height": null,
            "max_width": null,
            "min_height": null,
            "min_width": null,
            "object_fit": null,
            "object_position": null,
            "order": null,
            "overflow": null,
            "overflow_x": null,
            "overflow_y": null,
            "padding": null,
            "right": null,
            "top": null,
            "visibility": null,
            "width": null
          }
        },
        "eb7310fd45c34d0baa56935cf7df6a83": {
          "model_module": "@jupyter-widgets/base",
          "model_name": "LayoutModel",
          "model_module_version": "1.2.0",
          "state": {
            "_model_module": "@jupyter-widgets/base",
            "_model_module_version": "1.2.0",
            "_model_name": "LayoutModel",
            "_view_count": null,
            "_view_module": "@jupyter-widgets/base",
            "_view_module_version": "1.2.0",
            "_view_name": "LayoutView",
            "align_content": null,
            "align_items": null,
            "align_self": null,
            "border": null,
            "bottom": null,
            "display": null,
            "flex": null,
            "flex_flow": null,
            "grid_area": null,
            "grid_auto_columns": null,
            "grid_auto_flow": null,
            "grid_auto_rows": null,
            "grid_column": null,
            "grid_gap": null,
            "grid_row": null,
            "grid_template_areas": null,
            "grid_template_columns": null,
            "grid_template_rows": null,
            "height": null,
            "justify_content": null,
            "justify_items": null,
            "left": null,
            "margin": null,
            "max_height": null,
            "max_width": null,
            "min_height": null,
            "min_width": null,
            "object_fit": null,
            "object_position": null,
            "order": null,
            "overflow": null,
            "overflow_x": null,
            "overflow_y": null,
            "padding": null,
            "right": null,
            "top": null,
            "visibility": null,
            "width": null
          }
        },
        "99a8f4e081974498877264ea0972454d": {
          "model_module": "@jupyter-widgets/controls",
          "model_name": "DescriptionStyleModel",
          "model_module_version": "1.5.0",
          "state": {
            "_model_module": "@jupyter-widgets/controls",
            "_model_module_version": "1.5.0",
            "_model_name": "DescriptionStyleModel",
            "_view_count": null,
            "_view_module": "@jupyter-widgets/base",
            "_view_module_version": "1.2.0",
            "_view_name": "StyleView",
            "description_width": ""
          }
        },
        "6ce1d09e2f3f4745b271d75264dc0f3d": {
          "model_module": "@jupyter-widgets/base",
          "model_name": "LayoutModel",
          "model_module_version": "1.2.0",
          "state": {
            "_model_module": "@jupyter-widgets/base",
            "_model_module_version": "1.2.0",
            "_model_name": "LayoutModel",
            "_view_count": null,
            "_view_module": "@jupyter-widgets/base",
            "_view_module_version": "1.2.0",
            "_view_name": "LayoutView",
            "align_content": null,
            "align_items": null,
            "align_self": null,
            "border": null,
            "bottom": null,
            "display": null,
            "flex": null,
            "flex_flow": null,
            "grid_area": null,
            "grid_auto_columns": null,
            "grid_auto_flow": null,
            "grid_auto_rows": null,
            "grid_column": null,
            "grid_gap": null,
            "grid_row": null,
            "grid_template_areas": null,
            "grid_template_columns": null,
            "grid_template_rows": null,
            "height": null,
            "justify_content": null,
            "justify_items": null,
            "left": null,
            "margin": null,
            "max_height": null,
            "max_width": null,
            "min_height": null,
            "min_width": null,
            "object_fit": null,
            "object_position": null,
            "order": null,
            "overflow": null,
            "overflow_x": null,
            "overflow_y": null,
            "padding": null,
            "right": null,
            "top": null,
            "visibility": null,
            "width": null
          }
        },
        "e2fa1fc4c5974d078a2a224ff117883e": {
          "model_module": "@jupyter-widgets/controls",
          "model_name": "ProgressStyleModel",
          "model_module_version": "1.5.0",
          "state": {
            "_model_module": "@jupyter-widgets/controls",
            "_model_module_version": "1.5.0",
            "_model_name": "ProgressStyleModel",
            "_view_count": null,
            "_view_module": "@jupyter-widgets/base",
            "_view_module_version": "1.2.0",
            "_view_name": "StyleView",
            "bar_color": null,
            "description_width": ""
          }
        },
        "33fe15b49a5c4328b3929f2a44aa2888": {
          "model_module": "@jupyter-widgets/base",
          "model_name": "LayoutModel",
          "model_module_version": "1.2.0",
          "state": {
            "_model_module": "@jupyter-widgets/base",
            "_model_module_version": "1.2.0",
            "_model_name": "LayoutModel",
            "_view_count": null,
            "_view_module": "@jupyter-widgets/base",
            "_view_module_version": "1.2.0",
            "_view_name": "LayoutView",
            "align_content": null,
            "align_items": null,
            "align_self": null,
            "border": null,
            "bottom": null,
            "display": null,
            "flex": null,
            "flex_flow": null,
            "grid_area": null,
            "grid_auto_columns": null,
            "grid_auto_flow": null,
            "grid_auto_rows": null,
            "grid_column": null,
            "grid_gap": null,
            "grid_row": null,
            "grid_template_areas": null,
            "grid_template_columns": null,
            "grid_template_rows": null,
            "height": null,
            "justify_content": null,
            "justify_items": null,
            "left": null,
            "margin": null,
            "max_height": null,
            "max_width": null,
            "min_height": null,
            "min_width": null,
            "object_fit": null,
            "object_position": null,
            "order": null,
            "overflow": null,
            "overflow_x": null,
            "overflow_y": null,
            "padding": null,
            "right": null,
            "top": null,
            "visibility": null,
            "width": null
          }
        },
        "9a5407473fc9473aaf878d7e8d507731": {
          "model_module": "@jupyter-widgets/controls",
          "model_name": "DescriptionStyleModel",
          "model_module_version": "1.5.0",
          "state": {
            "_model_module": "@jupyter-widgets/controls",
            "_model_module_version": "1.5.0",
            "_model_name": "DescriptionStyleModel",
            "_view_count": null,
            "_view_module": "@jupyter-widgets/base",
            "_view_module_version": "1.2.0",
            "_view_name": "StyleView",
            "description_width": ""
          }
        }
      }
    }
  },
  "nbformat": 4,
  "nbformat_minor": 0
}